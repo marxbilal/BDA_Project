{
 "cells": [
  {
   "cell_type": "markdown",
   "id": "4e838b79-18aa-4e86-a868-d46ba499bc13",
   "metadata": {},
   "source": [
    "## Pipeline"
   ]
  },
  {
   "cell_type": "markdown",
   "id": "f76a6ec5-2cc5-497c-a28c-a30e06f3f4cb",
   "metadata": {},
   "source": [
    "1. Import libraries \n",
    "2. Load data from file\n",
    "3. Load Stopwords\n",
    "4. Timestamp filter\n",
    "5. Search Keyword filter\n",
    "6. Pre-processing\n",
    "    - Removing symbols/links\n",
    "    - Removing stopwords\n",
    "    - Removing duplicates\n",
    "    - Lemmatization\n",
    "7. TF-IDF Vectorization\n",
    "8. Clustering\n",
    "    - Elbow curve & Silhouette score\n",
    "    - Making clusters\n",
    "    - Top 5 tweets in each cluster\n",
    "9. Word Cloud\n",
    "10. LDA"
   ]
  },
  {
   "cell_type": "markdown",
   "id": "b6918621-178f-49ed-ba0c-15dd2e7ae3a1",
   "metadata": {
    "tags": []
   },
   "source": [
    "## Importing libraries"
   ]
  },
  {
   "cell_type": "code",
   "execution_count": 1,
   "id": "cd3a70f8",
   "metadata": {},
   "outputs": [],
   "source": [
    "import stanza\n",
    "import urduhack\n",
    "\n",
    "import pandas as pd\n",
    "import re\n",
    "import numpy as np\n",
    "from urduhack import normalize\n",
    "from urduhack.normalization import normalize_characters\n",
    "from urduhack.preprocessing import normalize_whitespace\n",
    "from urduhack.preprocessing import remove_punctuation\n",
    "from urduhack.preprocessing import replace_urls\n",
    "from urduhack.preprocessing import replace_emails\n",
    "from urduhack.preprocessing import replace_numbers\n",
    "from urduhack.preprocessing import remove_english_alphabets\n",
    "from urduhack.normalization import remove_diacritics\n",
    "\n",
    "from sklearn import datasets\n",
    "from sklearn.metrics import silhouette_score\n",
    "import matplotlib.pyplot as mtp    \n",
    "from sklearn.cluster import KMeans\n",
    "from sklearn.decomposition import PCA\n",
    "from sklearn.preprocessing import normalize as sklearn_normalize\n",
    "from sklearn.feature_extraction.text import TfidfVectorizer\n",
    "from sklearn.metrics import pairwise_distances\n",
    "\n",
    "from wordcloud import WordCloud\n",
    "from bidi.algorithm import get_display\n",
    "from arabic_reshaper import ArabicReshaper\n",
    "\n",
    "from bs4 import BeautifulSoup\n",
    "from scipy.stats import multivariate_normal as mvn\n",
    "\n",
    "import matplotlib.pyplot as plt\n",
    "import seaborn as sns\n",
    "import os\n",
    "import random\n",
    "import string\n",
    "import warnings\n",
    "warnings.filterwarnings('ignore')"
   ]
  },
  {
   "cell_type": "markdown",
   "id": "c3bda5a2-8804-49fb-832b-1566595ed09f",
   "metadata": {
    "tags": []
   },
   "source": [
    "## Loading Data & Stopwords"
   ]
  },
  {
   "cell_type": "code",
   "execution_count": 2,
   "id": "60f97039",
   "metadata": {},
   "outputs": [],
   "source": [
    "df = pd.read_csv('tweets.csv',encoding='utf-8',error_bad_lines=False)"
   ]
  },
  {
   "cell_type": "code",
   "execution_count": 3,
   "id": "b1f8cf4d",
   "metadata": {},
   "outputs": [],
   "source": [
    "del df[\"Unnamed: 0\"]\n",
    "df['timestamp'] = pd.to_datetime(df['timestamp'], format='%a %b %d %H:%M:%S +0000 %Y')"
   ]
  },
  {
   "cell_type": "code",
   "execution_count": 4,
   "id": "d663c8eb-9256-46f4-b6c2-c7a8ff4f660b",
   "metadata": {},
   "outputs": [],
   "source": [
    "# stopwords\n",
    "stop_word = \"نہیں نے ہاں ہر ہم ہمارا ہمارے ہماری ہو ہوا ہوتا ہوتے ہوتی ہوتیں ہوں ہونا ہونگے ہونے ہونی ہوئے ہوئی ہوئیں ہے ہی ہیں والا والوں والے والی وہ وہاں وہی وہیں یا یعنی یہ یہاں یہی یہیں اب ابھی اپنا اپنے اپنی اس اسے اسی اگر ان انہوں انہی انہیں او اور اے ایسا ایسے ایسی ایک آپ آتا آتے آتی آگے آنا آنے آنی آئے آئی آئیں آیا با بڑا بڑے بڑی بعد بعض بلکہ بہت بھی بے پاس پر پہلے پھر تا تاکہ تب تجھ تجھے تک تم تمام تمہارا تمہارے تمھارے تمہاری تمہیں تمھیں تھا تھے تھی تھیں تو تیری تیرے جا جاتا جاتی جاتے جاتی جانے جانی جاؤ جائے جائیں جب جس جن جنہوں جنہیں جو جیسا جیسے جیسی جیسوں چاہیئے چلا چاہے چونکہ حالانکہ دو دونوں دوں دے دی دیا دیں دیے دیتا دیتے دیتی دینا دینے دینی دیئے ڈالا ڈالنا ڈالنے ڈالنی ڈالے ڈالی ذرا رکھا رکھتا رکھتے رکھتی رکھنا رکھنے رکھے رکھی رہ رہا رہتا رہتے رہتی رہنا رہنے رہنی رہو رہے رہی رہیں زیادہ سا سامنے سب سکتا سو سے سی شاید صرف طرح طرف عین کا کبھی کچھ کہہ کر کرتا کرتے کرتی کرنا کرنے کرو کروں کرے کریں کس کسے کسی کہ کہا کہے کو کون کوئی کے کی کیا کیسے کیوں کیونکہ کیے کئے گا گویا گے گی گیا گئے گئی لا لاتا لاتے لاتی لانا لانے لانی لایا لائے لائی لگا لگے لگی لگیں لو لے لی لیا لیتا لیتے لیتی لیکن لیں لیے لئے مجھ مجھے مگر میرا میرے میری میں نا نہ نہایت\""
   ]
  },
  {
   "cell_type": "code",
   "execution_count": 5,
   "id": "ae328956-ac90-4212-abb9-377540876254",
   "metadata": {},
   "outputs": [],
   "source": [
    "def remove_duplicate_words(string):\n",
    "        x = string.split()\n",
    "        x = sorted(set(x), key = x.index)\n",
    "        return ' '.join(x)"
   ]
  },
  {
   "cell_type": "code",
   "execution_count": 6,
   "id": "4659e5ea-ffa5-4580-9480-46a5db670eaa",
   "metadata": {},
   "outputs": [],
   "source": [
    "# removing duplicates from stop_words list\n",
    "stop_word = remove_duplicate_words(stop_word)\n",
    "stop_word = stop_word.split()"
   ]
  },
  {
   "cell_type": "markdown",
   "id": "09f5f3d7-6d23-49cd-86a4-4993b6b70211",
   "metadata": {
    "tags": []
   },
   "source": [
    "## Timestamp filter"
   ]
  },
  {
   "cell_type": "code",
   "execution_count": 7,
   "id": "49309b89-9f2a-4094-93f9-702b414c9128",
   "metadata": {},
   "outputs": [],
   "source": [
    "def timestamp_filter(start,end,dft):\n",
    "    filteredTw = []\n",
    "    filteredTm = []\n",
    "    for i in range(0,len(dft)):\n",
    "        if (dft['timestamp'][i] >= start) & (dft['timestamp'][i] <= end):\n",
    "            filteredTw.append(dft['tweets'][i])\n",
    "            filteredTm.append(dft['timestamp'][i])\n",
    "    filtered = pd.DataFrame()\n",
    "    if(filteredTm and filteredTw is not None):\n",
    "        filtered['tweets'] = pd.DataFrame(filteredTw)\n",
    "        filtered['timestamp'] = pd.DataFrame(filteredTm)\n",
    "    else:\n",
    "        print(\"No values found, returning default\")\n",
    "        return dft\n",
    "    \n",
    "#     filtered = dft[(dft['timestamp'] >= start) & (dft['timestamp'] <= end)]\n",
    "    return filtered"
   ]
  },
  {
   "cell_type": "code",
   "execution_count": 8,
   "id": "4387f2fc-7570-4c20-bed2-34c3327d7fa6",
   "metadata": {},
   "outputs": [],
   "source": [
    "# Applying timestamp filter on original dataset\n",
    "\n",
    "splitdf = timestamp_filter(pd.Timestamp(2022,4,10,20,9,57),pd.Timestamp(2022,4,10,20,9,59),df)\n",
    "#splitdf\n",
    "\n",
    "\n",
    "#df2 = pd.DataFrame(sent_p,columns = [\"tweets\"])\n",
    "#df2['timestamp'] = pd.to_datetime(df['timestamp'], format='%a %b %d %H:%M:%S +0000 %Y')\n",
    "# splitdf2 = timestamp_filter(pd.Timestamp(2022,4,10,20,9,5),pd.Timestamp(2022,4,10,20,9,59),df2)\n"
   ]
  },
  {
   "cell_type": "markdown",
   "id": "3e969c15-66b0-4237-965f-bcd3760928bd",
   "metadata": {
    "tags": []
   },
   "source": [
    "## Keyword Filter"
   ]
  },
  {
   "cell_type": "code",
   "execution_count": 9,
   "id": "570988ac-c05f-444d-a31b-73c9256dcf3b",
   "metadata": {},
   "outputs": [],
   "source": [
    "def keyword_filter(df, keyword):\n",
    "    filteredTw = []\n",
    "    filteredTm = []\n",
    "    for i in range(0,len(df)):\n",
    "        current_tweet =df['tweets'][i] \n",
    "        if (keyword in current_tweet):\n",
    "            filteredTw.append(df['tweets'][i])\n",
    "            filteredTm.append(df['timestamp'][i])\n",
    "    filtered = pd.DataFrame()\n",
    "    if(filteredTm and filteredTw is not None):\n",
    "        filtered['tweets'] = pd.DataFrame(filteredTw)\n",
    "        filtered['timestamp'] = pd.DataFrame(filteredTm)\n",
    "    else:\n",
    "        print(\"No values found, returning default\")\n",
    "        return df    \n",
    "    return filtered"
   ]
  },
  {
   "cell_type": "markdown",
   "id": "c8389e84",
   "metadata": {
    "tags": []
   },
   "source": [
    "## Pre-Processing"
   ]
  },
  {
   "cell_type": "code",
   "execution_count": 10,
   "id": "81de489a",
   "metadata": {},
   "outputs": [
    {
     "name": "stderr",
     "output_type": "stream",
     "text": [
      "2022-05-12 14:26:41 INFO: Loading these models for language: ur (Urdu):\n",
      "=======================\n",
      "| Processor | Package |\n",
      "-----------------------\n",
      "| tokenize  | udtb    |\n",
      "| lemma     | udtb    |\n",
      "=======================\n",
      "\n",
      "2022-05-12 14:26:41 INFO: Use device: cpu\n",
      "2022-05-12 14:26:41 INFO: Loading: tokenize\n",
      "2022-05-12 14:26:41 INFO: Loading: lemma\n",
      "2022-05-12 14:26:41 INFO: Done loading processors!\n"
     ]
    }
   ],
   "source": [
    "nlp = stanza.Pipeline(lang='ur', processors='tokenize,lemma')"
   ]
  },
  {
   "cell_type": "code",
   "execution_count": 11,
   "id": "688ac37c",
   "metadata": {
    "tags": []
   },
   "outputs": [],
   "source": [
    "def preprocess(word):\n",
    "#    word = re.sub(\"\\W\", \" \",word)\n",
    "#    word = re.sub(\"[a-zA-Z0-9]\",\"\",word)\n",
    "    word = normalize_characters(word)\n",
    "    word = remove_punctuation(word)\n",
    "    word = normalize_whitespace(word)\n",
    "    word = replace_urls(word)\n",
    "    word = replace_emails(word)\n",
    "    word = remove_diacritics(word)\n",
    "    word = normalize(word)\n",
    "    word = replace_numbers(word)\n",
    "    word = remove_english_alphabets(word)\n",
    "    #STanza lemmentization normalize\n",
    "    \n",
    "    doc = nlp(word)\n",
    "    a = doc.to_dict()\n",
    "    if(len(a) != 0):\n",
    "        a = a[0]\n",
    "        word = ''\n",
    "        for i in a:\n",
    "            if not i['lemma'] in stop_word:\n",
    "                if(i['id']==(a[-1]['id'])):\n",
    "                    word=word+i['lemma']\n",
    "                else:\n",
    "                    word = word+i['lemma']+' '\n",
    "    \n",
    "    return word"
   ]
  },
  {
   "cell_type": "code",
   "execution_count": 12,
   "id": "05935e78",
   "metadata": {},
   "outputs": [],
   "source": [
    "# Applying pre-processing on original_dataframe to remove links, symbols, duplicates and stopwords\n",
    "def preprocess_df(original_df):\n",
    "    unprocessed_tweets = []\n",
    "    for i in range(len(original_df.index)):\n",
    "        tweet = original_df[original_df.columns[0]][i]\n",
    "        unprocessed_tweets.append(tweet)\n",
    "\n",
    "    preprocessed_tweets =[]\n",
    "    for tweet in unprocessed_tweets:\n",
    "        preprocessed_tweets.append(preprocess(tweet))\n",
    "\n",
    "    preprocessed_df = pd.DataFrame(preprocessed_tweets,columns = [\"tweets\"])\n",
    "    preprocessed_df['timestamp'] = pd.to_datetime(original_df['timestamp'], format='%a %b %d %H:%M:%S +0000 %Y')\n",
    "\n",
    "    return preprocessed_df"
   ]
  },
  {
   "cell_type": "code",
   "execution_count": 13,
   "id": "592c8346-919d-46b3-9e8b-62a62c0a0998",
   "metadata": {},
   "outputs": [
    {
     "data": {
      "text/html": [
       "<div>\n",
       "<style scoped>\n",
       "    .dataframe tbody tr th:only-of-type {\n",
       "        vertical-align: middle;\n",
       "    }\n",
       "\n",
       "    .dataframe tbody tr th {\n",
       "        vertical-align: top;\n",
       "    }\n",
       "\n",
       "    .dataframe thead th {\n",
       "        text-align: right;\n",
       "    }\n",
       "</style>\n",
       "<table border=\"1\" class=\"dataframe\">\n",
       "  <thead>\n",
       "    <tr style=\"text-align: right;\">\n",
       "      <th></th>\n",
       "      <th>tweets</th>\n",
       "      <th>timestamp</th>\n",
       "    </tr>\n",
       "  </thead>\n",
       "  <tbody>\n",
       "    <tr>\n",
       "      <th>0</th>\n",
       "      <td>آپکی رائے تحریک انصاف اسمبلی مستعفی چاہیے</td>\n",
       "      <td>2022-04-10 20:09:57</td>\n",
       "    </tr>\n",
       "    <tr>\n",
       "      <th>1</th>\n",
       "      <td>جگر لالہ ٹھنڈک شبنم دریا دل دہل طوفان لحظہ موم...</td>\n",
       "      <td>2022-04-10 20:09:57</td>\n",
       "    </tr>\n",
       "    <tr>\n",
       "      <th>2</th>\n",
       "      <td>شہباز شریف کاغذہ نامزدگی منظور ایف آئ پہلا آرڈ...</td>\n",
       "      <td>2022-04-10 20:09:57</td>\n",
       "    </tr>\n",
       "    <tr>\n",
       "      <th>3</th>\n",
       "      <td>عمران خان ووٹر چھوٹا سال سارا ووٹس آج و</td>\n",
       "      <td>2022-04-10 20:09:57</td>\n",
       "    </tr>\n",
       "    <tr>\n",
       "      <th>4</th>\n",
       "      <td>غیر جمہوری غیر آئینی طریقہ نکال جمہوری ائینی ط...</td>\n",
       "      <td>2022-04-10 20:09:57</td>\n",
       "    </tr>\n",
       "    <tr>\n",
       "      <th>5</th>\n",
       "      <td>پاکستان تاریخ پہلا دفعہ چیف آف آرمی سٹاف شدید ...</td>\n",
       "      <td>2022-04-10 20:09:57</td>\n",
       "    </tr>\n",
       "    <tr>\n",
       "      <th>6</th>\n",
       "      <td>راولپنڈی لوگ سڑک پہ چھتہ پاکستان شہر سمیت دنیا...</td>\n",
       "      <td>2022-04-10 20:09:57</td>\n",
       "    </tr>\n",
       "    <tr>\n",
       "      <th>7</th>\n",
       "      <td>لوگ باہر لوگ نکل جلسا ملک باہر بغیر لیڈر خود خ...</td>\n",
       "      <td>2022-04-10 20:09:57</td>\n",
       "    </tr>\n",
       "    <tr>\n",
       "      <th>8</th>\n",
       "      <td>میڈیا بلیک آوٹ کروا اکھاڑ الٹا مزید نقاب آج جن...</td>\n",
       "      <td>2022-04-10 20:09:57</td>\n",
       "    </tr>\n",
       "    <tr>\n",
       "      <th>9</th>\n",
       "      <td>شمع فروزاں آندھی ڈراتا شمع فروزاں پروانہ ہزار ...</td>\n",
       "      <td>2022-04-10 20:09:58</td>\n",
       "    </tr>\n",
       "    <tr>\n",
       "      <th>10</th>\n",
       "      <td>تیز</td>\n",
       "      <td>2022-04-10 20:09:58</td>\n",
       "    </tr>\n",
       "    <tr>\n",
       "      <th>11</th>\n",
       "      <td>لوگ باہر لوگ نکل جلسا ملک باہر بغیر لیڈر خود خ...</td>\n",
       "      <td>2022-04-10 20:09:58</td>\n",
       "    </tr>\n",
       "    <tr>\n",
       "      <th>12</th>\n",
       "      <td>یزید جیت مطلب حسین ہار برحق کےلیے اکثریت درکار...</td>\n",
       "      <td>2022-04-10 20:09:58</td>\n",
       "    </tr>\n",
       "    <tr>\n",
       "      <th>13</th>\n",
       "      <td>پولیس رینجرز گزارش ممکن راستہ کھلوا یوتھی بچہ ...</td>\n",
       "      <td>2022-04-10 20:09:58</td>\n",
       "    </tr>\n",
       "    <tr>\n",
       "      <th>14</th>\n",
       "      <td>لاہور لبرٹی مارکیٹ پسندیدہ ہوٹل سینڈوچ منگوانا...</td>\n",
       "      <td>2022-04-10 20:09:58</td>\n",
       "    </tr>\n",
       "    <tr>\n",
       "      <th>15</th>\n",
       "      <td>وقت باجوہ</td>\n",
       "      <td>2022-04-10 20:09:58</td>\n",
       "    </tr>\n",
       "    <tr>\n",
       "      <th>16</th>\n",
       "      <td>اتنا احتجاج میڈیا دکھ رہاکس ویسےکوئی فرق پڑ می...</td>\n",
       "      <td>2022-04-10 20:09:58</td>\n",
       "    </tr>\n",
       "    <tr>\n",
       "      <th>17</th>\n",
       "      <td>عرض سیاست فیصلہ عدالت کوشش تباہ کن سمجھ آ آج ب...</td>\n",
       "      <td>2022-04-10 20:09:58</td>\n",
       "    </tr>\n",
       "    <tr>\n",
       "      <th>18</th>\n",
       "      <td>خلاف تحریک عدم اعتماد کامیاب ہوگئی آ قوم اعتما...</td>\n",
       "      <td>2022-04-10 20:09:58</td>\n",
       "    </tr>\n",
       "    <tr>\n",
       "      <th>19</th>\n",
       "      <td>بھکاری تیرا باپ پاکستانی</td>\n",
       "      <td>2022-04-10 20:09:59</td>\n",
       "    </tr>\n",
       "    <tr>\n",
       "      <th>20</th>\n",
       "      <td>حیی قیوم انشاء پاکستان جیت انشاء انشاء عمران خ...</td>\n",
       "      <td>2022-04-10 20:09:58</td>\n",
       "    </tr>\n",
       "    <tr>\n",
       "      <th>21</th>\n",
       "      <td>عمران خان رخصت میڈیا خصوصا چینلز خوداحتسابی ضر...</td>\n",
       "      <td>2022-04-10 20:09:59</td>\n",
       "    </tr>\n",
       "    <tr>\n",
       "      <th>22</th>\n",
       "      <td>رسول اللہ صلی اللہ علیہ وسلم فرما جنت دروازہ ر...</td>\n",
       "      <td>2022-04-10 20:09:59</td>\n",
       "    </tr>\n",
       "    <tr>\n",
       "      <th>23</th>\n",
       "      <td>آ نسل خودار آزادی پسند بنا عمران غلامانہ سوچ خ...</td>\n",
       "      <td>2022-04-10 20:09:59</td>\n",
       "    </tr>\n",
       "    <tr>\n",
       "      <th>24</th>\n",
       "      <td>حسابباقیہے غازی صاحب محبت شفقت شکریہ اللہ پاک ...</td>\n",
       "      <td>2022-04-10 20:09:59</td>\n",
       "    </tr>\n",
       "    <tr>\n",
       "      <th>25</th>\n",
       "      <td>لاہور لبرٹی مارکیٹ پسندیدہ ہوٹل سینڈوچ منگوانا...</td>\n",
       "      <td>2022-04-10 20:09:59</td>\n",
       "    </tr>\n",
       "    <tr>\n",
       "      <th>26</th>\n",
       "      <td>جناب آج ٹویٹ شہر حق نکلا جواب</td>\n",
       "      <td>2022-04-10 20:09:59</td>\n",
       "    </tr>\n",
       "    <tr>\n",
       "      <th>27</th>\n",
       "      <td>چینل اینکرز رولنگ مسترد عدم منظور اتنا زور لگ ...</td>\n",
       "      <td>2022-04-10 20:09:59</td>\n",
       "    </tr>\n",
       "    <tr>\n",
       "      <th>28</th>\n",
       "      <td>بھکاری تیرا باپ پاکستانی</td>\n",
       "      <td>2022-04-10 20:09:59</td>\n",
       "    </tr>\n",
       "    <tr>\n",
       "      <th>29</th>\n",
       "      <td>لوگ باہر لوگ نکل جلسا ملک باہر بغیر لیڈر خود خ...</td>\n",
       "      <td>2022-04-10 20:09:59</td>\n",
       "    </tr>\n",
       "    <tr>\n",
       "      <th>30</th>\n",
       "      <td>لاہور لبرٹی مارکیٹ پسندیدہ ہوٹل سینڈوچ منگوانا...</td>\n",
       "      <td>2022-04-10 20:09:59</td>\n",
       "    </tr>\n",
       "    <tr>\n",
       "      <th>31</th>\n",
       "      <td>ساڑھے تین سال پوچھ بتا پورا نظام مخالف الیکشن</td>\n",
       "      <td>2022-04-10 20:09:59</td>\n",
       "    </tr>\n",
       "    <tr>\n",
       "      <th>32</th>\n",
       "      <td>پاکستان سٹیک ہولڈرز منہ زوردار تھپڑ محسوس حس</td>\n",
       "      <td>2022-04-10 20:09:59</td>\n",
       "    </tr>\n",
       "    <tr>\n",
       "      <th>33</th>\n",
       "      <td>اللہ احتجاج اثر ہوورنہ کمپرومائزڈ جائئں اثر نھی</td>\n",
       "      <td>2022-04-10 20:09:59</td>\n",
       "    </tr>\n",
       "  </tbody>\n",
       "</table>\n",
       "</div>"
      ],
      "text/plain": [
       "                                               tweets           timestamp\n",
       "0          آپکی رائے تحریک انصاف اسمبلی مستعفی چاہیے  2022-04-10 20:09:57\n",
       "1   جگر لالہ ٹھنڈک شبنم دریا دل دہل طوفان لحظہ موم... 2022-04-10 20:09:57\n",
       "2   شہباز شریف کاغذہ نامزدگی منظور ایف آئ پہلا آرڈ... 2022-04-10 20:09:57\n",
       "3             عمران خان ووٹر چھوٹا سال سارا ووٹس آج و 2022-04-10 20:09:57\n",
       "4   غیر جمہوری غیر آئینی طریقہ نکال جمہوری ائینی ط... 2022-04-10 20:09:57\n",
       "5   پاکستان تاریخ پہلا دفعہ چیف آف آرمی سٹاف شدید ... 2022-04-10 20:09:57\n",
       "6   راولپنڈی لوگ سڑک پہ چھتہ پاکستان شہر سمیت دنیا... 2022-04-10 20:09:57\n",
       "7   لوگ باہر لوگ نکل جلسا ملک باہر بغیر لیڈر خود خ... 2022-04-10 20:09:57\n",
       "8   میڈیا بلیک آوٹ کروا اکھاڑ الٹا مزید نقاب آج جن... 2022-04-10 20:09:57\n",
       "9   شمع فروزاں آندھی ڈراتا شمع فروزاں پروانہ ہزار ... 2022-04-10 20:09:58\n",
       "10                                               تیز  2022-04-10 20:09:58\n",
       "11  لوگ باہر لوگ نکل جلسا ملک باہر بغیر لیڈر خود خ... 2022-04-10 20:09:58\n",
       "12  یزید جیت مطلب حسین ہار برحق کےلیے اکثریت درکار... 2022-04-10 20:09:58\n",
       "13  پولیس رینجرز گزارش ممکن راستہ کھلوا یوتھی بچہ ... 2022-04-10 20:09:58\n",
       "14  لاہور لبرٹی مارکیٹ پسندیدہ ہوٹل سینڈوچ منگوانا... 2022-04-10 20:09:58\n",
       "15                                         وقت باجوہ  2022-04-10 20:09:58\n",
       "16  اتنا احتجاج میڈیا دکھ رہاکس ویسےکوئی فرق پڑ می... 2022-04-10 20:09:58\n",
       "17  عرض سیاست فیصلہ عدالت کوشش تباہ کن سمجھ آ آج ب... 2022-04-10 20:09:58\n",
       "18  خلاف تحریک عدم اعتماد کامیاب ہوگئی آ قوم اعتما... 2022-04-10 20:09:58\n",
       "19                          بھکاری تیرا باپ پاکستانی  2022-04-10 20:09:59\n",
       "20  حیی قیوم انشاء پاکستان جیت انشاء انشاء عمران خ... 2022-04-10 20:09:58\n",
       "21  عمران خان رخصت میڈیا خصوصا چینلز خوداحتسابی ضر... 2022-04-10 20:09:59\n",
       "22  رسول اللہ صلی اللہ علیہ وسلم فرما جنت دروازہ ر... 2022-04-10 20:09:59\n",
       "23  آ نسل خودار آزادی پسند بنا عمران غلامانہ سوچ خ... 2022-04-10 20:09:59\n",
       "24  حسابباقیہے غازی صاحب محبت شفقت شکریہ اللہ پاک ... 2022-04-10 20:09:59\n",
       "25  لاہور لبرٹی مارکیٹ پسندیدہ ہوٹل سینڈوچ منگوانا... 2022-04-10 20:09:59\n",
       "26                     جناب آج ٹویٹ شہر حق نکلا جواب  2022-04-10 20:09:59\n",
       "27  چینل اینکرز رولنگ مسترد عدم منظور اتنا زور لگ ... 2022-04-10 20:09:59\n",
       "28                          بھکاری تیرا باپ پاکستانی  2022-04-10 20:09:59\n",
       "29  لوگ باہر لوگ نکل جلسا ملک باہر بغیر لیڈر خود خ... 2022-04-10 20:09:59\n",
       "30  لاہور لبرٹی مارکیٹ پسندیدہ ہوٹل سینڈوچ منگوانا... 2022-04-10 20:09:59\n",
       "31      ساڑھے تین سال پوچھ بتا پورا نظام مخالف الیکشن 2022-04-10 20:09:59\n",
       "32      پاکستان سٹیک ہولڈرز منہ زوردار تھپڑ محسوس حس  2022-04-10 20:09:59\n",
       "33   اللہ احتجاج اثر ہوورنہ کمپرومائزڈ جائئں اثر نھی  2022-04-10 20:09:59"
      ]
     },
     "execution_count": 13,
     "metadata": {},
     "output_type": "execute_result"
    }
   ],
   "source": [
    "preprocessed_splitdf = preprocess_df(splitdf)\n",
    "preprocessed_splitdf"
   ]
  },
  {
   "cell_type": "markdown",
   "id": "3770222f",
   "metadata": {
    "tags": []
   },
   "source": [
    "## TF-IDF"
   ]
  },
  {
   "cell_type": "code",
   "execution_count": 14,
   "id": "f0c0c864",
   "metadata": {},
   "outputs": [],
   "source": [
    "def tf_idf_vectorization(dataframe):\n",
    "    tf_idf_vectorizor = TfidfVectorizer(max_features = 5000)\n",
    "    tf_idf = tf_idf_vectorizor.fit_transform(dataframe['tweets'][:])\n",
    "    tf_idf_norm = sklearn_normalize(tf_idf)\n",
    "    tf_idf_array = tf_idf_norm.toarray()\n",
    "    #pd.DataFrame(tf_idf_array, columns=tf_idf_vectorizor.get_feature_names())\n",
    "    return tf_idf_array, tf_idf_vectorizor"
   ]
  },
  {
   "cell_type": "code",
   "execution_count": 15,
   "id": "67e22aa8-8f68-42fd-8315-4d19f00da345",
   "metadata": {},
   "outputs": [],
   "source": [
    "tf_idf_array,tf_idf_vectorizor = tf_idf_vectorization(preprocessed_splitdf)"
   ]
  },
  {
   "cell_type": "markdown",
   "id": "7c2b2b9e-3e20-43ae-b5f3-e7953335b3ad",
   "metadata": {
    "tags": []
   },
   "source": [
    "## Elbow Curve & Silhouette Score"
   ]
  },
  {
   "cell_type": "code",
   "execution_count": 16,
   "id": "422be66d-135a-4c6f-bfb9-79ed27a059c5",
   "metadata": {},
   "outputs": [],
   "source": [
    "def elbowCurve(tf_idf):\n",
    "    wcss_list= []  #Initializing the list for the values of WCSS  \n",
    "  \n",
    "    #Using for loop for iterations from 1 to 10.  \n",
    "    for i in range(1, 15):  \n",
    "        kmeans = KMeans(n_clusters=i, init='k-means++', random_state= 42)  \n",
    "        kmeans.fit(tf_idf)  \n",
    "        wcss_list.append(kmeans.inertia_)  \n",
    "    mtp.plot(range(1, 15), wcss_list)  \n",
    "    mtp.title('The Elobw Method Graph')  \n",
    "    mtp.xlabel('Number of clusters(k)')  \n",
    "    mtp.ylabel('wcss_list')  \n",
    "    mtp.show()"
   ]
  },
  {
   "cell_type": "code",
   "execution_count": 17,
   "id": "5c99ea45-9966-4f3e-9584-b2bf65795311",
   "metadata": {},
   "outputs": [
    {
     "data": {
      "image/png": "[encoded data removed]",
      "text/plain": [
       "<Figure size 432x288 with 1 Axes>"
      ]
     },
     "metadata": {
      "needs_background": "light"
     },
     "output_type": "display_data"
    }
   ],
   "source": [
    "#finding optimal number of clusters using the elbow method  \n",
    "elbowCurve(tf_idf_array)"
   ]
  },
  {
   "cell_type": "code",
   "execution_count": 31,
   "id": "36cd12ff-7a4f-4747-8a5e-3f062423a837",
   "metadata": {},
   "outputs": [],
   "source": [
    "def silhouetteScore(tf_idf_array, k):\n",
    "    range_n_clusters = range(2,k)\n",
    "    silhouette_avg = []\n",
    "    for i in range_n_clusters:\n",
    "        kmeans = KMeans(n_clusters=i, random_state= 42)  \n",
    "        kmeans.fit(tf_idf_array)  \n",
    "        score = silhouette_score(tf_idf_array, kmeans.labels_, metric='euclidean')\n",
    "        silhouette_avg.append(score)\n",
    "        #print(i,'Silhouetter Score: %.3f' % score)    \n",
    "    silhouette_avg\n",
    "    plt.plot(range_n_clusters,silhouette_avg,'bx-')\n",
    "    plt.xlabel('Values of K') \n",
    "    plt.ylabel('Silhouette score') \n",
    "    plt.title('Silhouette analysis For Optimal k')\n",
    "    plt.show()\n",
    "    \n",
    "    max_value = max(silhouette_avg)\n",
    "    max_index =silhouette_avg.index(max_value)-2\n",
    "    #print(max_value,max_index)\n",
    "    #print(silhouette_avg)\n",
    "    return max_index"
   ]
  },
  {
   "cell_type": "code",
   "execution_count": 32,
   "id": "23c1d67f-1c44-4ced-a75e-f2f76ea39c70",
   "metadata": {},
   "outputs": [
    {
     "data": {
      "image/png": "[encoded data removed]",
      "text/plain": [
       "<Figure size 432x288 with 1 Axes>"
      ]
     },
     "metadata": {
      "needs_background": "light"
     },
     "output_type": "display_data"
    },
    {
     "name": "stdout",
     "output_type": "stream",
     "text": [
      "10\n"
     ]
    }
   ],
   "source": [
    "max_score_index = silhouetteScore(tf_idf_array,15)\n",
    "print(max_score_index)"
   ]
  },
  {
   "cell_type": "markdown",
   "id": "141e5c4f",
   "metadata": {
    "tags": []
   },
   "source": [
    "## Clustering "
   ]
  },
  {
   "cell_type": "code",
   "execution_count": 33,
   "id": "77526130-1a0f-4af1-8b73-49047062abc7",
   "metadata": {},
   "outputs": [],
   "source": [
    "k = max_score_index\n",
    "model = KMeans(n_clusters=k)\n",
    "labels = model.fit(tf_idf_array)"
   ]
  },
  {
   "cell_type": "code",
   "execution_count": 34,
   "id": "6eb68ad1-eaea-4095-9df4-a7954a2427fe",
   "metadata": {},
   "outputs": [
    {
     "name": "stdout",
     "output_type": "stream",
     "text": [
      "Top terms per cluster:\n",
      "Cluster 0:\n",
      " تیز\n",
      " باجوہ\n",
      " وقت\n",
      " شمع\n",
      " فروزاں\n",
      " امپورٹڈگورمنٹنامنظور\n",
      " شریف\n",
      " شہباز\n",
      " آج\n",
      " شبنم\n",
      "Cluster 1:\n",
      " پاکستان\n",
      " حق\n",
      " شہر\n",
      " عمران\n",
      " ٹویٹ\n",
      " جناب\n",
      " جواب\n",
      " نکلا\n",
      " ہولڈرز\n",
      " محسوس\n",
      "Cluster 2:\n",
      " باہر\n",
      " لوگ\n",
      " بغیر\n",
      " خود\n",
      " حال\n",
      " جلسا\n",
      " نام\n",
      " شر\n",
      " لیڈر\n",
      " نکل\n",
      "Cluster 3:\n",
      " کہاں\n",
      " اللہ\n",
      " انشاء\n",
      " جیت\n",
      " دروازہ\n",
      " عمران\n",
      " وسلم\n",
      " علیہ\n",
      " آمین\n",
      " صاحب\n",
      "Cluster 4:\n",
      " اثر\n",
      " احتجاج\n",
      " اتنا\n",
      " دکھ\n",
      " ویسےکوئی\n",
      " رہاکس\n",
      " میڈیادیکھتا\n",
      " پڑ\n",
      " فرق\n",
      " نھی\n",
      "Cluster 5:\n",
      " راستہ\n",
      " سینڈوچ\n",
      " سوشل\n",
      " مارکیٹ\n",
      " لبرٹی\n",
      " بند\n",
      " لاہور\n",
      " پسندیدہ\n",
      " دنگ\n",
      " دیکھ\n",
      "Cluster 6:\n",
      " تحریک\n",
      " اعتماد\n",
      " چاہیے\n",
      " اسمبلی\n",
      " مستعفی\n",
      " رائے\n",
      " آپکی\n",
      " انصاف\n",
      " خلاف\n",
      " ہوگئی\n",
      "Cluster 7:\n",
      " جمہوری\n",
      " نکال\n",
      " طریقہ\n",
      " غیر\n",
      " ائینی\n",
      " پتہ\n",
      " ھے\n",
      " چور\n",
      " آئینی\n",
      " چل\n",
      "Cluster 8:\n",
      " تیرا\n",
      " پاکستانی\n",
      " بھکاری\n",
      " باپ\n",
      " درکار\n",
      " دروازہ\n",
      " دا\n",
      " خوشی\n",
      " خوش\n",
      " خان\n",
      "Cluster 9:\n",
      " سال\n",
      " ووٹر\n",
      " سارا\n",
      " چھوٹا\n",
      " ووٹس\n",
      " پورا\n",
      " الیکشن\n",
      " بتا\n",
      " مخالف\n",
      " تین\n"
     ]
    }
   ],
   "source": [
    "print(\"Top terms per cluster:\")\n",
    "order_centroids = model.cluster_centers_.argsort()[:, ::-1]\n",
    "terms = tf_idf_vectorizor.get_feature_names()\n",
    "for i in range(k):\n",
    "    print(\"Cluster %d:\" % i)\n",
    "    for ind in order_centroids[i, :10]:\n",
    "        print(' %s' % terms[ind])"
   ]
  },
  {
   "cell_type": "code",
   "execution_count": 35,
   "id": "94db5358-a1a8-4846-b166-6a56817e29b6",
   "metadata": {},
   "outputs": [],
   "source": [
    "sklearn_pca = PCA(n_components = 2)\n",
    "Y_sklearn = sklearn_pca.fit_transform(tf_idf_array)\n",
    "kmodel = model.fit(Y_sklearn)\n",
    "predicted_values = model.labels_"
   ]
  },
  {
   "cell_type": "code",
   "execution_count": 36,
   "id": "bcaf81d6-0f03-457d-8bd1-f193d5443695",
   "metadata": {},
   "outputs": [
    {
     "data": {
      "text/plain": [
       "<matplotlib.collections.PathCollection at 0x1b6d2a74fd0>"
      ]
     },
     "execution_count": 36,
     "metadata": {},
     "output_type": "execute_result"
    },
    {
     "data": {
      "image/png": "[encoded data removed]",
      "text/plain": [
       "<Figure size 432x288 with 1 Axes>"
      ]
     },
     "metadata": {
      "needs_background": "light"
     },
     "output_type": "display_data"
    }
   ],
   "source": [
    "plt.scatter(Y_sklearn[:, 0], Y_sklearn[:, 1], c=predicted_values, s=50, cmap='viridis')"
   ]
  },
  {
   "cell_type": "code",
   "execution_count": 37,
   "id": "c0f4b752-48ed-44ca-bf95-6013d914a2ce",
   "metadata": {},
   "outputs": [],
   "source": [
    "clusters = []\n",
    "for i in range(k):\n",
    "    clusters.append([])\n",
    "\n",
    "for i,row in splitdf.iterrows():\n",
    "    clusters[predicted_values[i]].append(row['tweets'])"
   ]
  },
  {
   "cell_type": "code",
   "execution_count": 39,
   "id": "93503aab-bf9f-4fb1-8bc2-13cab35516d4",
   "metadata": {},
   "outputs": [
    {
     "name": "stdout",
     "output_type": "stream",
     "text": [
      "Cluster: 0\n",
      "RT @FaisalJavedKhan: آپکی رائے میں کیا تحریک انصاف کو اسمبلی سے مستعفیٰ ہو جانا چاہیے یا نہیں ؟\n",
      "\n",
      "RT @Abdulla78487680: جس سے جگر لالہ میں ٹھنڈک ہو وہ شبنم\n",
      "\n",
      "دریاؤں کے دل جس سے دہل جائیں وہ طوفان،\n",
      "\n",
      "ہر لحظہ ہے مومن.\n",
      "\n",
      "#امپورٹڈ_گورمنٹ_نامنظور…\n",
      "\n",
      "RT @fawadchaudhry: شہباز شریف کے کاغذات نامزدگی منظور ہونے کے بعد ایف آئ اے سے پہلا آرڈر یہ ہوا ہے کہ کل وکلاء کی ٹیم شہباز شریف کے مقدمے م…\n",
      "\n",
      "پہلے والے غیر جمہوری اور غیر آئینی طریقے سے نکالے گئے ۔ اس کو جمہوری ائینی طریقے سے نکالا گیا ۔ \n",
      "یہ تو اب پتہ چلے گا کہ کون چور ھے\n",
      "\n",
      "RT @ImranRiazFan_: پاکستان کی تاریخ میں پہلی دفعہ کوئی چیف آف آرمی سٹاف شدید ترین ذلت کے ساتھ رخصت ہو گا\n",
      "\n",
      "Cluster: 1\n",
      "RT @haroon_natamam: لاہور میں میں ہوں۔ لبرٹی مارکیٹ میں اپنے پسندیدہ ہوٹل سے سینڈوچ منگوانا تھا۔ راستے مگر بند ہیں۔ سوشل میڈیا دیکھا تو دنگ…\n",
      "\n",
      "RT @haroon_natamam: لاہور میں میں ہوں۔ لبرٹی مارکیٹ میں اپنے پسندیدہ ہوٹل سے سینڈوچ منگوانا تھا۔ راستے مگر بند ہیں۔ سوشل میڈیا دیکھا تو دنگ…\n",
      "\n",
      "RT @haroon_natamam: لاہور میں میں ہوں۔ لبرٹی مارکیٹ میں اپنے پسندیدہ ہوٹل سے سینڈوچ منگوانا تھا۔ راستے مگر بند ہیں۔ سوشل میڈیا دیکھا تو دنگ…\n",
      "\n",
      "Cluster: 2\n",
      "RT @SSEHBAI1: لوگ باہر: جیسے لوگ نکل رہے ہیں, جلسے ملک اور باہر بغیر لیڈر کے ہو رہے ہیں، جب خود خان باہرایگا تو کیا حال ہوگا - یہ نام کے شر…\n",
      "\n",
      "RT @SSEHBAI1: لوگ باہر: جیسے لوگ نکل رہے ہیں, جلسے ملک اور باہر بغیر لیڈر کے ہو رہے ہیں، جب خود خان باہرایگا تو کیا حال ہوگا - یہ نام کے شر…\n",
      "\n",
      "RT @SSEHBAI1: لوگ باہر: جیسے لوگ نکل رہے ہیں, جلسے ملک اور باہر بغیر لیڈر کے ہو رہے ہیں، جب خود خان باہرایگا تو کیا حال ہوگا - یہ نام کے شر…\n",
      "\n",
      "Cluster: 3\n",
      "RT @MirMAKOfficial: بِھکاری ہو گا تیرا باپ۔ ہم پاکستانی ہیں۔\n",
      "\n",
      "RT @MirMAKOfficial: بِھکاری ہو گا تیرا باپ۔ ہم پاکستانی ہیں۔\n",
      "\n",
      "Cluster: 4\n",
      "RT @fawadchaudhry: میں نے عرض کیا تھا سیاست کے فیصلے عدالتوں میں کرنے کی کوشش تباہ کن ہو گی، جن کو سمجھ نہیں آ رہی تھی آج باہر نکلیں اور عو…\n",
      "\n",
      "Cluster: 5\n",
      "RT @HHsirHKBaloch: میڈیا بلیک آوٹ کروا کر کیا اکھاڑ لیا ؟؟ الٹا مزید بے نقاب ہو گئے\n",
      "آج کی جنریشن معلومات کیلئے آپکے \"جیونیوز\" کی محتاج نہیں…\n",
      "\n",
      "RT @Muhamma15007911: پولیس رینجرز سے گزارش ہے کہ جیسے بھی ممکن ہو وہ راستے کھلوائیں ان یوتھیوں سے بچوں نے سکول جانا بیماروں کی ایمبولینس پھ…\n",
      "\n",
      "RT @aliya_hamza: اتنے بڑے احتجاج کو میڈیا کیوں نہیں دکھا رہا؟کس کے کہنے پر ایسا ہو رہا ہے؟\n",
      "ویسےکوئی فرق نہیں پڑتا selected میڈیادیکھتا کون…\n",
      "\n",
      "Cluster: 6\n",
      "RT @haroon_natamam: راولپنڈی میں لوگ سڑکوں پہ ہیں یا چھتوں پر۔ پاکستان کے تمام شہروں سمیت دنیا بھر میں عمران خاں کے حق میں مظاہرے۔  حالات م…\n",
      "\n",
      "Cluster: 7\n",
      "RT @Sarfraz053: @MaddyWithKhan عمران خان نے کہا تھا، میرا ووٹر ابھی چھوٹا ہے ۔ لیکن جب وہ 18 سال کا ہوگا تو سارے ووٹس میرے ہوں گے ۔ آج وہ و…\n",
      "\n",
      "RT @samiabrahim_: جانے والوں کے خلاف تحریک عدم اعتماد تو کامیاب ہوگئی مگر آنے والوں پر بھی قوم کو اعتماد نہیں ہے۔ خوشی اس دن ہوگی جب ملک کی…\n",
      "\n",
      "Cluster: 8\n",
      "RT @AnsarAAbbasi: عمران خان تو رخصت ہو گئے۔ اب میڈیا اور خصوصا دو چینلز اپنی خوداحتسابی ضرور کر لیں کہ کہاں کہاں حب عمران اور کہاں کہاں بغض…\n",
      "\n",
      "Cluster: 9\n",
      "@ImranKhanPTI یا حیی یا قیوم (انشاءاللہ پاکستان جیتے گا انشاءاللہ (انشاءاللہ عمران خان سرخرو ہو گا آقا کریم صل اللہ علیہ وسلم کے صدقے (آمین ثم آمین https://t.co/jv1mDIXTBR\n",
      "\n"
     ]
    }
   ],
   "source": [
    "for i in range(len(clusters)):\n",
    "    print(\"Cluster: \" + str(i))\n",
    "    for j in range(min(len(clusters[i]),5)):\n",
    "        print(clusters[i][j]+'\\n')"
   ]
  },
  {
   "cell_type": "code",
   "execution_count": null,
   "id": "3e142847-836e-42d6-9bd6-7155ffe2e88b",
   "metadata": {},
   "outputs": [],
   "source": []
  },
  {
   "cell_type": "markdown",
   "id": "02047e24",
   "metadata": {
    "jp-MarkdownHeadingCollapsed": true,
    "tags": []
   },
   "source": [
    "## TAG Clound"
   ]
  },
  {
   "cell_type": "code",
   "execution_count": 55,
   "id": "6f4a70f3",
   "metadata": {},
   "outputs": [],
   "source": [
    "def create_tag_cloud(df):\n",
    "    configuration = {\n",
    "        \"language\": \"Urdu\"\n",
    "    }\n",
    "    reshaper = ArabicReshaper(configuration=configuration)\n",
    "\n",
    "    tweets_text = \" \".join(tweet for tweet in df['tweets'])\n",
    "    text = reshaper.reshape(tweets_text)\n",
    "    text = get_display(text)\n",
    "\n",
    "    word_cloud = WordCloud(collocations = False, background_color = 'white', \n",
    "                           scale=5,\n",
    "                           max_font_size=70,\n",
    "                           font_path='NotoNaskhArabic-Regular.ttf').generate(text)\n",
    "    plt.axis(\"off\")\n",
    "    plt.imshow(word_cloud, interpolation=\"bilinear\")\n",
    "    "
   ]
  },
  {
   "cell_type": "code",
   "execution_count": 56,
   "id": "b87a8df3-e975-4bb7-a6c8-89572b031b5a",
   "metadata": {},
   "outputs": [
    {
     "data": {
      "image/png": "[encoded data removed]",
      "text/plain": [
       "<Figure size 432x288 with 1 Axes>"
      ]
     },
     "metadata": {
      "needs_background": "light"
     },
     "output_type": "display_data"
    }
   ],
   "source": [
    "create_tag_cloud(preprocessed_splitdf)"
   ]
  },
  {
   "cell_type": "markdown",
   "id": "c1a0cee5-0e13-4074-9e49-0f438e8aeb70",
   "metadata": {
    "jp-MarkdownHeadingCollapsed": true,
    "tags": []
   },
   "source": [
    "## Topic Modeling - Latent Dirichlet Allocation"
   ]
  },
  {
   "cell_type": "code",
   "execution_count": 57,
   "id": "f19e6b5c-554a-44b2-bb3e-c4a70e61c7db",
   "metadata": {},
   "outputs": [
    {
     "name": "stderr",
     "output_type": "stream",
     "text": [
      "[nltk_data] Downloading package wordnet to\n",
      "[nltk_data]     C:\\Users\\mhsin\\AppData\\Roaming\\nltk_data...\n",
      "[nltk_data]   Package wordnet is already up-to-date!\n"
     ]
    },
    {
     "data": {
      "text/plain": [
       "True"
      ]
     },
     "execution_count": 57,
     "metadata": {},
     "output_type": "execute_result"
    }
   ],
   "source": [
    "import gensim\n",
    "from gensim.utils import simple_preprocess\n",
    "from gensim.parsing.preprocessing import STOPWORDS\n",
    "from nltk.stem import WordNetLemmatizer, SnowballStemmer\n",
    "from nltk.stem.porter import *\n",
    "import numpy as np\n",
    "np.random.seed(2018)\n",
    "import nltk\n",
    "nltk.download('wordnet')"
   ]
  },
  {
   "cell_type": "code",
   "execution_count": 108,
   "id": "fdd84133-2fae-4e35-94a4-9fb64f47977b",
   "metadata": {},
   "outputs": [],
   "source": [
    "tweets_df = preprocessed_splitdf[['tweets']]\n",
    "#tweets_df = tweets_df[['tweets']]\n",
    "tweets_df['index'] = tweets_df.index\n",
    "documents = tweets_df"
   ]
  },
  {
   "cell_type": "code",
   "execution_count": 109,
   "id": "e6f2fa61-19d9-44b8-8a99-99622babde9d",
   "metadata": {},
   "outputs": [
    {
     "data": {
      "text/html": [
       "<div>\n",
       "<style scoped>\n",
       "    .dataframe tbody tr th:only-of-type {\n",
       "        vertical-align: middle;\n",
       "    }\n",
       "\n",
       "    .dataframe tbody tr th {\n",
       "        vertical-align: top;\n",
       "    }\n",
       "\n",
       "    .dataframe thead th {\n",
       "        text-align: right;\n",
       "    }\n",
       "</style>\n",
       "<table border=\"1\" class=\"dataframe\">\n",
       "  <thead>\n",
       "    <tr style=\"text-align: right;\">\n",
       "      <th></th>\n",
       "      <th>tweets</th>\n",
       "      <th>index</th>\n",
       "    </tr>\n",
       "  </thead>\n",
       "  <tbody>\n",
       "    <tr>\n",
       "      <th>0</th>\n",
       "      <td>آپکی رائے تحریک انصاف اسمبلی مستعفی چاہیے</td>\n",
       "      <td>0</td>\n",
       "    </tr>\n",
       "    <tr>\n",
       "      <th>1</th>\n",
       "      <td>جگر لالہ ٹھنڈک شبنم دریا دل دہل طوفان لحظہ موم...</td>\n",
       "      <td>1</td>\n",
       "    </tr>\n",
       "    <tr>\n",
       "      <th>2</th>\n",
       "      <td>شہباز شریف کاغذہ نامزدگی منظور ایف آئ پہلا آرڈ...</td>\n",
       "      <td>2</td>\n",
       "    </tr>\n",
       "    <tr>\n",
       "      <th>3</th>\n",
       "      <td>عمران خان ووٹر چھوٹا سال سارا ووٹس آج و</td>\n",
       "      <td>3</td>\n",
       "    </tr>\n",
       "    <tr>\n",
       "      <th>4</th>\n",
       "      <td>غیر جمہوری غیر آئینی طریقہ نکال جمہوری ائینی ط...</td>\n",
       "      <td>4</td>\n",
       "    </tr>\n",
       "    <tr>\n",
       "      <th>5</th>\n",
       "      <td>پاکستان تاریخ پہلا دفعہ چیف آف آرمی سٹاف شدید ...</td>\n",
       "      <td>5</td>\n",
       "    </tr>\n",
       "    <tr>\n",
       "      <th>6</th>\n",
       "      <td>راولپنڈی لوگ سڑک پہ چھتہ پاکستان شہر سمیت دنیا...</td>\n",
       "      <td>6</td>\n",
       "    </tr>\n",
       "    <tr>\n",
       "      <th>7</th>\n",
       "      <td>لوگ باہر لوگ نکل جلسا ملک باہر بغیر لیڈر خود خ...</td>\n",
       "      <td>7</td>\n",
       "    </tr>\n",
       "    <tr>\n",
       "      <th>8</th>\n",
       "      <td>میڈیا بلیک آوٹ کروا اکھاڑ الٹا مزید نقاب آج جن...</td>\n",
       "      <td>8</td>\n",
       "    </tr>\n",
       "    <tr>\n",
       "      <th>9</th>\n",
       "      <td>شمع فروزاں آندھی ڈراتا شمع فروزاں پروانہ ہزار ...</td>\n",
       "      <td>9</td>\n",
       "    </tr>\n",
       "    <tr>\n",
       "      <th>10</th>\n",
       "      <td>تیز</td>\n",
       "      <td>10</td>\n",
       "    </tr>\n",
       "    <tr>\n",
       "      <th>11</th>\n",
       "      <td>لوگ باہر لوگ نکل جلسا ملک باہر بغیر لیڈر خود خ...</td>\n",
       "      <td>11</td>\n",
       "    </tr>\n",
       "    <tr>\n",
       "      <th>12</th>\n",
       "      <td>یزید جیت مطلب حسین ہار برحق کےلیے اکثریت درکار...</td>\n",
       "      <td>12</td>\n",
       "    </tr>\n",
       "    <tr>\n",
       "      <th>13</th>\n",
       "      <td>پولیس رینجرز گزارش ممکن راستہ کھلوا یوتھی بچہ ...</td>\n",
       "      <td>13</td>\n",
       "    </tr>\n",
       "    <tr>\n",
       "      <th>14</th>\n",
       "      <td>لاہور لبرٹی مارکیٹ پسندیدہ ہوٹل سینڈوچ منگوانا...</td>\n",
       "      <td>14</td>\n",
       "    </tr>\n",
       "    <tr>\n",
       "      <th>15</th>\n",
       "      <td>وقت باجوہ</td>\n",
       "      <td>15</td>\n",
       "    </tr>\n",
       "    <tr>\n",
       "      <th>16</th>\n",
       "      <td>اتنا احتجاج میڈیا دکھ رہاکس ویسےکوئی فرق پڑ می...</td>\n",
       "      <td>16</td>\n",
       "    </tr>\n",
       "    <tr>\n",
       "      <th>17</th>\n",
       "      <td>عرض سیاست فیصلہ عدالت کوشش تباہ کن سمجھ آ آج ب...</td>\n",
       "      <td>17</td>\n",
       "    </tr>\n",
       "    <tr>\n",
       "      <th>18</th>\n",
       "      <td>خلاف تحریک عدم اعتماد کامیاب ہوگئی آ قوم اعتما...</td>\n",
       "      <td>18</td>\n",
       "    </tr>\n",
       "    <tr>\n",
       "      <th>19</th>\n",
       "      <td>بھکاری تیرا باپ پاکستانی</td>\n",
       "      <td>19</td>\n",
       "    </tr>\n",
       "    <tr>\n",
       "      <th>20</th>\n",
       "      <td>حیی قیوم انشاء پاکستان جیت انشاء انشاء عمران خ...</td>\n",
       "      <td>20</td>\n",
       "    </tr>\n",
       "    <tr>\n",
       "      <th>21</th>\n",
       "      <td>عمران خان رخصت میڈیا خصوصا چینلز خوداحتسابی ضر...</td>\n",
       "      <td>21</td>\n",
       "    </tr>\n",
       "    <tr>\n",
       "      <th>22</th>\n",
       "      <td>رسول اللہ صلی اللہ علیہ وسلم فرما جنت دروازہ ر...</td>\n",
       "      <td>22</td>\n",
       "    </tr>\n",
       "    <tr>\n",
       "      <th>23</th>\n",
       "      <td>آ نسل خودار آزادی پسند بنا عمران غلامانہ سوچ خ...</td>\n",
       "      <td>23</td>\n",
       "    </tr>\n",
       "    <tr>\n",
       "      <th>24</th>\n",
       "      <td>حسابباقیہے غازی صاحب محبت شفقت شکریہ اللہ پاک ...</td>\n",
       "      <td>24</td>\n",
       "    </tr>\n",
       "    <tr>\n",
       "      <th>25</th>\n",
       "      <td>لاہور لبرٹی مارکیٹ پسندیدہ ہوٹل سینڈوچ منگوانا...</td>\n",
       "      <td>25</td>\n",
       "    </tr>\n",
       "    <tr>\n",
       "      <th>26</th>\n",
       "      <td>جناب آج ٹویٹ شہر حق نکلا جواب</td>\n",
       "      <td>26</td>\n",
       "    </tr>\n",
       "    <tr>\n",
       "      <th>27</th>\n",
       "      <td>چینل اینکرز رولنگ مسترد عدم منظور اتنا زور لگ ...</td>\n",
       "      <td>27</td>\n",
       "    </tr>\n",
       "    <tr>\n",
       "      <th>28</th>\n",
       "      <td>بھکاری تیرا باپ پاکستانی</td>\n",
       "      <td>28</td>\n",
       "    </tr>\n",
       "    <tr>\n",
       "      <th>29</th>\n",
       "      <td>لوگ باہر لوگ نکل جلسا ملک باہر بغیر لیڈر خود خ...</td>\n",
       "      <td>29</td>\n",
       "    </tr>\n",
       "    <tr>\n",
       "      <th>30</th>\n",
       "      <td>لاہور لبرٹی مارکیٹ پسندیدہ ہوٹل سینڈوچ منگوانا...</td>\n",
       "      <td>30</td>\n",
       "    </tr>\n",
       "    <tr>\n",
       "      <th>31</th>\n",
       "      <td>ساڑھے تین سال پوچھ بتا پورا نظام مخالف الیکشن</td>\n",
       "      <td>31</td>\n",
       "    </tr>\n",
       "    <tr>\n",
       "      <th>32</th>\n",
       "      <td>پاکستان سٹیک ہولڈرز منہ زوردار تھپڑ محسوس حس</td>\n",
       "      <td>32</td>\n",
       "    </tr>\n",
       "    <tr>\n",
       "      <th>33</th>\n",
       "      <td>اللہ احتجاج اثر ہوورنہ کمپرومائزڈ جائئں اثر نھی</td>\n",
       "      <td>33</td>\n",
       "    </tr>\n",
       "  </tbody>\n",
       "</table>\n",
       "</div>"
      ],
      "text/plain": [
       "                                               tweets  index\n",
       "0          آپکی رائے تحریک انصاف اسمبلی مستعفی چاہیے       0\n",
       "1   جگر لالہ ٹھنڈک شبنم دریا دل دہل طوفان لحظہ موم...      1\n",
       "2   شہباز شریف کاغذہ نامزدگی منظور ایف آئ پہلا آرڈ...      2\n",
       "3             عمران خان ووٹر چھوٹا سال سارا ووٹس آج و      3\n",
       "4   غیر جمہوری غیر آئینی طریقہ نکال جمہوری ائینی ط...      4\n",
       "5   پاکستان تاریخ پہلا دفعہ چیف آف آرمی سٹاف شدید ...      5\n",
       "6   راولپنڈی لوگ سڑک پہ چھتہ پاکستان شہر سمیت دنیا...      6\n",
       "7   لوگ باہر لوگ نکل جلسا ملک باہر بغیر لیڈر خود خ...      7\n",
       "8   میڈیا بلیک آوٹ کروا اکھاڑ الٹا مزید نقاب آج جن...      8\n",
       "9   شمع فروزاں آندھی ڈراتا شمع فروزاں پروانہ ہزار ...      9\n",
       "10                                               تیز      10\n",
       "11  لوگ باہر لوگ نکل جلسا ملک باہر بغیر لیڈر خود خ...     11\n",
       "12  یزید جیت مطلب حسین ہار برحق کےلیے اکثریت درکار...     12\n",
       "13  پولیس رینجرز گزارش ممکن راستہ کھلوا یوتھی بچہ ...     13\n",
       "14  لاہور لبرٹی مارکیٹ پسندیدہ ہوٹل سینڈوچ منگوانا...     14\n",
       "15                                         وقت باجوہ      15\n",
       "16  اتنا احتجاج میڈیا دکھ رہاکس ویسےکوئی فرق پڑ می...     16\n",
       "17  عرض سیاست فیصلہ عدالت کوشش تباہ کن سمجھ آ آج ب...     17\n",
       "18  خلاف تحریک عدم اعتماد کامیاب ہوگئی آ قوم اعتما...     18\n",
       "19                          بھکاری تیرا باپ پاکستانی      19\n",
       "20  حیی قیوم انشاء پاکستان جیت انشاء انشاء عمران خ...     20\n",
       "21  عمران خان رخصت میڈیا خصوصا چینلز خوداحتسابی ضر...     21\n",
       "22  رسول اللہ صلی اللہ علیہ وسلم فرما جنت دروازہ ر...     22\n",
       "23  آ نسل خودار آزادی پسند بنا عمران غلامانہ سوچ خ...     23\n",
       "24  حسابباقیہے غازی صاحب محبت شفقت شکریہ اللہ پاک ...     24\n",
       "25  لاہور لبرٹی مارکیٹ پسندیدہ ہوٹل سینڈوچ منگوانا...     25\n",
       "26                     جناب آج ٹویٹ شہر حق نکلا جواب      26\n",
       "27  چینل اینکرز رولنگ مسترد عدم منظور اتنا زور لگ ...     27\n",
       "28                          بھکاری تیرا باپ پاکستانی      28\n",
       "29  لوگ باہر لوگ نکل جلسا ملک باہر بغیر لیڈر خود خ...     29\n",
       "30  لاہور لبرٹی مارکیٹ پسندیدہ ہوٹل سینڈوچ منگوانا...     30\n",
       "31      ساڑھے تین سال پوچھ بتا پورا نظام مخالف الیکشن     31\n",
       "32      پاکستان سٹیک ہولڈرز منہ زوردار تھپڑ محسوس حس      32\n",
       "33   اللہ احتجاج اثر ہوورنہ کمپرومائزڈ جائئں اثر نھی      33"
      ]
     },
     "execution_count": 109,
     "metadata": {},
     "output_type": "execute_result"
    }
   ],
   "source": [
    "tweets_df"
   ]
  },
  {
   "cell_type": "code",
   "execution_count": 110,
   "id": "cbefd28c-7cf6-4fa8-abcf-7f7a6c77f45a",
   "metadata": {},
   "outputs": [],
   "source": [
    "def preprocess_text(text):\n",
    "    result = []\n",
    "    for token in gensim.utils.simple_preprocess(text):\n",
    "        if token not in gensim.parsing.preprocessing.STOPWORDS and len(token) > 3:\n",
    "            result.append(token)\n",
    "    return result"
   ]
  },
  {
   "cell_type": "code",
   "execution_count": 111,
   "id": "230489af-0bbd-49b8-9a14-8fb5a0121f6f",
   "metadata": {},
   "outputs": [
    {
     "data": {
      "text/plain": [
       "0    [آپکی, رائے, تحریک, انصاف, اسمبلی, مستعفی, چاہیے]\n",
       "1         [لالہ, ٹھنڈک, شبنم, دریا, طوفان, لحظہ, مومن]\n",
       "2    [شہباز, شریف, کاغذہ, نامزدگی, منظور, پہلا, آرڈ...\n",
       "3                     [عمران, ووٹر, چھوٹا, سارا, ووٹس]\n",
       "4    [جمہوری, آئینی, طریقہ, نکال, جمہوری, ائینی, طر...\n",
       "5    [پاکستان, تاریخ, پہلا, دفعہ, آرمی, سٹاف, شدید,...\n",
       "6    [راولپنڈی, چھتہ, پاکستان, سمیت, دنیا, عمران, م...\n",
       "7             [باہر, جلسا, باہر, بغیر, لیڈر, باہرایگا]\n",
       "8    [میڈیا, بلیک, کروا, اکھاڑ, الٹا, مزید, نقاب, ج...\n",
       "9         [فروزاں, آندھی, ڈراتا, فروزاں, پروانہ, ہزار]\n",
       "Name: tweets, dtype: object"
      ]
     },
     "execution_count": 111,
     "metadata": {},
     "output_type": "execute_result"
    }
   ],
   "source": [
    "processed_docs = documents['tweets'].map(preprocess_text)\n",
    "processed_docs[:10]"
   ]
  },
  {
   "cell_type": "code",
   "execution_count": 112,
   "id": "31afa244-1f84-43ff-aef7-93c7c8a3a78b",
   "metadata": {},
   "outputs": [
    {
     "name": "stdout",
     "output_type": "stream",
     "text": [
      "0 آپکی\n",
      "1 اسمبلی\n",
      "2 انصاف\n",
      "3 تحریک\n",
      "4 رائے\n",
      "5 مستعفی\n",
      "6 چاہیے\n",
      "7 دریا\n",
      "8 شبنم\n",
      "9 طوفان\n",
      "10 لالہ\n"
     ]
    }
   ],
   "source": [
    "dictionary = gensim.corpora.Dictionary(processed_docs)\n",
    "count = 0\n",
    "for k, v in dictionary.iteritems():\n",
    "    print(k, v)\n",
    "    count += 1\n",
    "    if count > 10:\n",
    "        break"
   ]
  },
  {
   "cell_type": "code",
   "execution_count": null,
   "id": "a4e1ccd1-41ac-44eb-aba6-e9aa63696a00",
   "metadata": {},
   "outputs": [],
   "source": []
  },
  {
   "cell_type": "code",
   "execution_count": 124,
   "id": "b5ca2309-a42d-4dbf-b559-84c6e072bd4d",
   "metadata": {},
   "outputs": [
    {
     "data": {
      "text/plain": [
       "[[],\n",
       " [],\n",
       " [],\n",
       " [],\n",
       " [],\n",
       " [],\n",
       " [],\n",
       " [],\n",
       " [],\n",
       " [],\n",
       " [],\n",
       " [],\n",
       " [],\n",
       " [],\n",
       " [],\n",
       " [],\n",
       " [],\n",
       " [],\n",
       " [],\n",
       " [],\n",
       " [],\n",
       " [],\n",
       " [],\n",
       " [],\n",
       " [],\n",
       " [],\n",
       " [],\n",
       " [],\n",
       " [],\n",
       " [],\n",
       " [],\n",
       " [],\n",
       " [],\n",
       " []]"
      ]
     },
     "execution_count": 124,
     "metadata": {},
     "output_type": "execute_result"
    }
   ],
   "source": [
    "bow_corpus = [dictionary.doc2bow(doc) for doc in processed_docs]\n",
    "bow_corpus"
   ]
  },
  {
   "cell_type": "code",
   "execution_count": null,
   "id": "5381daee-9518-41b1-b88a-cd31e4a856c3",
   "metadata": {},
   "outputs": [],
   "source": []
  }
 ],
 "metadata": {
  "kernelspec": {
   "display_name": "Python 3 (ipykernel)",
   "language": "python",
   "name": "python3"
  },
  "language_info": {
   "codemirror_mode": {
    "name": "ipython",
    "version": 3
   },
   "file_extension": ".py",
   "mimetype": "text/x-python",
   "name": "python",
   "nbconvert_exporter": "python",
   "pygments_lexer": "ipython3",
   "version": "3.9.7"
  }
 },
 "nbformat": 4,
 "nbformat_minor": 5
}
