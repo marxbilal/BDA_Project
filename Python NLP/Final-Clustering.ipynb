{
 "cells": [
  {
   "cell_type": "code",
   "execution_count": 1,
   "id": "9959c4e8",
   "metadata": {},
   "outputs": [
    {
     "name": "stderr",
     "output_type": "stream",
     "text": [
      "c:\\users\\bilawal ali\\appdata\\local\\programs\\python\\python37\\lib\\site-packages\\tensorflow_addons\\utils\\ensure_tf_install.py:67: UserWarning: Tensorflow Addons supports using Python ops for all Tensorflow versions above or equal to 2.5.0 and strictly below 2.8.0 (nightly versions are not supported). \n",
      " The versions of TensorFlow you are currently using is 2.8.0 and is not supported. \n",
      "Some things might work, some things might not.\n",
      "If you were to encounter a bug, do not file an issue.\n",
      "If you want to make sure you're using a tested and supported configuration, either change the TensorFlow version or the TensorFlow Addons's version. \n",
      "You can find the compatibility matrix in TensorFlow Addon's readme:\n",
      "https://github.com/tensorflow/addons\n",
      "  UserWarning,\n"
     ]
    }
   ],
   "source": [
    "import stanza\n",
    "import urduhack\n",
    "\n",
    "import pandas as pd\n",
    "import re\n",
    "import numpy as np\n",
    "from urduhack import normalize\n",
    "from urduhack.preprocessing import normalize_whitespace\n",
    "from urduhack.preprocessing import remove_punctuation\n",
    "from urduhack.preprocessing import replace_urls\n",
    "from urduhack.preprocessing import replace_emails\n",
    "from urduhack.preprocessing import replace_numbers\n",
    "from urduhack.preprocessing import remove_english_alphabets\n",
    "\n",
    "from sklearn.cluster import KMeans\n",
    "from sklearn.preprocessing import normalize\n",
    "from sklearn.feature_extraction.text import TfidfVectorizer\n",
    "from sklearn.decomposition import PCA\n",
    "from sklearn.metrics import pairwise_distances\n",
    "\n",
    "\n",
    "from bs4 import BeautifulSoup\n",
    "from scipy.stats import multivariate_normal as mvn\n",
    "\n",
    "import matplotlib.pyplot as plt\n",
    "import seaborn as sns\n",
    "import os\n",
    "import random\n",
    "import string"
   ]
  },
  {
   "cell_type": "code",
   "execution_count": 2,
   "id": "affd43c8",
   "metadata": {},
   "outputs": [
    {
     "name": "stderr",
     "output_type": "stream",
     "text": [
      "c:\\users\\bilawal ali\\appdata\\local\\programs\\python\\python37\\lib\\site-packages\\IPython\\core\\interactiveshell.py:3441: FutureWarning: The error_bad_lines argument has been deprecated and will be removed in a future version.\n",
      "\n",
      "\n",
      "  exec(code_obj, self.user_global_ns, self.user_ns)\n"
     ]
    }
   ],
   "source": [
    "df = pd.read_csv('tweets.csv',encoding='utf-8',error_bad_lines=False)"
   ]
  },
  {
   "cell_type": "code",
   "execution_count": 3,
   "id": "00d18b03",
   "metadata": {},
   "outputs": [],
   "source": [
    "df['timestamp'] = pd.to_datetime(df['timestamp'], format='%a %b %d %H:%M:%S +0000 %Y')"
   ]
  },
  {
   "cell_type": "markdown",
   "id": "f4249170",
   "metadata": {},
   "source": [
    "# Pre-Processing"
   ]
  },
  {
   "cell_type": "code",
   "execution_count": 4,
   "id": "14ea0bbb",
   "metadata": {},
   "outputs": [
    {
     "name": "stderr",
     "output_type": "stream",
     "text": [
      "2022-04-16 20:06:21 INFO: Loading these models for language: ur (Urdu):\n",
      "=======================\n",
      "| Processor | Package |\n",
      "-----------------------\n",
      "| tokenize  | udtb    |\n",
      "| lemma     | udtb    |\n",
      "=======================\n",
      "\n",
      "2022-04-16 20:06:21 INFO: Use device: cpu\n",
      "2022-04-16 20:06:21 INFO: Loading: tokenize\n",
      "2022-04-16 20:06:21 INFO: Loading: lemma\n",
      "2022-04-16 20:06:21 INFO: Done loading processors!\n"
     ]
    }
   ],
   "source": [
    "nlp = stanza.Pipeline(lang='ur', processors='tokenize,lemma')"
   ]
  },
  {
   "cell_type": "code",
   "execution_count": 5,
   "id": "2356f69b",
   "metadata": {},
   "outputs": [],
   "source": [
    "# urdu_swords = \"ایت نہیں نے ہاں ہر ہم ہمارا ہمارے ہماری ہو ہوا ہوتا ہوتے ہوتی ہوتیں ہوں ہونا ہونگے ہونے ہونی ہوئے ہوئی ہوئیں ہے ہی ہیں و والا والوں والے والی وہ وہاں وہی وہیں یا یعنی یہ یہاں یہی یہیںاب ابھی اپنا اپنے اپنی اٹھا اس اسے اسی اگر ان انہوں انہی انہیں انھیں او اور اے ایسا ایسے ایسی ایک آ آپ آتا آتے آتی آگے آنا آنے آنی آئے آئی آئیں آیا با بڑا بڑے بڑی بعد بعض بلکہ بہت بھی بے پاس پر پہلے پھر تا تاکہ تب تجھ تجھے تک تم تمام تمہارا تمہارے تمھارے تمہاری تمہیں تمھیں تھا تھے تھی تھیں تو تیری تیرے جا جاتا جاتی جاتے جاتی جانے جانی جاؤ جائے جائیں جب جس جن جنہوں جنہیں جو جیسا جیسے جیسی جیسوں چاہیئے چلا چاہے چونکہ حالاں حالانکہ دو دونوں دوں دے دی دیا دیں دیے دیتا دیتے دیتی دینا دینے دینی دیئے ڈالا ڈالنا ڈالنے ڈالنی ڈالے ڈالی ذرا رکھا رکھتا رکھتے رکھتی رکھنا رکھنے رکھنی رکھے رکھی رہ رہا رہتا رہتے رہتی رہنا رہنے رہنی رہو رہے رہی رہیں زیادہ سا سامنے سب سکتا سو سے سی شاید صرف طرح طرف عین کا کبھی کچھ کہہ کر کرتا کرتے کرتی کرنا کرنے کرو کروں کرے کریں کس کسے کسی کہ کہا کہے کو کون کوئی کے کی کیا کیسے کیوں کیونکہ کیے کئے گا گویا گے گی گیا گئے گئی لا لاتا لاتے لاتی لانا لانے لانی لایا لائے لائی لگا لگے لگی لگیں لو لے لی لیا لیتا لیتے لیتی لیکن لیں لیے لئے مجھ مجھے مگر میرا میرے میری میں نا نہ نہایت نہیں نے ہاں ہر ہم ہمارا ہمارے ہماری ہو ہوا ہوتا ہوتے ہوتی ہوتیں ہوں ہونا ہونگے ہونے ہونی ہوئے ہوئی ہوئیں ہے ہی ہیں و والا والوں والے والی وہ وہاں وہی وہیں یا یعنی یہ یہاں یہی یہیں\"\n",
    "# stop_words = \"\"\n",
    "# doc = nlp(urdu_swords)\n",
    "# a = doc.to_dict()\n",
    "# a=a[0]\n",
    "# for i in a:\n",
    "#     stop_words=stop_words+(i['lemma'])+\" \"\n",
    "    \n",
    "# #print(stop_words)\n",
    "\n",
    "# stop_words = stop_words.split()\n",
    "# stop_words = \" \".join(sorted(set(stop_words), key=stop_words.index))\n"
   ]
  },
  {
   "cell_type": "code",
   "execution_count": 6,
   "id": "da10e72d",
   "metadata": {},
   "outputs": [],
   "source": [
    "stop_word = 'ایت نہیں نے ہاں ہر ہم مےں ہو ہے ہی و والا وہ وہاں وہی وہیں یا یعنی یہ یہاں یہیںاب ابھی اپنا اٹھ اگر او اور اے ایسا ایک آ آپ آگے آنی آئی با بڑا بڑی بعد بعض بلکہ بہت بھی بے پاس پر پہلے پھر تا تاکہ تب تجھ تو تک تمام تمہارا تمھارا تم تمھ تھا تیری تیرا جا جاؤ جب جو جیسا جیسے جیسی جیس چاہیئے چل چاہ چونکہ حالاں حالانکہ دو دوں دے دینی ڈال ڈالنا ڈالنی ذرا رکھ رکھنی رہ رہنی زیادہ سا سامنے سب سک سو سے سی شاید صرف طرح طرف عین کا کبھی کچھ کہہ کر کون کوا کوئی کہ کہا کو کیسا کیوں کیونکہ گا گویا گے گی لا لاتا لاتی لانی لائے لگ لو لے لیکن لیے لئے مجھ مگر میرا میرے میں نا نہ نہایت یہیں'\n",
    "stop_word = stop_word.split()"
   ]
  },
  {
   "cell_type": "code",
   "execution_count": 7,
   "id": "17687076",
   "metadata": {},
   "outputs": [],
   "source": [
    "def preprocess(word):\n",
    "    word = re.sub(\"\\W\", \" \",word)\n",
    "    word = re.sub(\"[a-zA-Z0-9]\",\"\",word)\n",
    "    word = normalize_whitespace(word)\n",
    "    word = remove_punctuation(word)\n",
    "    word = replace_urls(word)\n",
    "    word = replace_emails(word)\n",
    "    #word = normalize(word)\n",
    "    word = replace_numbers(word)\n",
    "    #STanza lemmentization normalize\n",
    "    \n",
    "    doc = nlp(word)\n",
    "    a = doc.to_dict()\n",
    "    if(len(a) != 0):\n",
    "        a = a[0]\n",
    "        word = ''\n",
    "        for i in a:\n",
    "            if not i['lemma'] in stop_word:\n",
    "                if(i['id']==(a[-1]['id'])):\n",
    "                    word=word+i['lemma']\n",
    "                else:\n",
    "                    word = word+i['lemma']+' '\n",
    "    \n",
    "    return word"
   ]
  },
  {
   "cell_type": "code",
   "execution_count": 8,
   "id": "95a9d267",
   "metadata": {},
   "outputs": [],
   "source": [
    "def remove_duplicate_words(string):\n",
    "        x = string.split()\n",
    "        x = sorted(set(x), key = x.index)\n",
    "        return ' '.join(x)"
   ]
  },
  {
   "cell_type": "code",
   "execution_count": 9,
   "id": "250fc85d",
   "metadata": {},
   "outputs": [
    {
     "data": {
      "text/html": [
       "<div>\n",
       "<style scoped>\n",
       "    .dataframe tbody tr th:only-of-type {\n",
       "        vertical-align: middle;\n",
       "    }\n",
       "\n",
       "    .dataframe tbody tr th {\n",
       "        vertical-align: top;\n",
       "    }\n",
       "\n",
       "    .dataframe thead th {\n",
       "        text-align: right;\n",
       "    }\n",
       "</style>\n",
       "<table border=\"1\" class=\"dataframe\">\n",
       "  <thead>\n",
       "    <tr style=\"text-align: right;\">\n",
       "      <th></th>\n",
       "      <th>Unnamed: 0</th>\n",
       "      <th>tweets</th>\n",
       "      <th>timestamp</th>\n",
       "    </tr>\n",
       "  </thead>\n",
       "  <tbody>\n",
       "    <tr>\n",
       "      <th>1</th>\n",
       "      <td>1</td>\n",
       "      <td>RT @SSEHBAI1: لوگ باہر: جیسے لوگ نکل رہے ہیں, ...</td>\n",
       "      <td>2022-04-10 20:09:56</td>\n",
       "    </tr>\n",
       "    <tr>\n",
       "      <th>2</th>\n",
       "      <td>2</td>\n",
       "      <td>RT @FaisalJavedKhan: آپکی رائے میں کیا تحریک ا...</td>\n",
       "      <td>2022-04-10 20:09:57</td>\n",
       "    </tr>\n",
       "    <tr>\n",
       "      <th>3</th>\n",
       "      <td>3</td>\n",
       "      <td>RT @Abdulla78487680: جس سے جگر لالہ میں ٹھنڈک ...</td>\n",
       "      <td>2022-04-10 20:09:57</td>\n",
       "    </tr>\n",
       "    <tr>\n",
       "      <th>4</th>\n",
       "      <td>4</td>\n",
       "      <td>RT @fawadchaudhry: شہباز شریف کے کاغذات نامزدگ...</td>\n",
       "      <td>2022-04-10 20:09:57</td>\n",
       "    </tr>\n",
       "    <tr>\n",
       "      <th>5</th>\n",
       "      <td>5</td>\n",
       "      <td>RT @Sarfraz053: @MaddyWithKhan عمران خان نے کہ...</td>\n",
       "      <td>2022-04-10 20:09:57</td>\n",
       "    </tr>\n",
       "    <tr>\n",
       "      <th>...</th>\n",
       "      <td>...</td>\n",
       "      <td>...</td>\n",
       "      <td>...</td>\n",
       "    </tr>\n",
       "    <tr>\n",
       "      <th>95</th>\n",
       "      <td>95</td>\n",
       "      <td>اب شاہین کا تجربہ کرو یا مسرت شاہین کا\\r\\nاگلے...</td>\n",
       "      <td>2022-04-10 20:10:03</td>\n",
       "    </tr>\n",
       "    <tr>\n",
       "      <th>96</th>\n",
       "      <td>96</td>\n",
       "      <td>RT @MishalBukhari5: شریک جرم ہی ہو گا جو اب رہ...</td>\n",
       "      <td>2022-04-10 20:10:03</td>\n",
       "    </tr>\n",
       "    <tr>\n",
       "      <th>97</th>\n",
       "      <td>97</td>\n",
       "      <td>RT @ImranRiazKhan: ان سب کی مرمت ہو رہی ہے</td>\n",
       "      <td>2022-04-10 20:10:03</td>\n",
       "    </tr>\n",
       "    <tr>\n",
       "      <th>98</th>\n",
       "      <td>98</td>\n",
       "      <td>RT @SMGhouri2: @SSEHBAI1 ایک بات تو طے ہے کہ ل...</td>\n",
       "      <td>2022-04-10 20:10:03</td>\n",
       "    </tr>\n",
       "    <tr>\n",
       "      <th>99</th>\n",
       "      <td>99</td>\n",
       "      <td>RT @Sameraofficial1: عمران خان 2018 میں ہمارا ...</td>\n",
       "      <td>2022-04-10 20:10:03</td>\n",
       "    </tr>\n",
       "  </tbody>\n",
       "</table>\n",
       "<p>99 rows × 3 columns</p>\n",
       "</div>"
      ],
      "text/plain": [
       "    Unnamed: 0                                             tweets  \\\n",
       "1            1  RT @SSEHBAI1: لوگ باہر: جیسے لوگ نکل رہے ہیں, ...   \n",
       "2            2  RT @FaisalJavedKhan: آپکی رائے میں کیا تحریک ا...   \n",
       "3            3  RT @Abdulla78487680: جس سے جگر لالہ میں ٹھنڈک ...   \n",
       "4            4  RT @fawadchaudhry: شہباز شریف کے کاغذات نامزدگ...   \n",
       "5            5  RT @Sarfraz053: @MaddyWithKhan عمران خان نے کہ...   \n",
       "..         ...                                                ...   \n",
       "95          95  اب شاہین کا تجربہ کرو یا مسرت شاہین کا\\r\\nاگلے...   \n",
       "96          96  RT @MishalBukhari5: شریک جرم ہی ہو گا جو اب رہ...   \n",
       "97          97         RT @ImranRiazKhan: ان سب کی مرمت ہو رہی ہے   \n",
       "98          98  RT @SMGhouri2: @SSEHBAI1 ایک بات تو طے ہے کہ ل...   \n",
       "99          99  RT @Sameraofficial1: عمران خان 2018 میں ہمارا ...   \n",
       "\n",
       "             timestamp  \n",
       "1  2022-04-10 20:09:56  \n",
       "2  2022-04-10 20:09:57  \n",
       "3  2022-04-10 20:09:57  \n",
       "4  2022-04-10 20:09:57  \n",
       "5  2022-04-10 20:09:57  \n",
       "..                 ...  \n",
       "95 2022-04-10 20:10:03  \n",
       "96 2022-04-10 20:10:03  \n",
       "97 2022-04-10 20:10:03  \n",
       "98 2022-04-10 20:10:03  \n",
       "99 2022-04-10 20:10:03  \n",
       "\n",
       "[99 rows x 3 columns]"
      ]
     },
     "execution_count": 9,
     "metadata": {},
     "output_type": "execute_result"
    }
   ],
   "source": [
    "df[1:100]"
   ]
  },
  {
   "cell_type": "code",
   "execution_count": 10,
   "id": "823dfe97",
   "metadata": {},
   "outputs": [],
   "source": [
    "list1 = []\n",
    "for i in range(len(df.index)):\n",
    "    sent = df[df.columns[1]][i]\n",
    "    list1.append(sent)\n",
    "    "
   ]
  },
  {
   "cell_type": "code",
   "execution_count": 11,
   "id": "c486fd05",
   "metadata": {},
   "outputs": [],
   "source": [
    "sent_p =[]\n",
    "for tweet in list1:\n",
    "    sent_p.append(preprocess(tweet))"
   ]
  },
  {
   "cell_type": "markdown",
   "id": "25f7ff4a",
   "metadata": {},
   "source": [
    "# Timestamp"
   ]
  },
  {
   "cell_type": "code",
   "execution_count": 58,
   "id": "dacd9215",
   "metadata": {},
   "outputs": [],
   "source": [
    "df2 = pd.DataFrame(sent_p,columns = [\"tweets\"])"
   ]
  },
  {
   "cell_type": "code",
   "execution_count": 59,
   "id": "13a4e196",
   "metadata": {},
   "outputs": [],
   "source": [
    "df2['timestamp'] = pd.to_datetime(df['timestamp'], format='%a %b %d %H:%M:%S +0000 %Y')"
   ]
  },
  {
   "cell_type": "code",
   "execution_count": 60,
   "id": "cd66e6ce",
   "metadata": {},
   "outputs": [],
   "source": [
    "def timefilter(start,end,dft):\n",
    "    filteredTw = []\n",
    "    filteredTm = []\n",
    "    for i in range(0,len(dft)):\n",
    "        if (dft['timestamp'][i] >= start) & (dft['timestamp'][i] <= end):\n",
    "            filteredTw.append(dft['tweets'][i])\n",
    "            filteredTm.append(dft['timestamp'][i])\n",
    "    filtered = pd.DataFrame()\n",
    "    if(filteredTm and filteredTw is not None):\n",
    "        filtered['tweets'] = pd.DataFrame(filteredTw)\n",
    "        filtered['timestamp'] = pd.DataFrame(filteredTm)\n",
    "    else:\n",
    "        print(\"No values found, returning default\")\n",
    "        return dft\n",
    "    \n",
    "#     filtered = dft[(dft['timestamp'] >= start) & (dft['timestamp'] <= end)]\n",
    "    return filtered"
   ]
  },
  {
   "cell_type": "code",
   "execution_count": 61,
   "id": "2317f3b0",
   "metadata": {},
   "outputs": [],
   "source": [
    "splitdf2 = timefilter(pd.Timestamp(2022,4,10,20,9,5),pd.Timestamp(2022,5,10,20,9,59),df2)\n",
    "splitdf = timefilter(pd.Timestamp(2022,4,10,20,9,5),pd.Timestamp(2022,5,10,20,9,59),df)\n"
   ]
  },
  {
   "cell_type": "code",
   "execution_count": 67,
   "id": "48526b74",
   "metadata": {},
   "outputs": [
    {
     "data": {
      "text/html": [
       "<div>\n",
       "<style scoped>\n",
       "    .dataframe tbody tr th:only-of-type {\n",
       "        vertical-align: middle;\n",
       "    }\n",
       "\n",
       "    .dataframe tbody tr th {\n",
       "        vertical-align: top;\n",
       "    }\n",
       "\n",
       "    .dataframe thead th {\n",
       "        text-align: right;\n",
       "    }\n",
       "</style>\n",
       "<table border=\"1\" class=\"dataframe\">\n",
       "  <thead>\n",
       "    <tr style=\"text-align: right;\">\n",
       "      <th></th>\n",
       "      <th>tweets</th>\n",
       "      <th>timestamp</th>\n",
       "    </tr>\n",
       "  </thead>\n",
       "  <tbody>\n",
       "    <tr>\n",
       "      <th>0</th>\n",
       "      <td>@SaeedGhani1 چاچا\\r\\nستو پی لیا ہو تو دیکھو\\r\\...</td>\n",
       "      <td>2022-04-10 20:09:56</td>\n",
       "    </tr>\n",
       "    <tr>\n",
       "      <th>1</th>\n",
       "      <td>RT @SSEHBAI1: لوگ باہر: جیسے لوگ نکل رہے ہیں, ...</td>\n",
       "      <td>2022-04-10 20:09:56</td>\n",
       "    </tr>\n",
       "    <tr>\n",
       "      <th>2</th>\n",
       "      <td>RT @FaisalJavedKhan: آپکی رائے میں کیا تحریک ا...</td>\n",
       "      <td>2022-04-10 20:09:57</td>\n",
       "    </tr>\n",
       "    <tr>\n",
       "      <th>3</th>\n",
       "      <td>RT @Abdulla78487680: جس سے جگر لالہ میں ٹھنڈک ...</td>\n",
       "      <td>2022-04-10 20:09:57</td>\n",
       "    </tr>\n",
       "    <tr>\n",
       "      <th>4</th>\n",
       "      <td>RT @fawadchaudhry: شہباز شریف کے کاغذات نامزدگ...</td>\n",
       "      <td>2022-04-10 20:09:57</td>\n",
       "    </tr>\n",
       "    <tr>\n",
       "      <th>...</th>\n",
       "      <td>...</td>\n",
       "      <td>...</td>\n",
       "    </tr>\n",
       "    <tr>\n",
       "      <th>996</th>\n",
       "      <td>RT @Karachi__Wali: جب چوکیدار اور منصف سب چورو...</td>\n",
       "      <td>2022-04-10 20:11:00</td>\n",
       "    </tr>\n",
       "    <tr>\n",
       "      <th>997</th>\n",
       "      <td>RT @fawadchaudhry: میں نے عرض کیا تھا سیاست کے...</td>\n",
       "      <td>2022-04-10 20:11:00</td>\n",
       "    </tr>\n",
       "    <tr>\n",
       "      <th>998</th>\n",
       "      <td>RT @Farzana722: @ImranKhanPTI غلط بندے کو چھیڑ...</td>\n",
       "      <td>2022-04-10 20:11:00</td>\n",
       "    </tr>\n",
       "    <tr>\n",
       "      <th>999</th>\n",
       "      <td>RT @_Ujala_R: اس شمع فروزاں کو آندھی سے ڈراتے ...</td>\n",
       "      <td>2022-04-10 20:11:00</td>\n",
       "    </tr>\n",
       "    <tr>\n",
       "      <th>1000</th>\n",
       "      <td>@Maha_Raani_ جان نہیں گئی نا؟ زندہ ہو نا؟</td>\n",
       "      <td>2022-04-10 20:11:00</td>\n",
       "    </tr>\n",
       "  </tbody>\n",
       "</table>\n",
       "<p>1001 rows × 2 columns</p>\n",
       "</div>"
      ],
      "text/plain": [
       "                                                 tweets           timestamp\n",
       "0     @SaeedGhani1 چاچا\\r\\nستو پی لیا ہو تو دیکھو\\r\\... 2022-04-10 20:09:56\n",
       "1     RT @SSEHBAI1: لوگ باہر: جیسے لوگ نکل رہے ہیں, ... 2022-04-10 20:09:56\n",
       "2     RT @FaisalJavedKhan: آپکی رائے میں کیا تحریک ا... 2022-04-10 20:09:57\n",
       "3     RT @Abdulla78487680: جس سے جگر لالہ میں ٹھنڈک ... 2022-04-10 20:09:57\n",
       "4     RT @fawadchaudhry: شہباز شریف کے کاغذات نامزدگ... 2022-04-10 20:09:57\n",
       "...                                                 ...                 ...\n",
       "996   RT @Karachi__Wali: جب چوکیدار اور منصف سب چورو... 2022-04-10 20:11:00\n",
       "997   RT @fawadchaudhry: میں نے عرض کیا تھا سیاست کے... 2022-04-10 20:11:00\n",
       "998   RT @Farzana722: @ImranKhanPTI غلط بندے کو چھیڑ... 2022-04-10 20:11:00\n",
       "999   RT @_Ujala_R: اس شمع فروزاں کو آندھی سے ڈراتے ... 2022-04-10 20:11:00\n",
       "1000          @Maha_Raani_ جان نہیں گئی نا؟ زندہ ہو نا؟ 2022-04-10 20:11:00\n",
       "\n",
       "[1001 rows x 2 columns]"
      ]
     },
     "execution_count": 67,
     "metadata": {},
     "output_type": "execute_result"
    }
   ],
   "source": [
    "splitdf"
   ]
  },
  {
   "cell_type": "markdown",
   "id": "b918ffc5",
   "metadata": {},
   "source": [
    "# TF-IDF"
   ]
  },
  {
   "cell_type": "code",
   "execution_count": 68,
   "id": "fff29f5b",
   "metadata": {},
   "outputs": [
    {
     "name": "stderr",
     "output_type": "stream",
     "text": [
      "c:\\users\\bilawal ali\\appdata\\local\\programs\\python\\python37\\lib\\site-packages\\sklearn\\utils\\deprecation.py:87: FutureWarning: Function get_feature_names is deprecated; get_feature_names is deprecated in 1.0 and will be removed in 1.2. Please use get_feature_names_out instead.\n",
      "  warnings.warn(msg, category=FutureWarning)\n"
     ]
    }
   ],
   "source": [
    "from sklearn.cluster import KMeans  \n",
    "data = splitdf2\n",
    "tf_idf_vectorizor = TfidfVectorizer(max_features = 5000)\n",
    "tf_idf = tf_idf_vectorizor.fit_transform(splitdf2['tweets'][:])\n",
    "tf_idf_norm = normalize(tf_idf)\n",
    "\n",
    "tf_idf_array = tf_idf_norm.toarray()\n",
    "a = pd.DataFrame(tf_idf_array, columns=tf_idf_vectorizor.get_feature_names())"
   ]
  },
  {
   "cell_type": "markdown",
   "id": "81364da8",
   "metadata": {},
   "source": [
    "# Kneed-Point"
   ]
  },
  {
   "cell_type": "code",
   "execution_count": null,
   "id": "cb45f2af",
   "metadata": {},
   "outputs": [],
   "source": []
  },
  {
   "cell_type": "code",
   "execution_count": 69,
   "id": "33b0ce61",
   "metadata": {},
   "outputs": [
    {
     "data": {
      "text/plain": [
       "Unnamed: 0             int64\n",
       "tweets                object\n",
       "timestamp     datetime64[ns]\n",
       "dtype: object"
      ]
     },
     "execution_count": 69,
     "metadata": {},
     "output_type": "execute_result"
    }
   ],
   "source": [
    "df.dtypes"
   ]
  },
  {
   "cell_type": "code",
   "execution_count": null,
   "id": "0285d742",
   "metadata": {},
   "outputs": [],
   "source": []
  },
  {
   "cell_type": "markdown",
   "id": "5c6ceaf2",
   "metadata": {},
   "source": [
    "# Clustering with Time-stamp"
   ]
  },
  {
   "cell_type": "code",
   "execution_count": 70,
   "id": "7dd0fc5b",
   "metadata": {},
   "outputs": [],
   "source": [
    "k = 3\n",
    "model = KMeans(n_clusters=k)\n",
    "\n",
    "labels = model.fit(tf_idf_array)"
   ]
  },
  {
   "cell_type": "code",
   "execution_count": 71,
   "id": "0743b65a",
   "metadata": {},
   "outputs": [
    {
     "name": "stdout",
     "output_type": "stream",
     "text": [
      "Top terms per cluster:\n",
      "Cluster 0:\n",
      " دکھ\n",
      " میڈیا\n",
      " اتنا\n",
      " بھر\n",
      " احتجاج\n",
      " ھکاری\n",
      " باپ\n",
      " پاکستانی\n",
      " امیر\n",
      " غریب\n",
      "Cluster 1:\n",
      " عمران\n",
      " خان\n",
      " آج\n",
      " عوام\n",
      " اب\n",
      " پاکستان\n",
      " امپورٹڈحکومتنامنظور\n",
      " مرمت\n",
      " دیکھ\n",
      " کراچی\n",
      "Cluster 2:\n",
      " باہر\n",
      " لوگ\n",
      " باہرایگا\n",
      " شر\n",
      " جلسا\n",
      " نام\n",
      " حال\n",
      " بغیر\n",
      " لیڈر\n",
      " خود\n"
     ]
    },
    {
     "name": "stderr",
     "output_type": "stream",
     "text": [
      "c:\\users\\bilawal ali\\appdata\\local\\programs\\python\\python37\\lib\\site-packages\\sklearn\\utils\\deprecation.py:87: FutureWarning: Function get_feature_names is deprecated; get_feature_names is deprecated in 1.0 and will be removed in 1.2. Please use get_feature_names_out instead.\n",
      "  warnings.warn(msg, category=FutureWarning)\n"
     ]
    }
   ],
   "source": [
    "print(\"Top terms per cluster:\")\n",
    "order_centroids = model.cluster_centers_.argsort()[:, ::-1]\n",
    "terms = tf_idf_vectorizor.get_feature_names()\n",
    "for i in range(k):\n",
    "    print(\"Cluster %d:\" % i)\n",
    "    for ind in order_centroids[i, :10]:\n",
    "        print(' %s' % terms[ind])"
   ]
  },
  {
   "cell_type": "code",
   "execution_count": 72,
   "id": "b971b41f",
   "metadata": {},
   "outputs": [],
   "source": [
    "sklearn_pca = PCA(n_components = 3)\n",
    "Y_sklearn = sklearn_pca.fit_transform(tf_idf_array)\n",
    "predicted_values = model.predict(tf_idf_array)"
   ]
  },
  {
   "cell_type": "code",
   "execution_count": 73,
   "id": "37b253de",
   "metadata": {},
   "outputs": [
    {
     "data": {
      "text/plain": [
       "1001"
      ]
     },
     "execution_count": 73,
     "metadata": {},
     "output_type": "execute_result"
    }
   ],
   "source": [
    "len(predicted_values)"
   ]
  },
  {
   "cell_type": "code",
   "execution_count": 23,
   "id": "9ba0a85b",
   "metadata": {},
   "outputs": [
    {
     "data": {
      "text/plain": [
       "<matplotlib.collections.PathCollection at 0x24303693888>"
      ]
     },
     "execution_count": 23,
     "metadata": {},
     "output_type": "execute_result"
    },
    {
     "data": {
      "image/png": "[encoded data removed]",
      "text/plain": [
       "<Figure size 432x288 with 1 Axes>"
      ]
     },
     "metadata": {
      "needs_background": "light"
     },
     "output_type": "display_data"
    }
   ],
   "source": [
    "plt.scatter(Y_sklearn[:, 0], Y_sklearn[:, 1], c=predicted_values, s=50, cmap='viridis')"
   ]
  },
  {
   "cell_type": "code",
   "execution_count": 34,
   "id": "b53b4702",
   "metadata": {},
   "outputs": [],
   "source": [
    "clusters = []\n",
    "for i in range(k):\n",
    "    clusters.append([])\n",
    "\n",
    "for i,row in splitdf.iterrows():\n",
    "    clusters[predicted_values[i]].append(row['tweets'])"
   ]
  },
  {
   "cell_type": "code",
   "execution_count": 35,
   "id": "3e60aeb2",
   "metadata": {},
   "outputs": [
    {
     "name": "stdout",
     "output_type": "stream",
     "text": [
      "Cluster: 0\n",
      "RT @FaisalJavedKhan: آپکی رائے میں کیا تحریک انصاف کو اسمبلی سے مستعفیٰ ہو جانا چاہیے یا نہیں ؟\n",
      "\n",
      "RT @fawadchaudhry: شہباز شریف کے کاغذات نامزدگی منظور ہونے کے بعد ایف آئ اے سے پہلا آرڈر یہ ہوا ہے کہ کل وکلاء کی ٹیم شہباز شریف کے مقدمے م…\n",
      "\n",
      "RT @_Ujala_R: اس شمع فروزاں کو آندھی سے ڈراتے ہو \r\n",
      "اس شمع فروزاں کے پروانے ہزاروں ہیں \r\n",
      "#BehindYouSkipper\r\n",
      "#امپورٹڈ_گورمنٹ_نامنظور https://t.c…\n",
      "\n",
      "@QasimKhanSuri یزید کی جیت کا مطلب حسین کی ہار نہیں ہوتی\r\n",
      "برحق ہونے کےلیے اکثریت درکار نہیں ہوتی\r\n",
      "بہادر اکیلا ہی جیت جاتا ہے شجاعت کی بازی\r\n",
      "کتنی ہی شاندار ہو غلامی پر وقار نہیں ہوتی\r\n",
      "جھنڈ یزیدیوں کے چلے آئیں ہیں تو ڈر کیسا\r\n",
      "حسینیت تعداد سے توکبھی بھی شمار نہیں ہوتی\r\n",
      " #امپورٹڈ_حکومت_نامنظور\n",
      "\n",
      "RT @Muhamma15007911: پولیس رینجرز سے گزارش ہے کہ جیسے بھی ممکن ہو وہ راستے کھلوائیں ان یوتھیوں سے بچوں نے سکول جانا بیماروں کی ایمبولینس پھ…\n",
      "\n",
      "Cluster: 1\n",
      "@SaeedGhani1 چاچا\r\n",
      "ستو پی لیا ہو تو دیکھو\r\n",
      "پاکستان میں عوام کیسے نکلی یے\n",
      "\n",
      "RT @Abdulla78487680: جس سے جگر لالہ میں ٹھنڈک ہو وہ شبنم\r\n",
      "\r\n",
      "دریاؤں کے دل جس سے دہل جائیں وہ طوفان،\r\n",
      "\r\n",
      "ہر لحظہ ہے مومن.\r\n",
      "\r\n",
      "#امپورٹڈ_گورمنٹ_نامنظور…\n",
      "\n",
      "RT @Sarfraz053: @MaddyWithKhan عمران خان نے کہا تھا، میرا ووٹر ابھی چھوٹا ہے ۔ لیکن جب وہ 18 سال کا ہوگا تو سارے ووٹس میرے ہوں گے ۔ آج وہ و…\n",
      "\n",
      "پہلے والے غیر جمہوری اور غیر آئینی طریقے سے نکالے گئے ۔ اس کو جمہوری ائینی طریقے سے نکالا گیا ۔ \r\n",
      "یہ تو اب پتہ چلے گا کہ کون چور ھے\n",
      "\n",
      "RT @ImranRiazFan_: پاکستان کی تاریخ میں پہلی دفعہ کوئی چیف آف آرمی سٹاف شدید ترین ذلت کے ساتھ رخصت ہو گا\n",
      "\n",
      "Cluster: 2\n",
      "RT @SSEHBAI1: لوگ باہر: جیسے لوگ نکل رہے ہیں, جلسے ملک اور باہر بغیر لیڈر کے ہو رہے ہیں، جب خود خان باہرایگا تو کیا حال ہوگا - یہ نام کے شر…\n",
      "\n",
      "RT @SSEHBAI1: لوگ باہر: جیسے لوگ نکل رہے ہیں, جلسے ملک اور باہر بغیر لیڈر کے ہو رہے ہیں، جب خود خان باہرایگا تو کیا حال ہوگا - یہ نام کے شر…\n",
      "\n",
      "RT @SSEHBAI1: لوگ باہر: جیسے لوگ نکل رہے ہیں, جلسے ملک اور باہر بغیر لیڈر کے ہو رہے ہیں، جب خود خان باہرایگا تو کیا حال ہوگا - یہ نام کے شر…\n",
      "\n",
      "RT @SSEHBAI1: لوگ باہر: جیسے لوگ نکل رہے ہیں, جلسے ملک اور باہر بغیر لیڈر کے ہو رہے ہیں، جب خود خان باہرایگا تو کیا حال ہوگا - یہ نام کے شر…\n",
      "\n"
     ]
    },
    {
     "ename": "IndexError",
     "evalue": "list index out of range",
     "output_type": "error",
     "traceback": [
      "\u001b[1;31m---------------------------------------------------------------------------\u001b[0m",
      "\u001b[1;31mIndexError\u001b[0m                                Traceback (most recent call last)",
      "\u001b[1;32mC:\\Users\\BILAWA~1\\AppData\\Local\\Temp/ipykernel_12104/1376616020.py\u001b[0m in \u001b[0;36m<module>\u001b[1;34m\u001b[0m\n\u001b[0;32m      2\u001b[0m     \u001b[0mprint\u001b[0m\u001b[1;33m(\u001b[0m\u001b[1;34m\"Cluster: \"\u001b[0m \u001b[1;33m+\u001b[0m \u001b[0mstr\u001b[0m\u001b[1;33m(\u001b[0m\u001b[0mi\u001b[0m\u001b[1;33m)\u001b[0m\u001b[1;33m)\u001b[0m\u001b[1;33m\u001b[0m\u001b[1;33m\u001b[0m\u001b[0m\n\u001b[0;32m      3\u001b[0m     \u001b[1;32mfor\u001b[0m \u001b[0mj\u001b[0m \u001b[1;32min\u001b[0m \u001b[0mrange\u001b[0m\u001b[1;33m(\u001b[0m\u001b[1;36m5\u001b[0m\u001b[1;33m)\u001b[0m\u001b[1;33m:\u001b[0m\u001b[1;33m\u001b[0m\u001b[1;33m\u001b[0m\u001b[0m\n\u001b[1;32m----> 4\u001b[1;33m         \u001b[0mprint\u001b[0m\u001b[1;33m(\u001b[0m\u001b[0mclusters\u001b[0m\u001b[1;33m[\u001b[0m\u001b[0mi\u001b[0m\u001b[1;33m]\u001b[0m\u001b[1;33m[\u001b[0m\u001b[0mj\u001b[0m\u001b[1;33m]\u001b[0m\u001b[1;33m+\u001b[0m\u001b[1;34m'\\n'\u001b[0m\u001b[1;33m)\u001b[0m\u001b[1;33m\u001b[0m\u001b[1;33m\u001b[0m\u001b[0m\n\u001b[0m",
      "\u001b[1;31mIndexError\u001b[0m: list index out of range"
     ]
    }
   ],
   "source": [
    "for i in range(len(clusters)):\n",
    "    print(\"Cluster: \" + str(i))\n",
    "    for j in range(5):\n",
    "        print(clusters[i][j]+'\\n')"
   ]
  },
  {
   "cell_type": "markdown",
   "id": "3b02bfe8",
   "metadata": {},
   "source": [
    "# TAG Clound"
   ]
  },
  {
   "cell_type": "code",
   "execution_count": null,
   "id": "c8234114",
   "metadata": {},
   "outputs": [],
   "source": []
  }
 ],
 "metadata": {
  "kernelspec": {
   "display_name": "Python 3 (ipykernel)",
   "language": "python",
   "name": "python3"
  },
  "language_info": {
   "codemirror_mode": {
    "name": "ipython",
    "version": 3
   },
   "file_extension": ".py",
   "mimetype": "text/x-python",
   "name": "python",
   "nbconvert_exporter": "python",
   "pygments_lexer": "ipython3",
   "version": "3.7.9"
  }
 },
 "nbformat": 4,
 "nbformat_minor": 5
}
