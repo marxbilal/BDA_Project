{
 "cells": [
  {
   "cell_type": "code",
   "execution_count": 1,
   "id": "cd3a70f8",
   "metadata": {},
   "outputs": [],
   "source": [
    "import stanza\n",
    "import urduhack\n",
    "\n",
    "import pandas as pd\n",
    "import re\n",
    "import numpy as np\n",
    "from urduhack import normalize\n",
    "from urduhack.preprocessing import normalize_whitespace\n",
    "from urduhack.preprocessing import remove_punctuation\n",
    "from urduhack.preprocessing import replace_urls\n",
    "from urduhack.preprocessing import replace_emails\n",
    "from urduhack.preprocessing import replace_numbers\n",
    "from urduhack.preprocessing import remove_english_alphabets\n",
    "\n",
    "from sklearn.cluster import KMeans\n",
    "from sklearn.preprocessing import normalize\n",
    "from sklearn.feature_extraction.text import TfidfVectorizer\n",
    "from sklearn.decomposition import PCA\n",
    "from sklearn.metrics import pairwise_distances\n",
    "\n",
    "\n",
    "from bs4 import BeautifulSoup\n",
    "from scipy.stats import multivariate_normal as mvn\n",
    "\n",
    "import matplotlib.pyplot as plt\n",
    "import seaborn as sns\n",
    "import os\n",
    "import random\n",
    "import string"
   ]
  },
  {
   "cell_type": "code",
   "execution_count": 2,
   "id": "60f97039",
   "metadata": {},
   "outputs": [
    {
     "name": "stderr",
     "output_type": "stream",
     "text": [
      "C:\\Users\\mhsin\\anaconda3\\lib\\site-packages\\IPython\\core\\interactiveshell.py:3444: FutureWarning: The error_bad_lines argument has been deprecated and will be removed in a future version.\n",
      "\n",
      "\n",
      "  exec(code_obj, self.user_global_ns, self.user_ns)\n"
     ]
    }
   ],
   "source": [
    "df = pd.read_csv('tweets.csv',encoding='utf-8',error_bad_lines=False)"
   ]
  },
  {
   "cell_type": "code",
   "execution_count": 3,
   "id": "b1f8cf4d",
   "metadata": {},
   "outputs": [],
   "source": [
    "df['timestamp'] = pd.to_datetime(df['timestamp'], format='%a %b %d %H:%M:%S +0000 %Y')"
   ]
  },
  {
   "cell_type": "markdown",
   "id": "c8389e84",
   "metadata": {},
   "source": [
    "# Pre-Processing"
   ]
  },
  {
   "cell_type": "code",
   "execution_count": 4,
   "id": "81de489a",
   "metadata": {},
   "outputs": [
    {
     "name": "stderr",
     "output_type": "stream",
     "text": [
      "2022-04-18 14:19:16 INFO: Loading these models for language: ur (Urdu):\n",
      "=======================\n",
      "| Processor | Package |\n",
      "-----------------------\n",
      "| tokenize  | udtb    |\n",
      "| lemma     | udtb    |\n",
      "=======================\n",
      "\n",
      "2022-04-18 14:19:16 INFO: Use device: cpu\n",
      "2022-04-18 14:19:16 INFO: Loading: tokenize\n",
      "2022-04-18 14:19:16 INFO: Loading: lemma\n",
      "2022-04-18 14:19:16 INFO: Done loading processors!\n"
     ]
    }
   ],
   "source": [
    "nlp = stanza.Pipeline(lang='ur', processors='tokenize,lemma')"
   ]
  },
  {
   "cell_type": "code",
   "execution_count": 5,
   "id": "bad5224d",
   "metadata": {},
   "outputs": [],
   "source": [
    "# urdu_swords = \"ایت نہیں نے ہاں ہر ہم ہمارا ہمارے ہماری ہو ہوا ہوتا ہوتے ہوتی ہوتیں ہوں ہونا ہونگے ہونے ہونی ہوئے ہوئی ہوئیں ہے ہی ہیں و والا والوں والے والی وہ وہاں وہی وہیں یا یعنی یہ یہاں یہی یہیںاب ابھی اپنا اپنے اپنی اٹھا اس اسے اسی اگر ان انہوں انہی انہیں انھیں او اور اے ایسا ایسے ایسی ایک آ آپ آتا آتے آتی آگے آنا آنے آنی آئے آئی آئیں آیا با بڑا بڑے بڑی بعد بعض بلکہ بہت بھی بے پاس پر پہلے پھر تا تاکہ تب تجھ تجھے تک تم تمام تمہارا تمہارے تمھارے تمہاری تمہیں تمھیں تھا تھے تھی تھیں تو تیری تیرے جا جاتا جاتی جاتے جاتی جانے جانی جاؤ جائے جائیں جب جس جن جنہوں جنہیں جو جیسا جیسے جیسی جیسوں چاہیئے چلا چاہے چونکہ حالاں حالانکہ دو دونوں دوں دے دی دیا دیں دیے دیتا دیتے دیتی دینا دینے دینی دیئے ڈالا ڈالنا ڈالنے ڈالنی ڈالے ڈالی ذرا رکھا رکھتا رکھتے رکھتی رکھنا رکھنے رکھنی رکھے رکھی رہ رہا رہتا رہتے رہتی رہنا رہنے رہنی رہو رہے رہی رہیں زیادہ سا سامنے سب سکتا سو سے سی شاید صرف طرح طرف عین کا کبھی کچھ کہہ کر کرتا کرتے کرتی کرنا کرنے کرو کروں کرے کریں کس کسے کسی کہ کہا کہے کو کون کوئی کے کی کیا کیسے کیوں کیونکہ کیے کئے گا گویا گے گی گیا گئے گئی لا لاتا لاتے لاتی لانا لانے لانی لایا لائے لائی لگا لگے لگی لگیں لو لے لی لیا لیتا لیتے لیتی لیکن لیں لیے لئے مجھ مجھے مگر میرا میرے میری میں نا نہ نہایت نہیں نے ہاں ہر ہم ہمارا ہمارے ہماری ہو ہوا ہوتا ہوتے ہوتی ہوتیں ہوں ہونا ہونگے ہونے ہونی ہوئے ہوئی ہوئیں ہے ہی ہیں و والا والوں والے والی وہ وہاں وہی وہیں یا یعنی یہ یہاں یہی یہیں\"\n",
    "# stop_words = \"\"\n",
    "# doc = nlp(urdu_swords)\n",
    "# a = doc.to_dict()\n",
    "# a=a[0]\n",
    "# for i in a:\n",
    "#     stop_words=stop_words+(i['lemma'])+\" \"\n",
    "    \n",
    "# #print(stop_words)\n",
    "\n",
    "# stop_words = stop_words.split()\n",
    "# stop_words = \" \".join(sorted(set(stop_words), key=stop_words.index))\n"
   ]
  },
  {
   "cell_type": "code",
   "execution_count": 6,
   "id": "a37643e8",
   "metadata": {},
   "outputs": [],
   "source": [
    "stop_word = 'ایت نہیں نے ہاں ہر ہم مےں ہو ہے ہی و والا وہ وہاں وہی وہیں یا یعنی یہ یہاں یہیںاب ابھی اپنا اٹھ اگر او اور اے ایسا ایک آ آپ آگے آنی آئی با بڑا بڑی بعد بعض بلکہ بہت بھی بے پاس پر پہلے پھر تا تاکہ تب تجھ تو تک تمام تمہارا تمھارا تم تمھ تھا تیری تیرا جا جاؤ جب جو جیسا جیسے جیسی جیس چاہیئے چل چاہ چونکہ حالاں حالانکہ دو دوں دے دینی ڈال ڈالنا ڈالنی ذرا رکھ رکھنی رہ رہنی زیادہ سا سامنے سب سک سو سے سی شاید صرف طرح طرف عین کا کبھی کچھ کہہ کر کون کوا کوئی کہ کہا کو کیسا کیوں کیونکہ گا گویا گے گی لا لاتا لاتی لانی لائے لگ لو لے لیکن لیے لئے مجھ مگر میرا میرے میں نا نہ نہایت یہیں'\n",
    "stop_word = stop_word.split()"
   ]
  },
  {
   "cell_type": "code",
   "execution_count": 7,
   "id": "688ac37c",
   "metadata": {},
   "outputs": [],
   "source": [
    "def preprocess(word):\n",
    "    word = re.sub(\"\\W\", \" \",word)\n",
    "    word = re.sub(\"[a-zA-Z0-9]\",\"\",word)\n",
    "    word = normalize_whitespace(word)\n",
    "    word = remove_punctuation(word)\n",
    "    word = replace_urls(word)\n",
    "    word = replace_emails(word)\n",
    "    #word = normalize(word)\n",
    "    word = replace_numbers(word)\n",
    "    #STanza lemmentization normalize\n",
    "    \n",
    "    doc = nlp(word)\n",
    "    a = doc.to_dict()\n",
    "    if(len(a) != 0):\n",
    "        a = a[0]\n",
    "        word = ''\n",
    "        for i in a:\n",
    "            if not i['lemma'] in stop_word:\n",
    "                if(i['id']==(a[-1]['id'])):\n",
    "                    word=word+i['lemma']\n",
    "                else:\n",
    "                    word = word+i['lemma']+' '\n",
    "    \n",
    "    return word"
   ]
  },
  {
   "cell_type": "code",
   "execution_count": 8,
   "id": "05935e78",
   "metadata": {},
   "outputs": [],
   "source": [
    "def remove_duplicate_words(string):\n",
    "        x = string.split()\n",
    "        x = sorted(set(x), key = x.index)\n",
    "        return ' '.join(x)"
   ]
  },
  {
   "cell_type": "code",
   "execution_count": 9,
   "id": "a4745cbf",
   "metadata": {},
   "outputs": [
    {
     "data": {
      "text/html": [
       "<div>\n",
       "<style scoped>\n",
       "    .dataframe tbody tr th:only-of-type {\n",
       "        vertical-align: middle;\n",
       "    }\n",
       "\n",
       "    .dataframe tbody tr th {\n",
       "        vertical-align: top;\n",
       "    }\n",
       "\n",
       "    .dataframe thead th {\n",
       "        text-align: right;\n",
       "    }\n",
       "</style>\n",
       "<table border=\"1\" class=\"dataframe\">\n",
       "  <thead>\n",
       "    <tr style=\"text-align: right;\">\n",
       "      <th></th>\n",
       "      <th>Unnamed: 0</th>\n",
       "      <th>tweets</th>\n",
       "      <th>timestamp</th>\n",
       "    </tr>\n",
       "  </thead>\n",
       "  <tbody>\n",
       "    <tr>\n",
       "      <th>1</th>\n",
       "      <td>1</td>\n",
       "      <td>RT @SSEHBAI1: لوگ باہر: جیسے لوگ نکل رہے ہیں, ...</td>\n",
       "      <td>2022-04-10 20:09:56</td>\n",
       "    </tr>\n",
       "    <tr>\n",
       "      <th>2</th>\n",
       "      <td>2</td>\n",
       "      <td>RT @FaisalJavedKhan: آپکی رائے میں کیا تحریک ا...</td>\n",
       "      <td>2022-04-10 20:09:57</td>\n",
       "    </tr>\n",
       "    <tr>\n",
       "      <th>3</th>\n",
       "      <td>3</td>\n",
       "      <td>RT @Abdulla78487680: جس سے جگر لالہ میں ٹھنڈک ...</td>\n",
       "      <td>2022-04-10 20:09:57</td>\n",
       "    </tr>\n",
       "    <tr>\n",
       "      <th>4</th>\n",
       "      <td>4</td>\n",
       "      <td>RT @fawadchaudhry: شہباز شریف کے کاغذات نامزدگ...</td>\n",
       "      <td>2022-04-10 20:09:57</td>\n",
       "    </tr>\n",
       "    <tr>\n",
       "      <th>5</th>\n",
       "      <td>5</td>\n",
       "      <td>RT @Sarfraz053: @MaddyWithKhan عمران خان نے کہ...</td>\n",
       "      <td>2022-04-10 20:09:57</td>\n",
       "    </tr>\n",
       "    <tr>\n",
       "      <th>...</th>\n",
       "      <td>...</td>\n",
       "      <td>...</td>\n",
       "      <td>...</td>\n",
       "    </tr>\n",
       "    <tr>\n",
       "      <th>95</th>\n",
       "      <td>95</td>\n",
       "      <td>اب شاہین کا تجربہ کرو یا مسرت شاہین کا\\r\\nاگلے...</td>\n",
       "      <td>2022-04-10 20:10:03</td>\n",
       "    </tr>\n",
       "    <tr>\n",
       "      <th>96</th>\n",
       "      <td>96</td>\n",
       "      <td>RT @MishalBukhari5: شریک جرم ہی ہو گا جو اب رہ...</td>\n",
       "      <td>2022-04-10 20:10:03</td>\n",
       "    </tr>\n",
       "    <tr>\n",
       "      <th>97</th>\n",
       "      <td>97</td>\n",
       "      <td>RT @ImranRiazKhan: ان سب کی مرمت ہو رہی ہے</td>\n",
       "      <td>2022-04-10 20:10:03</td>\n",
       "    </tr>\n",
       "    <tr>\n",
       "      <th>98</th>\n",
       "      <td>98</td>\n",
       "      <td>RT @SMGhouri2: @SSEHBAI1 ایک بات تو طے ہے کہ ل...</td>\n",
       "      <td>2022-04-10 20:10:03</td>\n",
       "    </tr>\n",
       "    <tr>\n",
       "      <th>99</th>\n",
       "      <td>99</td>\n",
       "      <td>RT @Sameraofficial1: عمران خان 2018 میں ہمارا ...</td>\n",
       "      <td>2022-04-10 20:10:03</td>\n",
       "    </tr>\n",
       "  </tbody>\n",
       "</table>\n",
       "<p>99 rows × 3 columns</p>\n",
       "</div>"
      ],
      "text/plain": [
       "    Unnamed: 0                                             tweets  \\\n",
       "1            1  RT @SSEHBAI1: لوگ باہر: جیسے لوگ نکل رہے ہیں, ...   \n",
       "2            2  RT @FaisalJavedKhan: آپکی رائے میں کیا تحریک ا...   \n",
       "3            3  RT @Abdulla78487680: جس سے جگر لالہ میں ٹھنڈک ...   \n",
       "4            4  RT @fawadchaudhry: شہباز شریف کے کاغذات نامزدگ...   \n",
       "5            5  RT @Sarfraz053: @MaddyWithKhan عمران خان نے کہ...   \n",
       "..         ...                                                ...   \n",
       "95          95  اب شاہین کا تجربہ کرو یا مسرت شاہین کا\\r\\nاگلے...   \n",
       "96          96  RT @MishalBukhari5: شریک جرم ہی ہو گا جو اب رہ...   \n",
       "97          97         RT @ImranRiazKhan: ان سب کی مرمت ہو رہی ہے   \n",
       "98          98  RT @SMGhouri2: @SSEHBAI1 ایک بات تو طے ہے کہ ل...   \n",
       "99          99  RT @Sameraofficial1: عمران خان 2018 میں ہمارا ...   \n",
       "\n",
       "             timestamp  \n",
       "1  2022-04-10 20:09:56  \n",
       "2  2022-04-10 20:09:57  \n",
       "3  2022-04-10 20:09:57  \n",
       "4  2022-04-10 20:09:57  \n",
       "5  2022-04-10 20:09:57  \n",
       "..                 ...  \n",
       "95 2022-04-10 20:10:03  \n",
       "96 2022-04-10 20:10:03  \n",
       "97 2022-04-10 20:10:03  \n",
       "98 2022-04-10 20:10:03  \n",
       "99 2022-04-10 20:10:03  \n",
       "\n",
       "[99 rows x 3 columns]"
      ]
     },
     "execution_count": 9,
     "metadata": {},
     "output_type": "execute_result"
    }
   ],
   "source": [
    "df[1:100]"
   ]
  },
  {
   "cell_type": "code",
   "execution_count": 10,
   "id": "c8f01550",
   "metadata": {},
   "outputs": [],
   "source": [
    "list1 = []\n",
    "for i in range(len(df.index)):\n",
    "    sent = df[df.columns[1]][i]\n",
    "    list1.append(sent)\n",
    "    "
   ]
  },
  {
   "cell_type": "code",
   "execution_count": 11,
   "id": "427187b1",
   "metadata": {},
   "outputs": [],
   "source": [
    "sent_p =[]\n",
    "for tweet in list1:\n",
    "    sent_p.append(preprocess(tweet))"
   ]
  },
  {
   "cell_type": "markdown",
   "id": "a6819bb4",
   "metadata": {},
   "source": [
    "# Timestamp"
   ]
  },
  {
   "cell_type": "code",
   "execution_count": 12,
   "id": "d7a95b8c",
   "metadata": {},
   "outputs": [],
   "source": [
    "df2 = pd.DataFrame(sent_p,columns = [\"tweets\"])"
   ]
  },
  {
   "cell_type": "code",
   "execution_count": 13,
   "id": "e54f9a87",
   "metadata": {},
   "outputs": [],
   "source": [
    "df2['timestamp'] = pd.to_datetime(df['timestamp'], format='%a %b %d %H:%M:%S +0000 %Y')"
   ]
  },
  {
   "cell_type": "code",
   "execution_count": 14,
   "id": "1ef82787",
   "metadata": {},
   "outputs": [],
   "source": [
    "def timefilter(start,end,dft):\n",
    "    filteredTw = []\n",
    "    filteredTm = []\n",
    "    for i in range(0,len(dft)):\n",
    "        if (dft['timestamp'][i] >= start) & (dft['timestamp'][i] <= end):\n",
    "            filteredTw.append(dft['tweets'][i])\n",
    "            filteredTm.append(dft['timestamp'][i])\n",
    "    filtered = pd.DataFrame()\n",
    "    if(filteredTm and filteredTw is not None):\n",
    "        filtered['tweets'] = pd.DataFrame(filteredTw)\n",
    "        filtered['timestamp'] = pd.DataFrame(filteredTm)\n",
    "    else:\n",
    "        print(\"No values found, returning default\")\n",
    "        return dft\n",
    "    \n",
    "#     filtered = dft[(dft['timestamp'] >= start) & (dft['timestamp'] <= end)]\n",
    "    return filtered"
   ]
  },
  {
   "cell_type": "code",
   "execution_count": 15,
   "id": "c84ba330",
   "metadata": {},
   "outputs": [],
   "source": [
    "splitdf2 = timefilter(pd.Timestamp(2022,4,10,20,9,5),pd.Timestamp(2022,4,10,20,9,59),df2)\n",
    "splitdf = timefilter(pd.Timestamp(2022,4,10,20,9,5),pd.Timestamp(2022,4,10,20,9,59),df)\n"
   ]
  },
  {
   "cell_type": "code",
   "execution_count": 16,
   "id": "ecadf1a7",
   "metadata": {},
   "outputs": [
    {
     "data": {
      "text/html": [
       "<div>\n",
       "<style scoped>\n",
       "    .dataframe tbody tr th:only-of-type {\n",
       "        vertical-align: middle;\n",
       "    }\n",
       "\n",
       "    .dataframe tbody tr th {\n",
       "        vertical-align: top;\n",
       "    }\n",
       "\n",
       "    .dataframe thead th {\n",
       "        text-align: right;\n",
       "    }\n",
       "</style>\n",
       "<table border=\"1\" class=\"dataframe\">\n",
       "  <thead>\n",
       "    <tr style=\"text-align: right;\">\n",
       "      <th></th>\n",
       "      <th>tweets</th>\n",
       "      <th>timestamp</th>\n",
       "    </tr>\n",
       "  </thead>\n",
       "  <tbody>\n",
       "    <tr>\n",
       "      <th>0</th>\n",
       "      <td>@SaeedGhani1 چاچا\\r\\nستو پی لیا ہو تو دیکھو\\r\\...</td>\n",
       "      <td>2022-04-10 20:09:56</td>\n",
       "    </tr>\n",
       "    <tr>\n",
       "      <th>1</th>\n",
       "      <td>RT @SSEHBAI1: لوگ باہر: جیسے لوگ نکل رہے ہیں, ...</td>\n",
       "      <td>2022-04-10 20:09:56</td>\n",
       "    </tr>\n",
       "    <tr>\n",
       "      <th>2</th>\n",
       "      <td>RT @FaisalJavedKhan: آپکی رائے میں کیا تحریک ا...</td>\n",
       "      <td>2022-04-10 20:09:57</td>\n",
       "    </tr>\n",
       "    <tr>\n",
       "      <th>3</th>\n",
       "      <td>RT @Abdulla78487680: جس سے جگر لالہ میں ٹھنڈک ...</td>\n",
       "      <td>2022-04-10 20:09:57</td>\n",
       "    </tr>\n",
       "    <tr>\n",
       "      <th>4</th>\n",
       "      <td>RT @fawadchaudhry: شہباز شریف کے کاغذات نامزدگ...</td>\n",
       "      <td>2022-04-10 20:09:57</td>\n",
       "    </tr>\n",
       "    <tr>\n",
       "      <th>5</th>\n",
       "      <td>RT @Sarfraz053: @MaddyWithKhan عمران خان نے کہ...</td>\n",
       "      <td>2022-04-10 20:09:57</td>\n",
       "    </tr>\n",
       "    <tr>\n",
       "      <th>6</th>\n",
       "      <td>پہلے والے غیر جمہوری اور غیر آئینی طریقے سے نک...</td>\n",
       "      <td>2022-04-10 20:09:57</td>\n",
       "    </tr>\n",
       "    <tr>\n",
       "      <th>7</th>\n",
       "      <td>RT @ImranRiazFan_: پاکستان کی تاریخ میں پہلی د...</td>\n",
       "      <td>2022-04-10 20:09:57</td>\n",
       "    </tr>\n",
       "    <tr>\n",
       "      <th>8</th>\n",
       "      <td>RT @haroon_natamam: راولپنڈی میں لوگ سڑکوں پہ ...</td>\n",
       "      <td>2022-04-10 20:09:57</td>\n",
       "    </tr>\n",
       "    <tr>\n",
       "      <th>9</th>\n",
       "      <td>RT @SSEHBAI1: لوگ باہر: جیسے لوگ نکل رہے ہیں, ...</td>\n",
       "      <td>2022-04-10 20:09:57</td>\n",
       "    </tr>\n",
       "    <tr>\n",
       "      <th>10</th>\n",
       "      <td>RT @HHsirHKBaloch: میڈیا بلیک آوٹ کروا کر کیا ...</td>\n",
       "      <td>2022-04-10 20:09:57</td>\n",
       "    </tr>\n",
       "    <tr>\n",
       "      <th>11</th>\n",
       "      <td>RT @_Ujala_R: اس شمع فروزاں کو آندھی سے ڈراتے ...</td>\n",
       "      <td>2022-04-10 20:09:58</td>\n",
       "    </tr>\n",
       "    <tr>\n",
       "      <th>12</th>\n",
       "      <td>RT @abad_ali_khan: @SHABAZGIL یہ لو اب تیز ہو ...</td>\n",
       "      <td>2022-04-10 20:09:58</td>\n",
       "    </tr>\n",
       "    <tr>\n",
       "      <th>13</th>\n",
       "      <td>RT @SSEHBAI1: لوگ باہر: جیسے لوگ نکل رہے ہیں, ...</td>\n",
       "      <td>2022-04-10 20:09:58</td>\n",
       "    </tr>\n",
       "    <tr>\n",
       "      <th>14</th>\n",
       "      <td>@QasimKhanSuri یزید کی جیت کا مطلب حسین کی ہار...</td>\n",
       "      <td>2022-04-10 20:09:58</td>\n",
       "    </tr>\n",
       "    <tr>\n",
       "      <th>15</th>\n",
       "      <td>RT @Muhamma15007911: پولیس رینجرز سے گزارش ہے ...</td>\n",
       "      <td>2022-04-10 20:09:58</td>\n",
       "    </tr>\n",
       "    <tr>\n",
       "      <th>16</th>\n",
       "      <td>RT @haroon_natamam: لاہور میں میں ہوں۔ لبرٹی م...</td>\n",
       "      <td>2022-04-10 20:09:58</td>\n",
       "    </tr>\n",
       "    <tr>\n",
       "      <th>17</th>\n",
       "      <td>RT @MorningStrike11: @SSEHBAI1 @OfficialDGISPR...</td>\n",
       "      <td>2022-04-10 20:09:58</td>\n",
       "    </tr>\n",
       "    <tr>\n",
       "      <th>18</th>\n",
       "      <td>RT @aliya_hamza: اتنے بڑے احتجاج کو میڈیا کیوں...</td>\n",
       "      <td>2022-04-10 20:09:58</td>\n",
       "    </tr>\n",
       "    <tr>\n",
       "      <th>19</th>\n",
       "      <td>RT @fawadchaudhry: میں نے عرض کیا تھا سیاست کے...</td>\n",
       "      <td>2022-04-10 20:09:58</td>\n",
       "    </tr>\n",
       "    <tr>\n",
       "      <th>20</th>\n",
       "      <td>RT @samiabrahim_: جانے والوں کے خلاف تحریک عدم...</td>\n",
       "      <td>2022-04-10 20:09:58</td>\n",
       "    </tr>\n",
       "    <tr>\n",
       "      <th>21</th>\n",
       "      <td>RT @MirMAKOfficial: بِھکاری ہو گا تیرا باپ۔ ہم...</td>\n",
       "      <td>2022-04-10 20:09:59</td>\n",
       "    </tr>\n",
       "    <tr>\n",
       "      <th>22</th>\n",
       "      <td>@ImranKhanPTI یا حیی یا قیوم (انشاءاللہ پاکستا...</td>\n",
       "      <td>2022-04-10 20:09:58</td>\n",
       "    </tr>\n",
       "    <tr>\n",
       "      <th>23</th>\n",
       "      <td>RT @AnsarAAbbasi: عمران خان تو رخصت ہو گئے۔ اب...</td>\n",
       "      <td>2022-04-10 20:09:59</td>\n",
       "    </tr>\n",
       "    <tr>\n",
       "      <th>24</th>\n",
       "      <td>RT @AaqaSAWWkiBaten: رسول اللہ صلی اللہ علیہ و...</td>\n",
       "      <td>2022-04-10 20:09:59</td>\n",
       "    </tr>\n",
       "    <tr>\n",
       "      <th>25</th>\n",
       "      <td>آنے والی نسل خودار اور آزادی پسند بنا دی عمران...</td>\n",
       "      <td>2022-04-10 20:09:59</td>\n",
       "    </tr>\n",
       "    <tr>\n",
       "      <th>26</th>\n",
       "      <td>RT @KHR_SHR_AHR: #حساب_باقی_ہے\\r\\nغازی @HajiQa...</td>\n",
       "      <td>2022-04-10 20:09:59</td>\n",
       "    </tr>\n",
       "    <tr>\n",
       "      <th>27</th>\n",
       "      <td>RT @haroon_natamam: لاہور میں میں ہوں۔ لبرٹی م...</td>\n",
       "      <td>2022-04-10 20:09:59</td>\n",
       "    </tr>\n",
       "    <tr>\n",
       "      <th>28</th>\n",
       "      <td>RT @Khankamoo: جناب @ImranKhanPTI آج ٹویٹ کریں...</td>\n",
       "      <td>2022-04-10 20:09:59</td>\n",
       "    </tr>\n",
       "    <tr>\n",
       "      <th>29</th>\n",
       "      <td>RT @tariqmateen: ایک چینل پر اینکرز رولنگ مستر...</td>\n",
       "      <td>2022-04-10 20:09:59</td>\n",
       "    </tr>\n",
       "    <tr>\n",
       "      <th>30</th>\n",
       "      <td>RT @MirMAKOfficial: بِھکاری ہو گا تیرا باپ۔ ہم...</td>\n",
       "      <td>2022-04-10 20:09:59</td>\n",
       "    </tr>\n",
       "    <tr>\n",
       "      <th>31</th>\n",
       "      <td>RT @SSEHBAI1: لوگ باہر: جیسے لوگ نکل رہے ہیں, ...</td>\n",
       "      <td>2022-04-10 20:09:59</td>\n",
       "    </tr>\n",
       "    <tr>\n",
       "      <th>32</th>\n",
       "      <td>RT @haroon_natamam: لاہور میں میں ہوں۔ لبرٹی م...</td>\n",
       "      <td>2022-04-10 20:09:59</td>\n",
       "    </tr>\n",
       "    <tr>\n",
       "      <th>33</th>\n",
       "      <td>RT @Wabbasi007: ساڑھے تین سال پہلے انہوں نے پو...</td>\n",
       "      <td>2022-04-10 20:09:59</td>\n",
       "    </tr>\n",
       "    <tr>\n",
       "      <th>34</th>\n",
       "      <td>RT @AimanK89: یہ پاکستان کے سٹیک ہولڈرز کے منہ...</td>\n",
       "      <td>2022-04-10 20:09:59</td>\n",
       "    </tr>\n",
       "    <tr>\n",
       "      <th>35</th>\n",
       "      <td>@ARYSabirShakir اللہ کرے کہ احتجاج کا کچھ اثر ...</td>\n",
       "      <td>2022-04-10 20:09:59</td>\n",
       "    </tr>\n",
       "  </tbody>\n",
       "</table>\n",
       "</div>"
      ],
      "text/plain": [
       "                                               tweets           timestamp\n",
       "0   @SaeedGhani1 چاچا\\r\\nستو پی لیا ہو تو دیکھو\\r\\... 2022-04-10 20:09:56\n",
       "1   RT @SSEHBAI1: لوگ باہر: جیسے لوگ نکل رہے ہیں, ... 2022-04-10 20:09:56\n",
       "2   RT @FaisalJavedKhan: آپکی رائے میں کیا تحریک ا... 2022-04-10 20:09:57\n",
       "3   RT @Abdulla78487680: جس سے جگر لالہ میں ٹھنڈک ... 2022-04-10 20:09:57\n",
       "4   RT @fawadchaudhry: شہباز شریف کے کاغذات نامزدگ... 2022-04-10 20:09:57\n",
       "5   RT @Sarfraz053: @MaddyWithKhan عمران خان نے کہ... 2022-04-10 20:09:57\n",
       "6   پہلے والے غیر جمہوری اور غیر آئینی طریقے سے نک... 2022-04-10 20:09:57\n",
       "7   RT @ImranRiazFan_: پاکستان کی تاریخ میں پہلی د... 2022-04-10 20:09:57\n",
       "8   RT @haroon_natamam: راولپنڈی میں لوگ سڑکوں پہ ... 2022-04-10 20:09:57\n",
       "9   RT @SSEHBAI1: لوگ باہر: جیسے لوگ نکل رہے ہیں, ... 2022-04-10 20:09:57\n",
       "10  RT @HHsirHKBaloch: میڈیا بلیک آوٹ کروا کر کیا ... 2022-04-10 20:09:57\n",
       "11  RT @_Ujala_R: اس شمع فروزاں کو آندھی سے ڈراتے ... 2022-04-10 20:09:58\n",
       "12  RT @abad_ali_khan: @SHABAZGIL یہ لو اب تیز ہو ... 2022-04-10 20:09:58\n",
       "13  RT @SSEHBAI1: لوگ باہر: جیسے لوگ نکل رہے ہیں, ... 2022-04-10 20:09:58\n",
       "14  @QasimKhanSuri یزید کی جیت کا مطلب حسین کی ہار... 2022-04-10 20:09:58\n",
       "15  RT @Muhamma15007911: پولیس رینجرز سے گزارش ہے ... 2022-04-10 20:09:58\n",
       "16  RT @haroon_natamam: لاہور میں میں ہوں۔ لبرٹی م... 2022-04-10 20:09:58\n",
       "17  RT @MorningStrike11: @SSEHBAI1 @OfficialDGISPR... 2022-04-10 20:09:58\n",
       "18  RT @aliya_hamza: اتنے بڑے احتجاج کو میڈیا کیوں... 2022-04-10 20:09:58\n",
       "19  RT @fawadchaudhry: میں نے عرض کیا تھا سیاست کے... 2022-04-10 20:09:58\n",
       "20  RT @samiabrahim_: جانے والوں کے خلاف تحریک عدم... 2022-04-10 20:09:58\n",
       "21  RT @MirMAKOfficial: بِھکاری ہو گا تیرا باپ۔ ہم... 2022-04-10 20:09:59\n",
       "22  @ImranKhanPTI یا حیی یا قیوم (انشاءاللہ پاکستا... 2022-04-10 20:09:58\n",
       "23  RT @AnsarAAbbasi: عمران خان تو رخصت ہو گئے۔ اب... 2022-04-10 20:09:59\n",
       "24  RT @AaqaSAWWkiBaten: رسول اللہ صلی اللہ علیہ و... 2022-04-10 20:09:59\n",
       "25  آنے والی نسل خودار اور آزادی پسند بنا دی عمران... 2022-04-10 20:09:59\n",
       "26  RT @KHR_SHR_AHR: #حساب_باقی_ہے\\r\\nغازی @HajiQa... 2022-04-10 20:09:59\n",
       "27  RT @haroon_natamam: لاہور میں میں ہوں۔ لبرٹی م... 2022-04-10 20:09:59\n",
       "28  RT @Khankamoo: جناب @ImranKhanPTI آج ٹویٹ کریں... 2022-04-10 20:09:59\n",
       "29  RT @tariqmateen: ایک چینل پر اینکرز رولنگ مستر... 2022-04-10 20:09:59\n",
       "30  RT @MirMAKOfficial: بِھکاری ہو گا تیرا باپ۔ ہم... 2022-04-10 20:09:59\n",
       "31  RT @SSEHBAI1: لوگ باہر: جیسے لوگ نکل رہے ہیں, ... 2022-04-10 20:09:59\n",
       "32  RT @haroon_natamam: لاہور میں میں ہوں۔ لبرٹی م... 2022-04-10 20:09:59\n",
       "33  RT @Wabbasi007: ساڑھے تین سال پہلے انہوں نے پو... 2022-04-10 20:09:59\n",
       "34  RT @AimanK89: یہ پاکستان کے سٹیک ہولڈرز کے منہ... 2022-04-10 20:09:59\n",
       "35  @ARYSabirShakir اللہ کرے کہ احتجاج کا کچھ اثر ... 2022-04-10 20:09:59"
      ]
     },
     "execution_count": 16,
     "metadata": {},
     "output_type": "execute_result"
    }
   ],
   "source": [
    "splitdf"
   ]
  },
  {
   "cell_type": "markdown",
   "id": "3770222f",
   "metadata": {},
   "source": [
    "# TF-IDF"
   ]
  },
  {
   "cell_type": "code",
   "execution_count": 20,
   "id": "f0c0c864",
   "metadata": {},
   "outputs": [],
   "source": [
    "from sklearn.cluster import KMeans  \n",
    "data = splitdf2\n",
    "tf_idf_vectorizor = TfidfVectorizer(max_features = 5000)\n",
    "tf_idf = tf_idf_vectorizor.fit_transform(splitdf2['tweets'][:])\n",
    "tf_idf_norm = normalize(tf_idf)\n",
    "\n",
    "tf_idf_array = tf_idf_norm.toarray()\n",
    "a = pd.DataFrame(tf_idf_array, columns=tf_idf_vectorizor.get_feature_names())"
   ]
  },
  {
   "cell_type": "markdown",
   "id": "672bd360",
   "metadata": {},
   "source": [
    "# Kneed-Point"
   ]
  },
  {
   "cell_type": "code",
   "execution_count": null,
   "id": "cbb66e7f",
   "metadata": {},
   "outputs": [],
   "source": []
  },
  {
   "cell_type": "code",
   "execution_count": 21,
   "id": "8ac97298",
   "metadata": {},
   "outputs": [
    {
     "data": {
      "text/plain": [
       "Unnamed: 0             int64\n",
       "tweets                object\n",
       "timestamp     datetime64[ns]\n",
       "dtype: object"
      ]
     },
     "execution_count": 21,
     "metadata": {},
     "output_type": "execute_result"
    }
   ],
   "source": [
    "df.dtypes"
   ]
  },
  {
   "cell_type": "code",
   "execution_count": null,
   "id": "202e9eb8",
   "metadata": {},
   "outputs": [],
   "source": []
  },
  {
   "cell_type": "markdown",
   "id": "141e5c4f",
   "metadata": {},
   "source": [
    "# Clustering with Time-stamp"
   ]
  },
  {
   "cell_type": "code",
   "execution_count": 22,
   "id": "4bb2b27e",
   "metadata": {},
   "outputs": [],
   "source": [
    "k = 3\n",
    "model = KMeans(n_clusters=k)\n",
    "\n",
    "labels = model.fit(tf_idf_array)"
   ]
  },
  {
   "cell_type": "code",
   "execution_count": 23,
   "id": "fb844e0b",
   "metadata": {},
   "outputs": [
    {
     "name": "stdout",
     "output_type": "stream",
     "text": [
      "Top terms per cluster:\n",
      "Cluster 0:\n",
      " اللہ\n",
      " اب\n",
      " تیز\n",
      " باجوہ\n",
      " وقت\n",
      " اثر\n",
      " پاکستان\n",
      " انشاء\n",
      " فروزاں\n",
      " شمع\n",
      "Cluster 1:\n",
      " میڈیا\n",
      " دیکھ\n",
      " راستہ\n",
      " لاہور\n",
      " مارکیٹ\n",
      " لبرٹی\n",
      " بند\n",
      " سینڈوچ\n",
      " سوشل\n",
      " پسندیدہ\n",
      "Cluster 2:\n",
      " باہر\n",
      " لوگ\n",
      " باپ\n",
      " پاکستانی\n",
      " ھکاری\n",
      " ملک\n",
      " خان\n",
      " باہرایگا\n",
      " نکل\n",
      " نام\n"
     ]
    }
   ],
   "source": [
    "print(\"Top terms per cluster:\")\n",
    "order_centroids = model.cluster_centers_.argsort()[:, ::-1]\n",
    "terms = tf_idf_vectorizor.get_feature_names()\n",
    "for i in range(k):\n",
    "    print(\"Cluster %d:\" % i)\n",
    "    for ind in order_centroids[i, :10]:\n",
    "        print(' %s' % terms[ind])"
   ]
  },
  {
   "cell_type": "code",
   "execution_count": 24,
   "id": "e2e49ccf",
   "metadata": {},
   "outputs": [],
   "source": [
    "sklearn_pca = PCA(n_components = 3)\n",
    "Y_sklearn = sklearn_pca.fit_transform(tf_idf_array)\n",
    "predicted_values = model.predict(tf_idf_array)"
   ]
  },
  {
   "cell_type": "code",
   "execution_count": 25,
   "id": "30baad5a",
   "metadata": {},
   "outputs": [
    {
     "data": {
      "text/plain": [
       "<matplotlib.collections.PathCollection at 0x1c0a553b430>"
      ]
     },
     "execution_count": 25,
     "metadata": {},
     "output_type": "execute_result"
    },
    {
     "data": {
      "image/png": "[encoded data removed]",
      "text/plain": [
       "<Figure size 432x288 with 1 Axes>"
      ]
     },
     "metadata": {
      "needs_background": "light"
     },
     "output_type": "display_data"
    }
   ],
   "source": [
    "plt.scatter(Y_sklearn[:, 0], Y_sklearn[:, 1], c=predicted_values, s=50, cmap='viridis')"
   ]
  },
  {
   "cell_type": "code",
   "execution_count": 26,
   "id": "cef5e9ad",
   "metadata": {},
   "outputs": [],
   "source": [
    "clusters = []\n",
    "for i in range(k):\n",
    "    clusters.append([])\n",
    "\n",
    "for i,row in splitdf.iterrows():\n",
    "    clusters[predicted_values[i]].append(row['tweets'])"
   ]
  },
  {
   "cell_type": "code",
   "execution_count": 27,
   "id": "ad8eb360",
   "metadata": {},
   "outputs": [
    {
     "name": "stdout",
     "output_type": "stream",
     "text": [
      "Cluster: 0\n",
      "RT @FaisalJavedKhan: آپکی رائے میں کیا تحریک انصاف کو اسمبلی سے مستعفیٰ ہو جانا چاہیے یا نہیں ؟\n",
      "\n",
      "RT @Abdulla78487680: جس سے جگر لالہ میں ٹھنڈک ہو وہ شبنم\n",
      "\n",
      "دریاؤں کے دل جس سے دہل جائیں وہ طوفان،\n",
      "\n",
      "ہر لحظہ ہے مومن.\n",
      "\n",
      "#امپورٹڈ_گورمنٹ_نامنظور…\n",
      "\n",
      "RT @fawadchaudhry: شہباز شریف کے کاغذات نامزدگی منظور ہونے کے بعد ایف آئ اے سے پہلا آرڈر یہ ہوا ہے کہ کل وکلاء کی ٹیم شہباز شریف کے مقدمے م…\n",
      "\n",
      "پہلے والے غیر جمہوری اور غیر آئینی طریقے سے نکالے گئے ۔ اس کو جمہوری ائینی طریقے سے نکالا گیا ۔ \n",
      "یہ تو اب پتہ چلے گا کہ کون چور ھے\n",
      "\n",
      "RT @ImranRiazFan_: پاکستان کی تاریخ میں پہلی دفعہ کوئی چیف آف آرمی سٹاف شدید ترین ذلت کے ساتھ رخصت ہو گا\n",
      "\n",
      "Cluster: 1\n",
      "@SaeedGhani1 چاچا\n",
      "ستو پی لیا ہو تو دیکھو\n",
      "پاکستان میں عوام کیسے نکلی یے\n",
      "\n",
      "RT @HHsirHKBaloch: میڈیا بلیک آوٹ کروا کر کیا اکھاڑ لیا ؟؟ الٹا مزید بے نقاب ہو گئے\n",
      "آج کی جنریشن معلومات کیلئے آپکے \"جیونیوز\" کی محتاج نہیں…\n",
      "\n",
      "RT @Muhamma15007911: پولیس رینجرز سے گزارش ہے کہ جیسے بھی ممکن ہو وہ راستے کھلوائیں ان یوتھیوں سے بچوں نے سکول جانا بیماروں کی ایمبولینس پھ…\n",
      "\n",
      "RT @haroon_natamam: لاہور میں میں ہوں۔ لبرٹی مارکیٹ میں اپنے پسندیدہ ہوٹل سے سینڈوچ منگوانا تھا۔ راستے مگر بند ہیں۔ سوشل میڈیا دیکھا تو دنگ…\n",
      "\n",
      "RT @aliya_hamza: اتنے بڑے احتجاج کو میڈیا کیوں نہیں دکھا رہا؟کس کے کہنے پر ایسا ہو رہا ہے؟\n",
      "ویسےکوئی فرق نہیں پڑتا selected میڈیادیکھتا کون…\n",
      "\n",
      "Cluster: 2\n",
      "RT @SSEHBAI1: لوگ باہر: جیسے لوگ نکل رہے ہیں, جلسے ملک اور باہر بغیر لیڈر کے ہو رہے ہیں، جب خود خان باہرایگا تو کیا حال ہوگا - یہ نام کے شر…\n",
      "\n",
      "RT @Sarfraz053: @MaddyWithKhan عمران خان نے کہا تھا، میرا ووٹر ابھی چھوٹا ہے ۔ لیکن جب وہ 18 سال کا ہوگا تو سارے ووٹس میرے ہوں گے ۔ آج وہ و…\n",
      "\n",
      "RT @haroon_natamam: راولپنڈی میں لوگ سڑکوں پہ ہیں یا چھتوں پر۔ پاکستان کے تمام شہروں سمیت دنیا بھر میں عمران خاں کے حق میں مظاہرے۔  حالات م…\n",
      "\n",
      "RT @SSEHBAI1: لوگ باہر: جیسے لوگ نکل رہے ہیں, جلسے ملک اور باہر بغیر لیڈر کے ہو رہے ہیں، جب خود خان باہرایگا تو کیا حال ہوگا - یہ نام کے شر…\n",
      "\n",
      "RT @SSEHBAI1: لوگ باہر: جیسے لوگ نکل رہے ہیں, جلسے ملک اور باہر بغیر لیڈر کے ہو رہے ہیں، جب خود خان باہرایگا تو کیا حال ہوگا - یہ نام کے شر…\n",
      "\n"
     ]
    }
   ],
   "source": [
    "for i in range(len(clusters)):\n",
    "    print(\"Cluster: \" + str(i))\n",
    "    for j in range(5):\n",
    "        print(clusters[i][j]+'\\n')"
   ]
  },
  {
   "cell_type": "markdown",
   "id": "02047e24",
   "metadata": {},
   "source": [
    "# TAG Clound"
   ]
  },
  {
   "cell_type": "code",
   "execution_count": null,
   "id": "6f4a70f3",
   "metadata": {},
   "outputs": [],
   "source": []
  }
 ],
 "metadata": {
  "kernelspec": {
   "display_name": "Python 3 (ipykernel)",
   "language": "python",
   "name": "python3"
  },
  "language_info": {
   "codemirror_mode": {
    "name": "ipython",
    "version": 3
   },
   "file_extension": ".py",
   "mimetype": "text/x-python",
   "name": "python",
   "nbconvert_exporter": "python",
   "pygments_lexer": "ipython3",
   "version": "3.9.7"
  }
 },
 "nbformat": 4,
 "nbformat_minor": 5
}
