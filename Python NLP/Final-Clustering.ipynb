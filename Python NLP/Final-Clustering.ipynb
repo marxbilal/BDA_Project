{
 "cells": [
  {
   "cell_type": "code",
   "execution_count": 30,
   "id": "763e763a",
   "metadata": {},
   "outputs": [],
   "source": [
    "import stanza\n",
    "import urduhack\n",
    "\n",
    "import pandas as pd\n",
    "import re\n",
    "import numpy as np\n",
    "from urduhack import normalize\n",
    "from urduhack.preprocessing import normalize_whitespace\n",
    "from urduhack.preprocessing import remove_punctuation\n",
    "from urduhack.preprocessing import replace_urls\n",
    "from urduhack.preprocessing import replace_emails\n",
    "from urduhack.preprocessing import replace_numbers\n",
    "from urduhack.preprocessing import remove_english_alphabets\n",
    "\n",
    "from sklearn.cluster import KMeans\n",
    "from sklearn.preprocessing import normalize\n",
    "from sklearn.feature_extraction.text import TfidfVectorizer\n",
    "from sklearn.decomposition import PCA\n",
    "from sklearn.metrics import pairwise_distances\n",
    "\n",
    "\n",
    "from bs4 import BeautifulSoup\n",
    "from scipy.stats import multivariate_normal as mvn\n",
    "\n",
    "import matplotlib.pyplot as plt\n",
    "import seaborn as sns\n",
    "import os\n",
    "import random\n",
    "import string"
   ]
  },
  {
   "cell_type": "code",
   "execution_count": 3,
   "id": "f55df0bc",
   "metadata": {},
   "outputs": [
    {
     "name": "stderr",
     "output_type": "stream",
     "text": [
      "D:\\Softwares\\Anaconda\\lib\\site-packages\\IPython\\core\\interactiveshell.py:3444: FutureWarning: The error_bad_lines argument has been deprecated and will be removed in a future version.\n",
      "\n",
      "\n",
      "  exec(code_obj, self.user_global_ns, self.user_ns)\n"
     ]
    }
   ],
   "source": [
    "df = pd.read_csv('tweets.csv',encoding='utf-8',error_bad_lines=False)"
   ]
  },
  {
   "cell_type": "code",
   "execution_count": 4,
   "id": "956db2e6",
   "metadata": {},
   "outputs": [],
   "source": [
    "df['timestamp'] = pd.to_datetime(df['timestamp'], format='%a %b %d %H:%M:%S +0000 %Y')"
   ]
  },
  {
   "cell_type": "markdown",
   "id": "f45e2595",
   "metadata": {},
   "source": [
    "# Pre-Processing"
   ]
  },
  {
   "cell_type": "code",
   "execution_count": 9,
   "id": "59afefbe",
   "metadata": {},
   "outputs": [
    {
     "name": "stderr",
     "output_type": "stream",
     "text": [
      "2022-04-11 03:49:32 INFO: Loading these models for language: ur (Urdu):\n",
      "=======================\n",
      "| Processor | Package |\n",
      "-----------------------\n",
      "| tokenize  | udtb    |\n",
      "| lemma     | udtb    |\n",
      "=======================\n",
      "\n",
      "2022-04-11 03:49:32 INFO: Use device: cpu\n",
      "2022-04-11 03:49:32 INFO: Loading: tokenize\n",
      "2022-04-11 03:49:32 INFO: Loading: lemma\n",
      "2022-04-11 03:49:32 INFO: Done loading processors!\n"
     ]
    }
   ],
   "source": [
    "nlp = stanza.Pipeline(lang='ur', processors='tokenize,lemma')"
   ]
  },
  {
   "cell_type": "code",
   "execution_count": 10,
   "id": "3da84f45",
   "metadata": {},
   "outputs": [],
   "source": [
    "# urdu_swords = \"ایت نہیں نے ہاں ہر ہم ہمارا ہمارے ہماری ہو ہوا ہوتا ہوتے ہوتی ہوتیں ہوں ہونا ہونگے ہونے ہونی ہوئے ہوئی ہوئیں ہے ہی ہیں و والا والوں والے والی وہ وہاں وہی وہیں یا یعنی یہ یہاں یہی یہیںاب ابھی اپنا اپنے اپنی اٹھا اس اسے اسی اگر ان انہوں انہی انہیں انھیں او اور اے ایسا ایسے ایسی ایک آ آپ آتا آتے آتی آگے آنا آنے آنی آئے آئی آئیں آیا با بڑا بڑے بڑی بعد بعض بلکہ بہت بھی بے پاس پر پہلے پھر تا تاکہ تب تجھ تجھے تک تم تمام تمہارا تمہارے تمھارے تمہاری تمہیں تمھیں تھا تھے تھی تھیں تو تیری تیرے جا جاتا جاتی جاتے جاتی جانے جانی جاؤ جائے جائیں جب جس جن جنہوں جنہیں جو جیسا جیسے جیسی جیسوں چاہیئے چلا چاہے چونکہ حالاں حالانکہ دو دونوں دوں دے دی دیا دیں دیے دیتا دیتے دیتی دینا دینے دینی دیئے ڈالا ڈالنا ڈالنے ڈالنی ڈالے ڈالی ذرا رکھا رکھتا رکھتے رکھتی رکھنا رکھنے رکھنی رکھے رکھی رہ رہا رہتا رہتے رہتی رہنا رہنے رہنی رہو رہے رہی رہیں زیادہ سا سامنے سب سکتا سو سے سی شاید صرف طرح طرف عین کا کبھی کچھ کہہ کر کرتا کرتے کرتی کرنا کرنے کرو کروں کرے کریں کس کسے کسی کہ کہا کہے کو کون کوئی کے کی کیا کیسے کیوں کیونکہ کیے کئے گا گویا گے گی گیا گئے گئی لا لاتا لاتے لاتی لانا لانے لانی لایا لائے لائی لگا لگے لگی لگیں لو لے لی لیا لیتا لیتے لیتی لیکن لیں لیے لئے مجھ مجھے مگر میرا میرے میری میں نا نہ نہایت نہیں نے ہاں ہر ہم ہمارا ہمارے ہماری ہو ہوا ہوتا ہوتے ہوتی ہوتیں ہوں ہونا ہونگے ہونے ہونی ہوئے ہوئی ہوئیں ہے ہی ہیں و والا والوں والے والی وہ وہاں وہی وہیں یا یعنی یہ یہاں یہی یہیں\"\n",
    "# stop_words = \"\"\n",
    "# doc = nlp(urdu_swords)\n",
    "# a = doc.to_dict()\n",
    "# a=a[0]\n",
    "# for i in a:\n",
    "#     stop_words=stop_words+(i['lemma'])+\" \"\n",
    "    \n",
    "# #print(stop_words)\n",
    "\n",
    "# stop_words = stop_words.split()\n",
    "# stop_words = \" \".join(sorted(set(stop_words), key=stop_words.index))\n"
   ]
  },
  {
   "cell_type": "code",
   "execution_count": 11,
   "id": "8bf5eadc",
   "metadata": {},
   "outputs": [],
   "source": [
    "stop_word = 'ایت نہیں نے ہاں ہر ہم مےں ہو ہے ہی و والا وہ وہاں وہی وہیں یا یعنی یہ یہاں یہیںاب ابھی اپنا اٹھ اگر او اور اے ایسا ایک آ آپ آگے آنی آئی با بڑا بڑی بعد بعض بلکہ بہت بھی بے پاس پر پہلے پھر تا تاکہ تب تجھ تو تک تمام تمہارا تمھارا تم تمھ تھا تیری تیرا جا جاؤ جب جو جیسا جیسے جیسی جیس چاہیئے چل چاہ چونکہ حالاں حالانکہ دو دوں دے دینی ڈال ڈالنا ڈالنی ذرا رکھ رکھنی رہ رہنی زیادہ سا سامنے سب سک سو سے سی شاید صرف طرح طرف عین کا کبھی کچھ کہہ کر کون کوا کوئی کہ کہا کو کیسا کیوں کیونکہ گا گویا گے گی لا لاتا لاتی لانی لائے لگ لو لے لیکن لیے لئے مجھ مگر میرا میرے میں نا نہ نہایت یہیں'\n",
    "stop_word = stop_word.split()"
   ]
  },
  {
   "cell_type": "code",
   "execution_count": 13,
   "id": "95785ffb",
   "metadata": {},
   "outputs": [],
   "source": [
    "def preprocess(word):\n",
    "    word = re.sub(\"\\W\", \" \",word)\n",
    "    word = re.sub(\"[a-zA-Z0-9]\",\"\",word)\n",
    "    word = normalize_whitespace(word)\n",
    "    word = remove_punctuation(word)\n",
    "    word = replace_urls(word)\n",
    "    word = replace_emails(word)\n",
    "    #word = normalize(word)\n",
    "    word = replace_numbers(word)\n",
    "    #STanza lemmentization normalize\n",
    "    \n",
    "    doc = nlp(word)\n",
    "    a = doc.to_dict()\n",
    "    if(len(a) != 0):\n",
    "        a = a[0]\n",
    "        word = ''\n",
    "        for i in a:\n",
    "            if not i['lemma'] in stop_word:\n",
    "                if(i['id']==(a[-1]['id'])):\n",
    "                    word=word+i['lemma']\n",
    "                else:\n",
    "                    word = word+i['lemma']+' '\n",
    "    \n",
    "    return word"
   ]
  },
  {
   "cell_type": "code",
   "execution_count": 14,
   "id": "7d6a5af6",
   "metadata": {},
   "outputs": [],
   "source": [
    "def remove_duplicate_words(string):\n",
    "        x = string.split()\n",
    "        x = sorted(set(x), key = x.index)\n",
    "        return ' '.join(x)"
   ]
  },
  {
   "cell_type": "code",
   "execution_count": 15,
   "id": "1c196b83",
   "metadata": {},
   "outputs": [
    {
     "data": {
      "text/html": [
       "<div>\n",
       "<style scoped>\n",
       "    .dataframe tbody tr th:only-of-type {\n",
       "        vertical-align: middle;\n",
       "    }\n",
       "\n",
       "    .dataframe tbody tr th {\n",
       "        vertical-align: top;\n",
       "    }\n",
       "\n",
       "    .dataframe thead th {\n",
       "        text-align: right;\n",
       "    }\n",
       "</style>\n",
       "<table border=\"1\" class=\"dataframe\">\n",
       "  <thead>\n",
       "    <tr style=\"text-align: right;\">\n",
       "      <th></th>\n",
       "      <th>Unnamed: 0</th>\n",
       "      <th>text</th>\n",
       "      <th>timestamp</th>\n",
       "    </tr>\n",
       "  </thead>\n",
       "  <tbody>\n",
       "    <tr>\n",
       "      <th>0</th>\n",
       "      <td>0</td>\n",
       "      <td>@SaeedGhani1 چاچا\\r\\nستو پی لیا ہو تو دیکھو\\r\\...</td>\n",
       "      <td>2022-04-10 20:09:56</td>\n",
       "    </tr>\n",
       "    <tr>\n",
       "      <th>1</th>\n",
       "      <td>1</td>\n",
       "      <td>RT @SSEHBAI1: لوگ باہر: جیسے لوگ نکل رہے ہیں, ...</td>\n",
       "      <td>2022-04-10 20:09:56</td>\n",
       "    </tr>\n",
       "    <tr>\n",
       "      <th>2</th>\n",
       "      <td>2</td>\n",
       "      <td>RT @FaisalJavedKhan: آپکی رائے میں کیا تحریک ا...</td>\n",
       "      <td>2022-04-10 20:09:57</td>\n",
       "    </tr>\n",
       "    <tr>\n",
       "      <th>3</th>\n",
       "      <td>3</td>\n",
       "      <td>RT @Abdulla78487680: جس سے جگر لالہ میں ٹھنڈک ...</td>\n",
       "      <td>2022-04-10 20:09:57</td>\n",
       "    </tr>\n",
       "    <tr>\n",
       "      <th>4</th>\n",
       "      <td>4</td>\n",
       "      <td>RT @fawadchaudhry: شہباز شریف کے کاغذات نامزدگ...</td>\n",
       "      <td>2022-04-10 20:09:57</td>\n",
       "    </tr>\n",
       "  </tbody>\n",
       "</table>\n",
       "</div>"
      ],
      "text/plain": [
       "   Unnamed: 0                                               text  \\\n",
       "0           0  @SaeedGhani1 چاچا\\r\\nستو پی لیا ہو تو دیکھو\\r\\...   \n",
       "1           1  RT @SSEHBAI1: لوگ باہر: جیسے لوگ نکل رہے ہیں, ...   \n",
       "2           2  RT @FaisalJavedKhan: آپکی رائے میں کیا تحریک ا...   \n",
       "3           3  RT @Abdulla78487680: جس سے جگر لالہ میں ٹھنڈک ...   \n",
       "4           4  RT @fawadchaudhry: شہباز شریف کے کاغذات نامزدگ...   \n",
       "\n",
       "            timestamp  \n",
       "0 2022-04-10 20:09:56  \n",
       "1 2022-04-10 20:09:56  \n",
       "2 2022-04-10 20:09:57  \n",
       "3 2022-04-10 20:09:57  \n",
       "4 2022-04-10 20:09:57  "
      ]
     },
     "execution_count": 15,
     "metadata": {},
     "output_type": "execute_result"
    }
   ],
   "source": [
    "df.head()"
   ]
  },
  {
   "cell_type": "code",
   "execution_count": 16,
   "id": "20a7e67e",
   "metadata": {},
   "outputs": [],
   "source": [
    "list1 = []\n",
    "for i in range(len(df.index)):\n",
    "    sent = df[df.columns[1]][i]\n",
    "    list1.append(sent)\n",
    "    "
   ]
  },
  {
   "cell_type": "code",
   "execution_count": 17,
   "id": "7e9e977d",
   "metadata": {},
   "outputs": [],
   "source": [
    "sent_p =[]\n",
    "for tweet in list1:\n",
    "    sent_p.append(preprocess(tweet))"
   ]
  },
  {
   "cell_type": "markdown",
   "id": "e78fa490",
   "metadata": {},
   "source": [
    "# Timestamp"
   ]
  },
  {
   "cell_type": "code",
   "execution_count": 100,
   "id": "8f61bdb0",
   "metadata": {},
   "outputs": [
    {
     "data": {
      "text/plain": [
       "pandas._libs.tslibs.timestamps.Timestamp"
      ]
     },
     "execution_count": 100,
     "metadata": {},
     "output_type": "execute_result"
    }
   ],
   "source": [
    "type(df2['timestamp'][0])"
   ]
  },
  {
   "cell_type": "code",
   "execution_count": 101,
   "id": "e859592f",
   "metadata": {},
   "outputs": [],
   "source": [
    "df2 = pd.DataFrame(sent_p,columns = [\"tweets\"])"
   ]
  },
  {
   "cell_type": "code",
   "execution_count": 102,
   "id": "f45110a7",
   "metadata": {},
   "outputs": [],
   "source": [
    "df2['timestamp'] = pd.to_datetime(df['timestamp'], format='%a %b %d %H:%M:%S +0000 %Y')"
   ]
  },
  {
   "cell_type": "code",
   "execution_count": 114,
   "id": "887a2ab1",
   "metadata": {},
   "outputs": [],
   "source": [
    "def timefilter(start,end):\n",
    "    filteredTw = []\n",
    "    filteredTm = []\n",
    "    for i in range(0,len(df2)):\n",
    "        if (df2['timestamp'][i] >= start) & (df2['timestamp'][i] <= end):\n",
    "            filteredTw.append(df2['tweets'][i])\n",
    "            filteredTm.append(df2['timestamp'][i])\n",
    "    filtered = pd.DataFrame()\n",
    "    filtered['tweets'] = pd.DataFrame(filteredTw)\n",
    "    filtered['timestamp'] = pd.DataFrame(filteredTm)\n",
    "    \n",
    "#     filtered = df2[(df2['timestamp'] >= start) & (df2['timestamp'] <= end)]\n",
    "    return filtered"
   ]
  },
  {
   "cell_type": "code",
   "execution_count": 115,
   "id": "560124cb",
   "metadata": {},
   "outputs": [
    {
     "data": {
      "text/html": [
       "<div>\n",
       "<style scoped>\n",
       "    .dataframe tbody tr th:only-of-type {\n",
       "        vertical-align: middle;\n",
       "    }\n",
       "\n",
       "    .dataframe tbody tr th {\n",
       "        vertical-align: top;\n",
       "    }\n",
       "\n",
       "    .dataframe thead th {\n",
       "        text-align: right;\n",
       "    }\n",
       "</style>\n",
       "<table border=\"1\" class=\"dataframe\">\n",
       "  <thead>\n",
       "    <tr style=\"text-align: right;\">\n",
       "      <th></th>\n",
       "      <th>tweets</th>\n",
       "      <th>timestamp</th>\n",
       "    </tr>\n",
       "  </thead>\n",
       "  <tbody>\n",
       "    <tr>\n",
       "      <th>0</th>\n",
       "      <td>چاچا ستو پی دیکھ پاکستان عوام نکلی یے</td>\n",
       "      <td>2022-04-10 20:09:56</td>\n",
       "    </tr>\n",
       "    <tr>\n",
       "      <th>1</th>\n",
       "      <td>لوگ باہر لوگ نکل جلسا ملک باہر بغیر لیڈر خود خ...</td>\n",
       "      <td>2022-04-10 20:09:56</td>\n",
       "    </tr>\n",
       "    <tr>\n",
       "      <th>2</th>\n",
       "      <td>آپکی رائے تحریک انصاف اسمبلی مستعفی چاہیے</td>\n",
       "      <td>2022-04-10 20:09:57</td>\n",
       "    </tr>\n",
       "    <tr>\n",
       "      <th>3</th>\n",
       "      <td>جگر لالہ ٹھنڈک شبنم دریا دل دہل طوفان لحظہ موم...</td>\n",
       "      <td>2022-04-10 20:09:57</td>\n",
       "    </tr>\n",
       "    <tr>\n",
       "      <th>4</th>\n",
       "      <td>شہباز شریف کاغذہ نامزدگی منظور ایف آئ پہلا آرڈ...</td>\n",
       "      <td>2022-04-10 20:09:57</td>\n",
       "    </tr>\n",
       "    <tr>\n",
       "      <th>...</th>\n",
       "      <td>...</td>\n",
       "      <td>...</td>\n",
       "    </tr>\n",
       "    <tr>\n",
       "      <th>942</th>\n",
       "      <td>راولپنڈی لوگ سڑک پہ چھتہ پاکستان شہر سمیت دنیا...</td>\n",
       "      <td>2022-04-10 20:10:57</td>\n",
       "    </tr>\n",
       "    <tr>\n",
       "      <th>943</th>\n",
       "      <td>بھائی غلامی س غلامی بہتر مسلط نمبر سروے مالکان...</td>\n",
       "      <td>2022-04-10 20:10:57</td>\n",
       "    </tr>\n",
       "    <tr>\n",
       "      <th>944</th>\n",
       "      <td>سمجھ بکا میڈیا روک انقلاب روک غصہ انصاف خلاف ا...</td>\n",
       "      <td>2022-04-10 20:10:57</td>\n",
       "    </tr>\n",
       "    <tr>\n",
       "      <th>945</th>\n",
       "      <td>دیکھ آنکھ کھول دیکھ بےشرم جاہل سمجھ عوام اب بت...</td>\n",
       "      <td>2022-04-10 20:10:57</td>\n",
       "    </tr>\n",
       "    <tr>\n",
       "      <th>946</th>\n",
       "      <td>تحریک انصاف امیر غریب</td>\n",
       "      <td>2022-04-10 20:10:57</td>\n",
       "    </tr>\n",
       "  </tbody>\n",
       "</table>\n",
       "<p>947 rows × 2 columns</p>\n",
       "</div>"
      ],
      "text/plain": [
       "                                                tweets           timestamp\n",
       "0                چاچا ستو پی دیکھ پاکستان عوام نکلی یے 2022-04-10 20:09:56\n",
       "1    لوگ باہر لوگ نکل جلسا ملک باہر بغیر لیڈر خود خ... 2022-04-10 20:09:56\n",
       "2           آپکی رائے تحریک انصاف اسمبلی مستعفی چاہیے  2022-04-10 20:09:57\n",
       "3    جگر لالہ ٹھنڈک شبنم دریا دل دہل طوفان لحظہ موم... 2022-04-10 20:09:57\n",
       "4    شہباز شریف کاغذہ نامزدگی منظور ایف آئ پہلا آرڈ... 2022-04-10 20:09:57\n",
       "..                                                 ...                 ...\n",
       "942  راولپنڈی لوگ سڑک پہ چھتہ پاکستان شہر سمیت دنیا... 2022-04-10 20:10:57\n",
       "943  بھائی غلامی س غلامی بہتر مسلط نمبر سروے مالکان... 2022-04-10 20:10:57\n",
       "944  سمجھ بکا میڈیا روک انقلاب روک غصہ انصاف خلاف ا... 2022-04-10 20:10:57\n",
       "945  دیکھ آنکھ کھول دیکھ بےشرم جاہل سمجھ عوام اب بت... 2022-04-10 20:10:57\n",
       "946                             تحریک انصاف امیر غریب  2022-04-10 20:10:57\n",
       "\n",
       "[947 rows x 2 columns]"
      ]
     },
     "execution_count": 115,
     "metadata": {},
     "output_type": "execute_result"
    }
   ],
   "source": [
    "timefilter(pd.Timestamp(2022,4,10,20,9,55),pd.Timestamp(2022,4,10,20,10,57))\n"
   ]
  },
  {
   "cell_type": "code",
   "execution_count": 105,
   "id": "71de8570",
   "metadata": {},
   "outputs": [
    {
     "data": {
      "text/html": [
       "<div>\n",
       "<style scoped>\n",
       "    .dataframe tbody tr th:only-of-type {\n",
       "        vertical-align: middle;\n",
       "    }\n",
       "\n",
       "    .dataframe tbody tr th {\n",
       "        vertical-align: top;\n",
       "    }\n",
       "\n",
       "    .dataframe thead th {\n",
       "        text-align: right;\n",
       "    }\n",
       "</style>\n",
       "<table border=\"1\" class=\"dataframe\">\n",
       "  <thead>\n",
       "    <tr style=\"text-align: right;\">\n",
       "      <th></th>\n",
       "      <th>tweets</th>\n",
       "      <th>timestamp</th>\n",
       "    </tr>\n",
       "  </thead>\n",
       "  <tbody>\n",
       "    <tr>\n",
       "      <th>0</th>\n",
       "      <td>چاچا ستو پی دیکھ پاکستان عوام نکلی یے</td>\n",
       "      <td>2022-04-10 20:09:56</td>\n",
       "    </tr>\n",
       "    <tr>\n",
       "      <th>1</th>\n",
       "      <td>لوگ باہر لوگ نکل جلسا ملک باہر بغیر لیڈر خود خ...</td>\n",
       "      <td>2022-04-10 20:09:56</td>\n",
       "    </tr>\n",
       "    <tr>\n",
       "      <th>2</th>\n",
       "      <td>آپکی رائے تحریک انصاف اسمبلی مستعفی چاہیے</td>\n",
       "      <td>2022-04-10 20:09:57</td>\n",
       "    </tr>\n",
       "    <tr>\n",
       "      <th>3</th>\n",
       "      <td>جگر لالہ ٹھنڈک شبنم دریا دل دہل طوفان لحظہ موم...</td>\n",
       "      <td>2022-04-10 20:09:57</td>\n",
       "    </tr>\n",
       "    <tr>\n",
       "      <th>4</th>\n",
       "      <td>شہباز شریف کاغذہ نامزدگی منظور ایف آئ پہلا آرڈ...</td>\n",
       "      <td>2022-04-10 20:09:57</td>\n",
       "    </tr>\n",
       "    <tr>\n",
       "      <th>...</th>\n",
       "      <td>...</td>\n",
       "      <td>...</td>\n",
       "    </tr>\n",
       "    <tr>\n",
       "      <th>996</th>\n",
       "      <td>چوکیدار منصف چور ساتھ مل انکو حکومت لوگ خود جا...</td>\n",
       "      <td>2022-04-10 20:11:00</td>\n",
       "    </tr>\n",
       "    <tr>\n",
       "      <th>997</th>\n",
       "      <td>عرض سیاست فیصلہ عدالت کوشش تباہ کن سمجھ آج باہ...</td>\n",
       "      <td>2022-04-10 20:11:00</td>\n",
       "    </tr>\n",
       "    <tr>\n",
       "      <th>998</th>\n",
       "      <td>غلط بندہ چھیڑ بیٹھ نادان</td>\n",
       "      <td>2022-04-10 20:11:00</td>\n",
       "    </tr>\n",
       "    <tr>\n",
       "      <th>999</th>\n",
       "      <td>شمع فروزاں آندھی ڈراتا شمع فروزاں پروانہ ہزار ...</td>\n",
       "      <td>2022-04-10 20:11:00</td>\n",
       "    </tr>\n",
       "    <tr>\n",
       "      <th>1000</th>\n",
       "      <td>جان زندہ</td>\n",
       "      <td>2022-04-10 20:11:00</td>\n",
       "    </tr>\n",
       "  </tbody>\n",
       "</table>\n",
       "<p>1001 rows × 2 columns</p>\n",
       "</div>"
      ],
      "text/plain": [
       "                                                 tweets           timestamp\n",
       "0                 چاچا ستو پی دیکھ پاکستان عوام نکلی یے 2022-04-10 20:09:56\n",
       "1     لوگ باہر لوگ نکل جلسا ملک باہر بغیر لیڈر خود خ... 2022-04-10 20:09:56\n",
       "2            آپکی رائے تحریک انصاف اسمبلی مستعفی چاہیے  2022-04-10 20:09:57\n",
       "3     جگر لالہ ٹھنڈک شبنم دریا دل دہل طوفان لحظہ موم... 2022-04-10 20:09:57\n",
       "4     شہباز شریف کاغذہ نامزدگی منظور ایف آئ پہلا آرڈ... 2022-04-10 20:09:57\n",
       "...                                                 ...                 ...\n",
       "996   چوکیدار منصف چور ساتھ مل انکو حکومت لوگ خود جا... 2022-04-10 20:11:00\n",
       "997   عرض سیاست فیصلہ عدالت کوشش تباہ کن سمجھ آج باہ... 2022-04-10 20:11:00\n",
       "998                            غلط بندہ چھیڑ بیٹھ نادان 2022-04-10 20:11:00\n",
       "999   شمع فروزاں آندھی ڈراتا شمع فروزاں پروانہ ہزار ... 2022-04-10 20:11:00\n",
       "1000                                          جان زندہ  2022-04-10 20:11:00\n",
       "\n",
       "[1001 rows x 2 columns]"
      ]
     },
     "execution_count": 105,
     "metadata": {},
     "output_type": "execute_result"
    }
   ],
   "source": [
    "df2"
   ]
  },
  {
   "cell_type": "markdown",
   "id": "744f3802",
   "metadata": {},
   "source": [
    "# TF-IDF"
   ]
  },
  {
   "cell_type": "code",
   "execution_count": 191,
   "id": "26328e3a",
   "metadata": {},
   "outputs": [
    {
     "name": "stderr",
     "output_type": "stream",
     "text": [
      "c:\\users\\bilawal ali\\appdata\\local\\programs\\python\\python37\\lib\\site-packages\\sklearn\\utils\\deprecation.py:87: FutureWarning: Function get_feature_names is deprecated; get_feature_names is deprecated in 1.0 and will be removed in 1.2. Please use get_feature_names_out instead.\n",
      "  warnings.warn(msg, category=FutureWarning)\n"
     ]
    }
   ],
   "source": [
    "from sklearn.cluster import KMeans  \n",
    "data = df2\n",
    "tf_idf_vectorizor = TfidfVectorizer(max_features = 5000)\n",
    "tf_idf = tf_idf_vectorizor.fit_transform(df2['tweets'][:])\n",
    "tf_idf_norm = normalize(tf_idf)\n",
    "\n",
    "tf_idf_array = tf_idf_norm.toarray()\n",
    "a = pd.DataFrame(tf_idf_array, columns=tf_idf_vectorizor.get_feature_names())"
   ]
  },
  {
   "cell_type": "markdown",
   "id": "aff9669d",
   "metadata": {},
   "source": [
    "# Kneed-Point"
   ]
  },
  {
   "cell_type": "code",
   "execution_count": null,
   "id": "d9e3504e",
   "metadata": {},
   "outputs": [],
   "source": []
  },
  {
   "cell_type": "code",
   "execution_count": 184,
   "id": "ebdb5052",
   "metadata": {},
   "outputs": [
    {
     "data": {
      "text/plain": [
       "Unnamed: 0             int64\n",
       "text                  object\n",
       "timestamp     datetime64[ns]\n",
       "dtype: object"
      ]
     },
     "execution_count": 184,
     "metadata": {},
     "output_type": "execute_result"
    }
   ],
   "source": [
    "df.dtypes"
   ]
  },
  {
   "cell_type": "code",
   "execution_count": 181,
   "id": "a5ef1047",
   "metadata": {},
   "outputs": [],
   "source": []
  },
  {
   "cell_type": "markdown",
   "id": "13c6a2c6",
   "metadata": {},
   "source": [
    "# Clustering with Time-stamp"
   ]
  },
  {
   "cell_type": "code",
   "execution_count": 143,
   "id": "ee93afb1",
   "metadata": {},
   "outputs": [],
   "source": [
    "k = 3\n",
    "model = KMeans(n_clusters=k)\n",
    "\n",
    "labels = model.fit(tf_idf_array)"
   ]
  },
  {
   "cell_type": "code",
   "execution_count": 164,
   "id": "e5b3bd48",
   "metadata": {},
   "outputs": [
    {
     "name": "stdout",
     "output_type": "stream",
     "text": [
      "Top terms per cluster:\n",
      "Cluster 0:\n",
      " عمران\n",
      " میڈیا\n",
      " پاکستان\n",
      " احتجاج\n",
      " خان\n",
      " دکھ\n",
      " اتنا\n",
      " تحریک\n",
      " انصاف\n",
      " عوام\n",
      "Cluster 1:\n",
      " باہر\n",
      " لوگ\n",
      " باہرایگا\n",
      " شر\n",
      " جلسا\n",
      " نام\n",
      " حال\n",
      " بغیر\n",
      " لیڈر\n",
      " خود\n",
      "Cluster 2:\n",
      " ھکاری\n",
      " باپ\n",
      " پاکستانی\n",
      " امپورٹڈحکومتنامنظور\n",
      " لوگ\n",
      " خان\n",
      " نکل\n",
      " اب\n",
      " باہرایگا\n",
      " پاکستان\n"
     ]
    }
   ],
   "source": [
    "print(\"Top terms per cluster:\")\n",
    "order_centroids = model.cluster_centers_.argsort()[:, ::-1]\n",
    "terms = tf_idf_vectorizor.get_feature_names()\n",
    "for i in range(k):\n",
    "    print(\"Cluster %d:\" % i)\n",
    "    for ind in order_centroids[i, :10]:\n",
    "        print(' %s' % terms[ind])"
   ]
  },
  {
   "cell_type": "code",
   "execution_count": 145,
   "id": "58e43845",
   "metadata": {},
   "outputs": [],
   "source": [
    "sklearn_pca = PCA(n_components = 2)\n",
    "Y_sklearn = sklearn_pca.fit_transform(tf_idf_array)\n",
    "predicted_values = model.predict(tf_idf_array)"
   ]
  },
  {
   "cell_type": "code",
   "execution_count": 138,
   "id": "e5cf55ef",
   "metadata": {},
   "outputs": [
    {
     "data": {
      "text/plain": [
       "<matplotlib.collections.PathCollection at 0x276a3bfb388>"
      ]
     },
     "execution_count": 138,
     "metadata": {},
     "output_type": "execute_result"
    },
    {
     "data": {
      "image/png": "[encoded data removed]",
      "text/plain": [
       "<Figure size 432x288 with 1 Axes>"
      ]
     },
     "metadata": {
      "needs_background": "light"
     },
     "output_type": "display_data"
    }
   ],
   "source": [
    "plt.scatter(Y_sklearn[:, 0], Y_sklearn[:, 1], c=predicted_values, s=50, cmap='viridis')"
   ]
  },
  {
   "cell_type": "code",
   "execution_count": 156,
   "id": "1b5fe700",
   "metadata": {},
   "outputs": [],
   "source": [
    "clusters = []\n",
    "for i in range(k):\n",
    "    clusters.append([])\n",
    "\n",
    "for i,row in df.iterrows():\n",
    "    clusters[predicted_values[i]].append(row['text'])"
   ]
  },
  {
   "cell_type": "code",
   "execution_count": 160,
   "id": "334a8a06",
   "metadata": {},
   "outputs": [
    {
     "name": "stdout",
     "output_type": "stream",
     "text": [
      "Cluster: 0\n",
      "@SaeedGhani1 چاچا\n",
      "ستو پی لیا ہو تو دیکھو\n",
      "پاکستان میں عوام کیسے نکلی یے\n",
      "\n",
      "RT @FaisalJavedKhan: آپکی رائے میں کیا تحریک انصاف کو اسمبلی سے مستعفیٰ ہو جانا چاہیے یا نہیں ؟\n",
      "\n",
      "RT @Abdulla78487680: جس سے جگر لالہ میں ٹھنڈک ہو وہ شبنم\n",
      "\n",
      "دریاؤں کے دل جس سے دہل جائیں وہ طوفان،\n",
      "\n",
      "ہر لحظہ ہے مومن.\n",
      "\n",
      "#امپورٹڈ_گورمنٹ_نامنظور…\n",
      "\n",
      "RT @fawadchaudhry: شہباز شریف کے کاغذات نامزدگی منظور ہونے کے بعد ایف آئ اے سے پہلا آرڈر یہ ہوا ہے کہ کل وکلاء کی ٹیم شہباز شریف کے مقدمے م…\n",
      "\n",
      "RT @Sarfraz053: @MaddyWithKhan عمران خان نے کہا تھا، میرا ووٹر ابھی چھوٹا ہے ۔ لیکن جب وہ 18 سال کا ہوگا تو سارے ووٹس میرے ہوں گے ۔ آج وہ و…\n",
      "\n",
      "Cluster: 1\n",
      "RT @SSEHBAI1: لوگ باہر: جیسے لوگ نکل رہے ہیں, جلسے ملک اور باہر بغیر لیڈر کے ہو رہے ہیں، جب خود خان باہرایگا تو کیا حال ہوگا - یہ نام کے شر…\n",
      "\n",
      "RT @SSEHBAI1: لوگ باہر: جیسے لوگ نکل رہے ہیں, جلسے ملک اور باہر بغیر لیڈر کے ہو رہے ہیں، جب خود خان باہرایگا تو کیا حال ہوگا - یہ نام کے شر…\n",
      "\n",
      "RT @SSEHBAI1: لوگ باہر: جیسے لوگ نکل رہے ہیں, جلسے ملک اور باہر بغیر لیڈر کے ہو رہے ہیں، جب خود خان باہرایگا تو کیا حال ہوگا - یہ نام کے شر…\n",
      "\n",
      "RT @SSEHBAI1: لوگ باہر: جیسے لوگ نکل رہے ہیں, جلسے ملک اور باہر بغیر لیڈر کے ہو رہے ہیں، جب خود خان باہرایگا تو کیا حال ہوگا - یہ نام کے شر…\n",
      "\n",
      "RT @SSEHBAI1: لوگ باہر: جیسے لوگ نکل رہے ہیں, جلسے ملک اور باہر بغیر لیڈر کے ہو رہے ہیں، جب خود خان باہرایگا تو کیا حال ہوگا - یہ نام کے شر…\n",
      "\n",
      "Cluster: 2\n",
      "RT @MirMAKOfficial: بِھکاری ہو گا تیرا باپ۔ ہم پاکستانی ہیں۔\n",
      "\n",
      "RT @MirMAKOfficial: بِھکاری ہو گا تیرا باپ۔ ہم پاکستانی ہیں۔\n",
      "\n",
      "RT @MirMAKOfficial: بِھکاری ہو گا تیرا باپ۔ ہم پاکستانی ہیں۔\n",
      "\n",
      "RT @MirMAKOfficial: بِھکاری ہو گا تیرا باپ۔ ہم پاکستانی ہیں۔\n",
      "\n",
      "RT @MirMAKOfficial: بِھکاری ہو گا تیرا باپ۔ ہم پاکستانی ہیں۔\n",
      "\n"
     ]
    }
   ],
   "source": [
    "for i in range(len(clusters)):\n",
    "    print(\"Cluster: \" + str(i))\n",
    "    for j in range(5):\n",
    "        print(clusters[i][j]+'\\n')"
   ]
  }
 ],
 "metadata": {
  "kernelspec": {
   "display_name": "Python 3 (ipykernel)",
   "language": "python",
   "name": "python3"
  },
  "language_info": {
   "codemirror_mode": {
    "name": "ipython",
    "version": 3
   },
   "file_extension": ".py",
   "mimetype": "text/x-python",
   "name": "python",
   "nbconvert_exporter": "python",
   "pygments_lexer": "ipython3",
   "version": "3.9.7"
  }
 },
 "nbformat": 4,
 "nbformat_minor": 5
}
