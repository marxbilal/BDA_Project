{
 "cells": [
  {
   "cell_type": "code",
   "execution_count": 23,
   "metadata": {},
   "outputs": [],
   "source": [
    "import pandas as pd\n",
    "import numpy as np\n",
    "import matplotlib.pyplot as plt\n",
    "import seaborn as sns\n",
    "\n",
    "from sklearn.cluster import KMeans \n",
    "from nltk.corpus import stopwords\n",
    "from sklearn.preprocessing import normalize\n",
    "from nltk.tokenize import word_tokenize\n",
    "from sklearn.feature_extraction.text import TfidfVectorizer\n",
    "from sklearn.decomposition import PCA\n",
    "import nltk\n",
    "import os\n",
    "import random\n",
    "import string\n",
    "import matplotlib.pyplot as plt\n",
    "from sklearn.metrics import pairwise_distances\n",
    "from nltk.stem.porter import PorterStemmer\n",
    "from bs4 import BeautifulSoup\n",
    "from scipy.stats import multivariate_normal as mvn\n"
   ]
  },
  {
   "cell_type": "code",
   "execution_count": 24,
   "metadata": {},
   "outputs": [
    {
     "name": "stderr",
     "output_type": "stream",
     "text": [
      "b'Skipping line 3: expected 1 fields, saw 2\\nSkipping line 16: expected 1 fields, saw 2\\nSkipping line 26: expected 1 fields, saw 2\\nSkipping line 34: expected 1 fields, saw 2\\nSkipping line 57: expected 1 fields, saw 2\\n'\n"
     ]
    }
   ],
   "source": [
    "df = pd.read_csv('E:\\Twitter\\\\tweets.csv', encoding='utf-16', error_bad_lines=False)"
   ]
  },
  {
   "cell_type": "code",
   "execution_count": null,
   "metadata": {},
   "outputs": [],
   "source": []
  },
  {
   "cell_type": "code",
   "execution_count": 25,
   "metadata": {},
   "outputs": [],
   "source": [
    "def nospecial(text):\n",
    "    import re\n",
    "    text = re.sub(\"\\W\", \" \",text)\n",
    "    text = re.sub(\"[a-zA-Z0-9]\",\"\",text)\n",
    "    return text"
   ]
  },
  {
   "cell_type": "code",
   "execution_count": 26,
   "metadata": {},
   "outputs": [],
   "source": [
    "t=\"فاسٹ فوڈ صحت کے لیے کتنے خطرناک؟ ماہرین نے بتادیا - https://t.co/WHL575qus5 https://t.co/SUDOJyuxVsآٹھ ایرانی لیجنیئرز پرکشش منتقلی کے منتظر ہیں\""
   ]
  },
  {
   "cell_type": "code",
   "execution_count": 27,
   "metadata": {},
   "outputs": [],
   "source": [
    "l1 = []\n",
    "for i in range(57):\n",
    "    val = df[df.columns[0]][i]\n",
    "    l1.append(val)"
   ]
  },
  {
   "cell_type": "code",
   "execution_count": 28,
   "metadata": {},
   "outputs": [],
   "source": [
    "l2 =[]\n",
    "for tweet in l1:\n",
    "    l2.append(nospecial(tweet))"
   ]
  },
  {
   "cell_type": "code",
   "execution_count": 29,
   "metadata": {},
   "outputs": [
    {
     "data": {
      "text/html": [
       "<div>\n",
       "<style scoped>\n",
       "    .dataframe tbody tr th:only-of-type {\n",
       "        vertical-align: middle;\n",
       "    }\n",
       "\n",
       "    .dataframe tbody tr th {\n",
       "        vertical-align: top;\n",
       "    }\n",
       "\n",
       "    .dataframe thead th {\n",
       "        text-align: right;\n",
       "    }\n",
       "</style>\n",
       "<table border=\"1\" class=\"dataframe\">\n",
       "  <thead>\n",
       "    <tr style=\"text-align: right;\">\n",
       "      <th></th>\n",
       "      <th>Tweets</th>\n",
       "    </tr>\n",
       "  </thead>\n",
       "  <tbody>\n",
       "    <tr>\n",
       "      <th>0</th>\n",
       "      <td>ملک_کی_بقا_نوازشریف</td>\n",
       "    </tr>\n",
       "    <tr>\n",
       "      <th>1</th>\n",
       "      <td>__    حکومت کے تین سال میں معیشت ...</td>\n",
       "    </tr>\n",
       "    <tr>\n",
       "      <th>2</th>\n",
       "      <td>گئی  سلیم مانڈوی والا</td>\n",
       "    </tr>\n",
       "    <tr>\n",
       "      <th>3</th>\n",
       "      <td></td>\n",
       "    </tr>\n",
       "    <tr>\n",
       "      <th>4</th>\n",
       "      <td>_   حکومتی وزرا ہمیں بتا رہے ہیں اور ...</td>\n",
       "    </tr>\n",
       "  </tbody>\n",
       "</table>\n",
       "</div>"
      ],
      "text/plain": [
       "                                              Tweets\n",
       "0                                ملک_کی_بقا_نوازشریف\n",
       "1               __    حکومت کے تین سال میں معیشت ...\n",
       "2                              گئی  سلیم مانڈوی والا\n",
       "3                                                   \n",
       "4           _   حکومتی وزرا ہمیں بتا رہے ہیں اور ..."
      ]
     },
     "execution_count": 29,
     "metadata": {},
     "output_type": "execute_result"
    }
   ],
   "source": [
    "df1 = pd.DataFrame(l2)\n",
    "df1 = df1.rename({0: 'Tweets'}, axis=1)\n",
    "df1.head()"
   ]
  },
  {
   "cell_type": "code",
   "execution_count": 30,
   "metadata": {},
   "outputs": [
    {
     "name": "stdout",
     "output_type": "stream",
     "text": [
      "['arabic', 'azerbaijani', 'bengali', 'danish', 'dutch', 'english', 'finnish', 'french', 'german', 'greek', 'hungarian', 'indonesian', 'italian', 'kazakh', 'nepali', 'norwegian', 'portuguese', 'romanian', 'russian', 'slovene', 'spanish', 'swedish', 'tajik', 'turkish']\n",
      "['i', 'me', 'my', 'myself', 'we', 'our', 'ours', 'ourselves', 'you', \"you're\", \"you've\", \"you'll\", \"you'd\", 'your', 'yours', 'yourself', 'yourselves', 'he', 'him', 'his', 'himself', 'she', \"she's\", 'her', 'hers', 'herself', 'it', \"it's\", 'its', 'itself', 'they', 'them', 'their', 'theirs', 'themselves', 'what', 'which', 'who', 'whom', 'this', 'that', \"that'll\", 'these', 'those', 'am', 'is', 'are', 'was', 'were', 'be', 'been', 'being', 'have', 'has', 'had', 'having', 'do', 'does', 'did', 'doing', 'a', 'an', 'the', 'and', 'but', 'if', 'or', 'because', 'as', 'until', 'while', 'of', 'at', 'by', 'for', 'with', 'about', 'against', 'between', 'into', 'through', 'during', 'before', 'after', 'above', 'below', 'to', 'from', 'up', 'down', 'in', 'out', 'on', 'off', 'over', 'under', 'again', 'further', 'then', 'once', 'here', 'there', 'when', 'where', 'why', 'how', 'all', 'any', 'both', 'each', 'few', 'more', 'most', 'other', 'some', 'such', 'no', 'nor', 'not', 'only', 'own', 'same', 'so', 'than', 'too', 'very', 's', 't', 'can', 'will', 'just', 'don', \"don't\", 'should', \"should've\", 'now', 'd', 'll', 'm', 'o', 're', 've', 'y', 'ain', 'aren', \"aren't\", 'couldn', \"couldn't\", 'didn', \"didn't\", 'doesn', \"doesn't\", 'hadn', \"hadn't\", 'hasn', \"hasn't\", 'haven', \"haven't\", 'isn', \"isn't\", 'ma', 'mightn', \"mightn't\", 'mustn', \"mustn't\", 'needn', \"needn't\", 'shan', \"shan't\", 'shouldn', \"shouldn't\", 'wasn', \"wasn't\", 'weren', \"weren't\", 'won', \"won't\", 'wouldn', \"wouldn't\"]\n"
     ]
    },
    {
     "name": "stderr",
     "output_type": "stream",
     "text": [
      "[nltk_data] Downloading package stopwords to\n",
      "[nltk_data]     C:\\Users\\mhsin\\AppData\\Roaming\\nltk_data...\n",
      "[nltk_data]   Package stopwords is already up-to-date!\n"
     ]
    }
   ],
   "source": [
    "nltk.download('stopwords')\n",
    "from nltk.corpus import stopwords\n",
    "print(stopwords.fileids())\n",
    "stpwd = stopwords.words(\"english\")\n",
    "print(stpwd)\n",
    "#stop_words = set(stopwords.words(\"urdu\"))\n",
    "#print(stop_words)\n",
    "\n",
    "#URDU STOPWORDS NOT AVAILABLE IN NLTK.CORPUS"
   ]
  },
  {
   "cell_type": "code",
   "execution_count": 31,
   "metadata": {},
   "outputs": [
    {
     "data": {
      "application/vnd.jupyter.widget-view+json": {
       "model_id": "0b45488ef02f415e808462119b1a82f9",
       "version_major": 2,
       "version_minor": 0
      },
      "text/plain": [
       "HBox(children=(HTML(value='Downloading https://raw.githubusercontent.com/stanfordnlp/stanza-resources/main/res…"
      ]
     },
     "metadata": {},
     "output_type": "display_data"
    },
    {
     "name": "stdout",
     "output_type": "stream",
     "text": [
      "\n"
     ]
    },
    {
     "name": "stderr",
     "output_type": "stream",
     "text": [
      "2022-01-22 11:29:04 INFO: Downloading default packages for language: ur (Urdu)...\n",
      "2022-01-22 11:29:04 INFO: File exists: C:\\Users\\mhsin\\stanza_resources\\ur\\default.zip.\n",
      "2022-01-22 11:29:05 INFO: Finished downloading models and saved to C:\\Users\\mhsin\\stanza_resources.\n",
      "2022-01-22 11:29:05 INFO: Loading these models for language: ur (Urdu):\n",
      "=======================\n",
      "| Processor | Package |\n",
      "-----------------------\n",
      "| tokenize  | udtb    |\n",
      "| pos       | udtb    |\n",
      "| lemma     | udtb    |\n",
      "| depparse  | udtb    |\n",
      "=======================\n",
      "\n",
      "2022-01-22 11:29:05 INFO: Use device: cpu\n",
      "2022-01-22 11:29:05 INFO: Loading: tokenize\n",
      "2022-01-22 11:29:05 INFO: Loading: pos\n",
      "2022-01-22 11:29:06 INFO: Loading: lemma\n",
      "2022-01-22 11:29:06 INFO: Loading: depparse\n",
      "2022-01-22 11:29:06 INFO: Done loading processors!\n",
      "2022-01-22 11:29:06 INFO: Loading these models for language: ur (Urdu):\n",
      "=======================\n",
      "| Processor | Package |\n",
      "-----------------------\n",
      "| tokenize  | udtb    |\n",
      "=======================\n",
      "\n",
      "2022-01-22 11:29:06 INFO: Use device: cpu\n",
      "2022-01-22 11:29:06 INFO: Loading: tokenize\n",
      "2022-01-22 11:29:06 INFO: Done loading processors!\n"
     ]
    }
   ],
   "source": [
    "import stanza\n",
    "stanza.download('ur')\n",
    "nlp = stanza.Pipeline('ur')\n",
    "nlp = stanza.Pipeline(lang='ur', processors='tokenize',tokenize_no_ssplit=True)"
   ]
  },
  {
   "cell_type": "code",
   "execution_count": 32,
   "metadata": {},
   "outputs": [],
   "source": [
    "#Stopwords"
   ]
  },
  {
   "cell_type": "markdown",
   "metadata": {},
   "source": [
    "\n",
    "اب\n",
    "ابھی\n",
    "اپنا\n",
    "اپنے\n",
    "اپنی\n",
    "اٹھا\n",
    "اس\n",
    "اسے\n",
    "اسی\n",
    "اگر\n",
    "ان\n",
    "انہوں\n",
    "انہی\n",
    "انہیں\n",
    "انھیں\n",
    "او\n",
    "اور\n",
    "اے\n",
    "ایسا\n",
    "ایسے\n",
    "ایسی\n",
    "ایک\n",
    "آ\n",
    "آپ\n",
    "آتا\n",
    "آتے\n",
    "آتی\n",
    "آگے\n",
    "آنا\n",
    "آنے\n",
    "آنی\n",
    "آئے\n",
    "آئی\n",
    "آئیں\n",
    "آیا\n",
    "با\n",
    "بڑا\n",
    "بڑے\n",
    "بڑی\n",
    "بعد\n",
    "بعض\n",
    "بلکہ\n",
    "بہت\n",
    "بھی\n",
    "بے\n",
    "پاس\n",
    "پر\n",
    "پہلے\n",
    "پھر\n",
    "تا\n",
    "تاکہ\n",
    "تب\n",
    "تجھ\n",
    "تجھے\n",
    "تک\n",
    "تم\n",
    "تمام\n",
    "تمہارا\n",
    "تمہارے\n",
    "تمھارے\n",
    "تمہاری\n",
    "تمہیں\n",
    "تمھیں\n",
    "تھا\n",
    "تھے\n",
    "تھی\n",
    "تھیں\n",
    "تو\n",
    "تیری\n",
    "تیرے\n",
    "جا\n",
    "جاتا\n",
    "جاتی\n",
    "جاتے\n",
    "جاتی\n",
    "جانے\n",
    "جانی\n",
    "جاؤ\n",
    "جائے\n",
    "جائیں\n",
    "جب\n",
    "جس\n",
    "جن\n",
    "جنہوں\n",
    "جنہیں\n",
    "جو\n",
    "جیسا\n",
    "جیسے\n",
    "جیسی\n",
    "جیسوں\n",
    "چاہیئے\n",
    "چلا\n",
    "چاہے\n",
    "چونکہ\n",
    "حالاں\n",
    "حالانکہ\n",
    "دو\n",
    "دونوں\n",
    "دوں\n",
    "دے\n",
    "دی\n",
    "دیا\n",
    "دیں\n",
    "دیے\n",
    "دیتا\n",
    "دیتے\n",
    "دیتی\n",
    "دینا\n",
    "دینے\n",
    "دینی\n",
    "دیئے\n",
    "ڈالا\n",
    "ڈالنا\n",
    "ڈالنے\n",
    "ڈالنی\n",
    "ڈالے\n",
    "ڈالی\n",
    "ذرا\n",
    "رکھا\n",
    "رکھتا\n",
    "رکھتے\n",
    "رکھتی\n",
    "رکھنا\n",
    "رکھنے\n",
    "رکھنی\n",
    "رکھے\n",
    "رکھی\n",
    "رہ\n",
    "رہا\n",
    "رہتا\n",
    "رہتے\n",
    "رہتی\n",
    "رہنا\n",
    "رہنے\n",
    "رہنی\n",
    "رہو\n",
    "رہے\n",
    "رہی\n",
    "رہیں\n",
    "زیادہ\n",
    "سا\n",
    "سامنے\n",
    "سب\n",
    "سکتا\n",
    "سو\n",
    "سے\n",
    "سی\n",
    "شاید\n",
    "صرف\n",
    "طرح\n",
    "طرف\n",
    "عین\n",
    "کا\n",
    "کبھی\n",
    "کچھ\n",
    "کہہ\n",
    "کر\n",
    "کرتا\n",
    "کرتے\n",
    "کرتی\n",
    "کرنا\n",
    "کرنے\n",
    "کرو\n",
    "کروں\n",
    "کرے\n",
    "کریں\n",
    "کس\n",
    "کسے\n",
    "کسی\n",
    "کہ\n",
    "کہا\n",
    "کہے\n",
    "کو\n",
    "کون\n",
    "کوئی\n",
    "کے\n",
    "کی\n",
    "کیا\n",
    "کیسے\n",
    "کیوں\n",
    "کیونکہ\n",
    "کیے\n",
    "کئے\n",
    "گا\n",
    "گویا\n",
    "گے\n",
    "گی\n",
    "گیا\n",
    "گئے\n",
    "گئی\n",
    "لا\n",
    "لاتا\n",
    "لاتے\n",
    "لاتی\n",
    "لانا\n",
    "لانے\n",
    "لانی\n",
    "لایا\n",
    "لائے\n",
    "لائی\n",
    "لگا\n",
    "لگے\n",
    "لگی\n",
    "لگیں\n",
    "لو\n",
    "لے\n",
    "لی\n",
    "لیا\n",
    "لیتا\n",
    "لیتے\n",
    "لیتی\n",
    "لیکن\n",
    "لیں\n",
    "لیے\n",
    "لئے\n",
    "مجھ\n",
    "مجھے\n",
    "مگر\n",
    "میرا\n",
    "میرے\n",
    "میری\n",
    "میں\n",
    "نا\n",
    "نہ\n",
    "نہایت\n",
    "نہیں\n",
    "نے\n",
    "ہاں\n",
    "ہر\n",
    "ہم\n",
    "ہمارا\n",
    "ہمارے\n",
    "ہماری\n",
    "ہو\n",
    "ہوا\n",
    "ہوتا\n",
    "ہوتے\n",
    "ہوتی\n",
    "ہوتیں\n",
    "ہوں\n",
    "ہونا\n",
    "ہونگے\n",
    "ہونے\n",
    "ہونی\n",
    "ہوئے\n",
    "ہوئی\n",
    "ہوئیں\n",
    "ہے\n",
    "ہی\n",
    "ہیں\n",
    "و\n",
    "والا\n",
    "والوں\n",
    "والے\n",
    "والی\n",
    "وہ\n",
    "وہاں\n",
    "وہی\n",
    "وہیں\n",
    "یا\n",
    "یعنی\n",
    "یہ\n",
    "یہاں\n",
    "یہی\n",
    "یہیں"
   ]
  },
  {
   "cell_type": "code",
   "execution_count": 33,
   "metadata": {},
   "outputs": [],
   "source": [
    "words1 = \"ایت نہیں نے ہاں ہر ہم ہمارا ہمارے ہماری ہو ہوا ہوتا ہوتے ہوتی ہوتیں ہوں ہونا ہونگے ہونے ہونی ہوئے ہوئی ہوئیں ہے ہی ہیں و والا والوں والے والی وہ وہاں وہی وہیں یا یعنی یہ یہاں یہی یہیںاب ابھی اپنا اپنے اپنی اٹھا اس اسے اسی اگر ان انہوں انہی انہیں انھیں او اور اے ایسا ایسے ایسی ایک آ آپ آتا آتے آتی آگے آنا آنے آنی آئے آئی آئیں آیا با بڑا بڑے بڑی بعد بعض بلکہ بہت بھی بے پاس پر پہلے پھر تا تاکہ تب تجھ تجھے تک تم تمام تمہارا تمہارے تمھارے تمہاری تمہیں تمھیں تھا تھے تھی تھیں تو تیری تیرے جا جاتا جاتی جاتے جاتی جانے جانی جاؤ جائے جائیں جب جس جن جنہوں جنہیں جو جیسا جیسے جیسی جیسوں چاہیئے چلا چاہے چونکہ حالاں حالانکہ دو دونوں دوں دے دی دیا دیں دیے دیتا دیتے دیتی دینا دینے دینی دیئے ڈالا ڈالنا ڈالنے ڈالنی ڈالے ڈالی ذرا رکھا رکھتا رکھتے رکھتی رکھنا رکھنے رکھنی رکھے رکھی رہ رہا رہتا رہتے رہتی رہنا رہنے رہنی رہو رہے رہی رہیں زیادہ سا سامنے سب سکتا سو سے سی شاید صرف طرح طرف عین کا کبھی کچھ کہہ کر کرتا کرتے کرتی کرنا کرنے کرو کروں کرے کریں کس کسے کسی کہ کہا کہے کو کون کوئی کے کی کیا کیسے کیوں کیونکہ کیے کئے گا گویا گے گی گیا گئے گئی لا لاتا لاتے لاتی لانا لانے لانی لایا لائے لائی لگا لگے لگی لگیں لو لے لی لیا لیتا لیتے لیتی لیکن لیں لیے لئے مجھ مجھے مگر میرا میرے میری میں نا نہ نہایت نہیں نے ہاں ہر ہم ہمارا ہمارے ہماری ہو ہوا ہوتا ہوتے ہوتی ہوتیں ہوں ہونا ہونگے ہونے ہونی ہوئے ہوئی ہوئیں ہے ہی ہیں و والا والوں والے والی وہ وہاں وہی وہیں یا یعنی یہ یہاں یہی یہیں\"\n",
    "words2=\" اور اوًچب اوًچبئی اوًچی اوًچے اى اً اًذر اًہیں اٹھبًب اپٌب اپٌے اچھب اچھی اچھے اکثر اکٹھب اکٹھی اکٹھے اکیلا اکیلی اکیلے اگرچہ اہن ایطے ایک ب ت تبزٍ تت تر ترتیت تریي تعذاد تن تو توبم توہی توہیں تٌہب تک تھب تھوڑا تھوڑی تھوڑے تھی تھے تیي ثب ثبئیں ثبترتیت ثبری ثبرے ثبعث ثبلا ثبلترتیت ثبہر ثدبئے ثرآں ثراں ثرش ثعذ ثغیر ثلٌذ ثلٌذوثبلا ثلکہ ثي ثٌب ثٌبرہب ثٌبرہی ثٌبرہے ثٌبًب ثٌذ ثٌذکرو ثٌذکرًب ثٌذی ثڑا ثڑوں ثڑی ثڑے ثھر ثھرا ثھراہوا ثھرپور ثھی ثہت ثہتر ثہتری ثہتریي ثیچ ج خب خبرہب خبرہی خبرہے خبهوظ خبًب خبًتب خبًتی خبًتے خبًٌب خت ختن خجکہ خص خططرذ خلذی خو خواى خوًہی خوکہ خٌبة خگہ خگہوں خگہیں خیطب خیطبکہ در درخبت درخہ درخے درزقیقت درضت دش دفعہ دلچطپ دلچطپی دلچطپیبں دو دور دوراى دوضرا دوضروں دوضری دوضرے دوًوں دکھبئیں دکھبتب دکھبتی دکھبتے دکھبو دکھبًب دکھبیب دی دیب دیتب دیتی دیتے دیر دیٌب دیکھو دیکھٌب دیکھی دیکھیں دے ر راضتوں راضتہ راضتے رریعہ رریعے رکي رکھ رکھب رکھتب رکھتبہوں رکھتی رکھتے رکھی رکھے رہب رہی رہے ز زبصل زبضر زبل زبلات زبلیہ زصوں زصہ زصے زقبئق زقیتیں زقیقت زکن زکویہ زیبدٍ صبف صسیر صفر صورت صورتسبل صورتوں صورتیں ض ضبت ضبتھ ضبدٍ ضبرا ضبرے ضبل ضبلوں ضت ضرور ضرورت ضروری ضلطلہ ضوچ ضوچب ضوچتب ضوچتی ضوچتے ضوچو ضوچٌب ضوچی ضوچیں ضکب ضکتب ضکتی ضکتے ضکٌب ضکی ضکے ضیذھب ضیذھی ضیذھے ضیکٌڈ ضے طرف طریق طریقوں طریقہ طریقے طور طورپر ظبہر ع عذد عظین علاقوں علاقہ علاقے علاوٍ عووهی غبیذ غخص غذ غروع غروعبت غے فرد فی ق قجل قجیلہ قطن لئے لا لازهی لو لوجب لوجی لوجے لوسبت لوسہ لوگ لوگوں لڑکپي لگتب لگتی لگتے لگٌب لگی لگیں لگے لی لیب لیٌب لیں لے ه هتعلق هختلف هسترم هسترهہ هسطوش هسیذ هطئلہ هطئلے هطبئل هطتعول هطلق هعلوم هػتول هلا هوکي هوکٌبت هوکٌہ هٌبضت هڑا هڑًب هڑے هکول هگر هہرثبى هیرا هیری هیرے هیں و وار والے وٍ ًئی ًئے ًب ًبپطٌذ ًبگسیر ًطجت ًقطہ ًو ًوخواى ًکبلٌب ًکتہ ًہ ًہیں ًیب ًے ٓ آش ٹھیک پبئے پبش پبًب پبًچ پر پراًب پطٌذ پل پورا پوچھب پوچھتب پوچھتی پوچھتے پوچھو پوچھوں پوچھٌب پوچھیں پچھلا پھر پہلا پہلی پہلےضی پہلےضے پہلےضےہی پیع چبر چبہب چبہٌب چبہے چلا چلو چلیں چلے چکب چکی چکیں چکے چھوٹب چھوٹوں چھوٹی چھوٹے چھہ چیسیں ڈھوًڈا ڈھوًڈلیب ڈھوًڈو ڈھوًڈًب ڈھوًڈی ڈھوًڈیں ک کئی کئے کب کبفی کبم کت کجھی کرا کرتب کرتبہوں کرتی کرتے کرتےہو کررہب کررہی کررہے کرو کرًب کریں کرے کطی کل کن کوئی کوتر کورا کوروں کورٍ کورے کوطي کوى کوًطب کوًطی کوًطے کھولا کھولو کھولٌب کھولی کھولیں کھولے کہ کہب کہتب کہتی کہتے کہو کہوں کہٌب کہی کہیں کہے کی کیب کیطب کیطرف کیطے کیلئے کیوًکہ کیوں کیے کے کےثعذ کےرریعے گئی گئے گب گرد گروٍ گروپ گروہوں گٌتی گی گیب گے ہر ہن ہو ہوئی ہوئے ہوا ہوبرا ہوبری ہوبرے ہوتب ہوتی ہوتے ہورہب ہورہی ہورہے ہوضکتب ہوضکتی ہوضکتے ہوًب ہوًی ہوًے ہوچکب ہوچکی ہوچکے ہوگئی ہوگئے ہوگیب ہوں ہی ہیں ہے ی یقیٌی یہ یہبں\"\n",
    "urdu_words = words1+\" \"+ words2\n",
    "def split_on_space(text):\n",
    "    import re\n",
    "    text = re.sub(\"\\s\", \"\\''\",text)\n",
    "    return text\n",
    "\n",
    "urdu_stopwords = split_on_space(urdu_words)"
   ]
  },
  {
   "cell_type": "code",
   "execution_count": 34,
   "metadata": {},
   "outputs": [
    {
     "name": "stdout",
     "output_type": "stream",
     "text": [
      "ایت''نہیں''نے''ہاں''ہر''ہم''ہمارا''ہمارے''ہماری''ہو''ہوا''ہوتا''ہوتے''ہوتی''ہوتیں''ہوں''ہونا''ہونگے''ہونے''ہونی''ہوئے''ہوئی''ہوئیں''ہے''ہی''ہیں''و''والا''والوں''والے''والی''وہ''وہاں''وہی''وہیں''یا''یعنی''یہ''یہاں''یہی''یہیںاب''ابھی''اپنا''اپنے''اپنی''اٹھا''اس''اسے''اسی''اگر''ان''انہوں''انہی''انہیں''انھیں''او''اور''اے''ایسا''ایسے''ایسی''ایک''آ''آپ''آتا''آتے''آتی''آگے''آنا''آنے''آنی''آئے''آئی''آئیں''آیا''با''بڑا''بڑے''بڑی''بعد''بعض''بلکہ''بہت''بھی''بے''پاس''پر''پہلے''پھر''تا''تاکہ''تب''تجھ''تجھے''تک''تم''تمام''تمہارا''تمہارے''تمھارے''تمہاری''تمہیں''تمھیں''تھا''تھے''تھی''تھیں''تو''تیری''تیرے''جا''جاتا''جاتی''جاتے''جاتی''جانے''جانی''جاؤ''جائے''جائیں''جب''جس''جن''جنہوں''جنہیں''جو''جیسا''جیسے''جیسی''جیسوں''چاہیئے''چلا''چاہے''چونکہ''حالاں''حالانکہ''دو''دونوں''دوں''دے''دی''دیا''دیں''دیے''دیتا''دیتے''دیتی''دینا''دینے''دینی''دیئے''ڈالا''ڈالنا''ڈالنے''ڈالنی''ڈالے''ڈالی''ذرا''رکھا''رکھتا''رکھتے''رکھتی''رکھنا''رکھنے''رکھنی''رکھے''رکھی''رہ''رہا''رہتا''رہتے''رہتی''رہنا''رہنے''رہنی''رہو''رہے''رہی''رہیں''زیادہ''سا''سامنے''سب''سکتا''سو''سے''سی''شاید''صرف''طرح''طرف''عین''کا''کبھی''کچھ''کہہ''کر''کرتا''کرتے''کرتی''کرنا''کرنے''کرو''کروں''کرے''کریں''کس''کسے''کسی''کہ''کہا''کہے''کو''کون''کوئی''کے''کی''کیا''کیسے''کیوں''کیونکہ''کیے''کئے''گا''گویا''گے''گی''گیا''گئے''گئی''لا''لاتا''لاتے''لاتی''لانا''لانے''لانی''لایا''لائے''لائی''لگا''لگے''لگی''لگیں''لو''لے''لی''لیا''لیتا''لیتے''لیتی''لیکن''لیں''لیے''لئے''مجھ''مجھے''مگر''میرا''میرے''میری''میں''نا''نہ''نہایت''نہیں''نے''ہاں''ہر''ہم''ہمارا''ہمارے''ہماری''ہو''ہوا''ہوتا''ہوتے''ہوتی''ہوتیں''ہوں''ہونا''ہونگے''ہونے''ہونی''ہوئے''ہوئی''ہوئیں''ہے''ہی''ہیں''و''والا''والوں''والے''والی''وہ''وہاں''وہی''وہیں''یا''یعنی''یہ''یہاں''یہی''یہیں''''اور''اوًچب''اوًچبئی''اوًچی''اوًچے''اى''اً''اًذر''اًہیں''اٹھبًب''اپٌب''اپٌے''اچھب''اچھی''اچھے''اکثر''اکٹھب''اکٹھی''اکٹھے''اکیلا''اکیلی''اکیلے''اگرچہ''اہن''ایطے''ایک''ب''ت''تبزٍ''تت''تر''ترتیت''تریي''تعذاد''تن''تو''توبم''توہی''توہیں''تٌہب''تک''تھب''تھوڑا''تھوڑی''تھوڑے''تھی''تھے''تیي''ثب''ثبئیں''ثبترتیت''ثبری''ثبرے''ثبعث''ثبلا''ثبلترتیت''ثبہر''ثدبئے''ثرآں''ثراں''ثرش''ثعذ''ثغیر''ثلٌذ''ثلٌذوثبلا''ثلکہ''ثي''ثٌب''ثٌبرہب''ثٌبرہی''ثٌبرہے''ثٌبًب''ثٌذ''ثٌذکرو''ثٌذکرًب''ثٌذی''ثڑا''ثڑوں''ثڑی''ثڑے''ثھر''ثھرا''ثھراہوا''ثھرپور''ثھی''ثہت''ثہتر''ثہتری''ثہتریي''ثیچ''ج''خب''خبرہب''خبرہی''خبرہے''خبهوظ''خبًب''خبًتب''خبًتی''خبًتے''خبًٌب''خت''ختن''خجکہ''خص''خططرذ''خلذی''خو''خواى''خوًہی''خوکہ''خٌبة''خگہ''خگہوں''خگہیں''خیطب''خیطبکہ''در''درخبت''درخہ''درخے''درزقیقت''درضت''دش''دفعہ''دلچطپ''دلچطپی''دلچطپیبں''دو''دور''دوراى''دوضرا''دوضروں''دوضری''دوضرے''دوًوں''دکھبئیں''دکھبتب''دکھبتی''دکھبتے''دکھبو''دکھبًب''دکھبیب''دی''دیب''دیتب''دیتی''دیتے''دیر''دیٌب''دیکھو''دیکھٌب''دیکھی''دیکھیں''دے''ر''راضتوں''راضتہ''راضتے''رریعہ''رریعے''رکي''رکھ''رکھب''رکھتب''رکھتبہوں''رکھتی''رکھتے''رکھی''رکھے''رہب''رہی''رہے''ز''زبصل''زبضر''زبل''زبلات''زبلیہ''زصوں''زصہ''زصے''زقبئق''زقیتیں''زقیقت''زکن''زکویہ''زیبدٍ''صبف''صسیر''صفر''صورت''صورتسبل''صورتوں''صورتیں''ض''ضبت''ضبتھ''ضبدٍ''ضبرا''ضبرے''ضبل''ضبلوں''ضت''ضرور''ضرورت''ضروری''ضلطلہ''ضوچ''ضوچب''ضوچتب''ضوچتی''ضوچتے''ضوچو''ضوچٌب''ضوچی''ضوچیں''ضکب''ضکتب''ضکتی''ضکتے''ضکٌب''ضکی''ضکے''ضیذھب''ضیذھی''ضیذھے''ضیکٌڈ''ضے''طرف''طریق''طریقوں''طریقہ''طریقے''طور''طورپر''ظبہر''ع''عذد''عظین''علاقوں''علاقہ''علاقے''علاوٍ''عووهی''غبیذ''غخص''غذ''غروع''غروعبت''غے''فرد''فی''ق''قجل''قجیلہ''قطن''لئے''لا''لازهی''لو''لوجب''لوجی''لوجے''لوسبت''لوسہ''لوگ''لوگوں''لڑکپي''لگتب''لگتی''لگتے''لگٌب''لگی''لگیں''لگے''لی''لیب''لیٌب''لیں''لے''ه''هتعلق''هختلف''هسترم''هسترهہ''هسطوش''هسیذ''هطئلہ''هطئلے''هطبئل''هطتعول''هطلق''هعلوم''هػتول''هلا''هوکي''هوکٌبت''هوکٌہ''هٌبضت''هڑا''هڑًب''هڑے''هکول''هگر''هہرثبى''هیرا''هیری''هیرے''هیں''و''وار''والے''وٍ''ًئی''ًئے''ًب''ًبپطٌذ''ًبگسیر''ًطجت''ًقطہ''ًو''ًوخواى''ًکبلٌب''ًکتہ''ًہ''ًہیں''ًیب''ًے''ٓ''آش''ٹھیک''پبئے''پبش''پبًب''پبًچ''پر''پراًب''پطٌذ''پل''پورا''پوچھب''پوچھتب''پوچھتی''پوچھتے''پوچھو''پوچھوں''پوچھٌب''پوچھیں''پچھلا''پھر''پہلا''پہلی''پہلےضی''پہلےضے''پہلےضےہی''پیع''چبر''چبہب''چبہٌب''چبہے''چلا''چلو''چلیں''چلے''چکب''چکی''چکیں''چکے''چھوٹب''چھوٹوں''چھوٹی''چھوٹے''چھہ''چیسیں''ڈھوًڈا''ڈھوًڈلیب''ڈھوًڈو''ڈھوًڈًب''ڈھوًڈی''ڈھوًڈیں''ک''کئی''کئے''کب''کبفی''کبم''کت''کجھی''کرا''کرتب''کرتبہوں''کرتی''کرتے''کرتےہو''کررہب''کررہی''کررہے''کرو''کرًب''کریں''کرے''کطی''کل''کن''کوئی''کوتر''کورا''کوروں''کورٍ''کورے''کوطي''کوى''کوًطب''کوًطی''کوًطے''کھولا''کھولو''کھولٌب''کھولی''کھولیں''کھولے''کہ''کہب''کہتب''کہتی''کہتے''کہو''کہوں''کہٌب''کہی''کہیں''کہے''کی''کیب''کیطب''کیطرف''کیطے''کیلئے''کیوًکہ''کیوں''کیے''کے''کےثعذ''کےرریعے''گئی''گئے''گب''گرد''گروٍ''گروپ''گروہوں''گٌتی''گی''گیب''گے''ہر''ہن''ہو''ہوئی''ہوئے''ہوا''ہوبرا''ہوبری''ہوبرے''ہوتب''ہوتی''ہوتے''ہورہب''ہورہی''ہورہے''ہوضکتب''ہوضکتی''ہوضکتے''ہوًب''ہوًی''ہوًے''ہوچکب''ہوچکی''ہوچکے''ہوگئی''ہوگئے''ہوگیب''ہوں''ہی''ہیں''ہے''ی''یقیٌی''یہ''یہبں\n"
     ]
    }
   ],
   "source": [
    "print(urdu_stopwords)"
   ]
  },
  {
   "cell_type": "code",
   "execution_count": 35,
   "metadata": {},
   "outputs": [
    {
     "data": {
      "text/plain": [
       "<matplotlib.image.AxesImage at 0x1ff2f1ff430>"
      ]
     },
     "execution_count": 35,
     "metadata": {},
     "output_type": "execute_result"
    },
    {
     "data": {
      "image/png": "[encoded data removed]",
      "text/plain": [
       "<Figure size 432x288 with 1 Axes>"
      ]
     },
     "metadata": {
      "needs_background": "light"
     },
     "output_type": "display_data"
    }
   ],
   "source": [
    "from wordcloud import WordCloud\n",
    "from bidi.algorithm import get_display\n",
    "from arabic_reshaper import ArabicReshaper\n",
    "\n",
    "configuration = {\n",
    "    \"language\": \"Urdu\"\n",
    "}\n",
    "reshaper = ArabicReshaper(configuration=configuration)\n",
    "\n",
    "tweets_text = reshaper.reshape(df1[df1.columns[0]].all())\n",
    "tweets_text = get_display(tweets_text)\n",
    "\n",
    "\n",
    "wc = WordCloud(background_color=\"white\",width=1600, stopwords=urdu_stopwords,height=800,font_path='NotoNaskhArabic-Regular.ttf', repeat=False)\n",
    "wc.generate(tweets_text)\n",
    "\n",
    "plt.axis(\"off\")\n",
    "plt.imshow(wc, interpolation=\"bilinear\")\n"
   ]
  },
  {
   "cell_type": "code",
   "execution_count": null,
   "metadata": {},
   "outputs": [],
   "source": []
  },
  {
   "cell_type": "code",
   "execution_count": 17,
   "metadata": {},
   "outputs": [
    {
     "data": {
      "application/vnd.jupyter.widget-view+json": {
       "model_id": "56f7d0fb373f4bfab0ae3c960014f758",
       "version_major": 2,
       "version_minor": 0
      },
      "text/plain": [
       "HBox(children=(HTML(value='Downloading https://raw.githubusercontent.com/stanfordnlp/stanza-resources/main/res…"
      ]
     },
     "metadata": {},
     "output_type": "display_data"
    },
    {
     "name": "stderr",
     "output_type": "stream",
     "text": [
      "2022-01-22 11:03:55 INFO: Downloading default packages for language: ur (Urdu)...\n"
     ]
    },
    {
     "name": "stdout",
     "output_type": "stream",
     "text": [
      "\n"
     ]
    },
    {
     "name": "stderr",
     "output_type": "stream",
     "text": [
      "2022-01-22 11:03:56 INFO: File exists: C:\\Users\\mhsin\\stanza_resources\\ur\\default.zip.\n",
      "2022-01-22 11:03:57 INFO: Finished downloading models and saved to C:\\Users\\mhsin\\stanza_resources.\n",
      "2022-01-22 11:03:57 INFO: Loading these models for language: ur (Urdu):\n",
      "=======================\n",
      "| Processor | Package |\n",
      "-----------------------\n",
      "| tokenize  | udtb    |\n",
      "| pos       | udtb    |\n",
      "| lemma     | udtb    |\n",
      "| depparse  | udtb    |\n",
      "=======================\n",
      "\n",
      "2022-01-22 11:03:57 INFO: Use device: cpu\n",
      "2022-01-22 11:03:57 INFO: Loading: tokenize\n",
      "2022-01-22 11:03:57 INFO: Loading: pos\n",
      "2022-01-22 11:03:57 INFO: Loading: lemma\n",
      "2022-01-22 11:03:57 INFO: Loading: depparse\n",
      "2022-01-22 11:03:58 INFO: Done loading processors!\n",
      "2022-01-22 11:03:58 INFO: Loading these models for language: ur (Urdu):\n",
      "=======================\n",
      "| Processor | Package |\n",
      "-----------------------\n",
      "| tokenize  | udtb    |\n",
      "=======================\n",
      "\n",
      "2022-01-22 11:03:58 INFO: Use device: cpu\n",
      "2022-01-22 11:03:58 INFO: Loading: tokenize\n",
      "2022-01-22 11:03:58 INFO: Done loading processors!\n"
     ]
    }
   ],
   "source": []
  },
  {
   "cell_type": "code",
   "execution_count": 38,
   "metadata": {},
   "outputs": [
    {
     "data": {
      "text/plain": [
       "'           بحیرہ احمر میں ایرانی آرمی فلیٹ  مشن کی تکمیل'"
      ]
     },
     "execution_count": 38,
     "metadata": {},
     "output_type": "execute_result"
    }
   ],
   "source": [
    "df1['Tweets'][5]"
   ]
  },
  {
   "cell_type": "code",
   "execution_count": null,
   "metadata": {},
   "outputs": [],
   "source": []
  },
  {
   "cell_type": "code",
   "execution_count": null,
   "metadata": {},
   "outputs": [],
   "source": []
  },
  {
   "cell_type": "code",
   "execution_count": 22,
   "metadata": {},
   "outputs": [
    {
     "data": {
      "text/html": [
       "<div>\n",
       "<style scoped>\n",
       "    .dataframe tbody tr th:only-of-type {\n",
       "        vertical-align: middle;\n",
       "    }\n",
       "\n",
       "    .dataframe tbody tr th {\n",
       "        vertical-align: top;\n",
       "    }\n",
       "\n",
       "    .dataframe thead th {\n",
       "        text-align: right;\n",
       "    }\n",
       "</style>\n",
       "<table border=\"1\" class=\"dataframe\">\n",
       "  <thead>\n",
       "    <tr style=\"text-align: right;\">\n",
       "      <th></th>\n",
       "      <th>__</th>\n",
       "      <th>آئی</th>\n",
       "      <th>آباد</th>\n",
       "      <th>آتی</th>\n",
       "      <th>آج</th>\n",
       "      <th>آخری</th>\n",
       "      <th>آرمی</th>\n",
       "      <th>آرڈیننس</th>\n",
       "      <th>آرگنائزیشن</th>\n",
       "      <th>آزاد</th>\n",
       "      <th>...</th>\n",
       "      <th>ہےیہ</th>\n",
       "      <th>یا</th>\n",
       "      <th>یار</th>\n",
       "      <th>یاست</th>\n",
       "      <th>یرغمال</th>\n",
       "      <th>یعنی</th>\n",
       "      <th>یقینا</th>\n",
       "      <th>یورپ</th>\n",
       "      <th>یہ</th>\n",
       "      <th>یہیں</th>\n",
       "    </tr>\n",
       "  </thead>\n",
       "  <tbody>\n",
       "    <tr>\n",
       "      <th>0</th>\n",
       "      <td>0.000000</td>\n",
       "      <td>0.0</td>\n",
       "      <td>0.0</td>\n",
       "      <td>0.0</td>\n",
       "      <td>0.0</td>\n",
       "      <td>0.0</td>\n",
       "      <td>0.0</td>\n",
       "      <td>0.0</td>\n",
       "      <td>0.0</td>\n",
       "      <td>0.0</td>\n",
       "      <td>...</td>\n",
       "      <td>0.0</td>\n",
       "      <td>0.0</td>\n",
       "      <td>0.0</td>\n",
       "      <td>0.0</td>\n",
       "      <td>0.0</td>\n",
       "      <td>0.0</td>\n",
       "      <td>0.0</td>\n",
       "      <td>0.0</td>\n",
       "      <td>0.0</td>\n",
       "      <td>0.0</td>\n",
       "    </tr>\n",
       "    <tr>\n",
       "      <th>1</th>\n",
       "      <td>0.406127</td>\n",
       "      <td>0.0</td>\n",
       "      <td>0.0</td>\n",
       "      <td>0.0</td>\n",
       "      <td>0.0</td>\n",
       "      <td>0.0</td>\n",
       "      <td>0.0</td>\n",
       "      <td>0.0</td>\n",
       "      <td>0.0</td>\n",
       "      <td>0.0</td>\n",
       "      <td>...</td>\n",
       "      <td>0.0</td>\n",
       "      <td>0.0</td>\n",
       "      <td>0.0</td>\n",
       "      <td>0.0</td>\n",
       "      <td>0.0</td>\n",
       "      <td>0.0</td>\n",
       "      <td>0.0</td>\n",
       "      <td>0.0</td>\n",
       "      <td>0.0</td>\n",
       "      <td>0.0</td>\n",
       "    </tr>\n",
       "    <tr>\n",
       "      <th>2</th>\n",
       "      <td>0.000000</td>\n",
       "      <td>0.0</td>\n",
       "      <td>0.0</td>\n",
       "      <td>0.0</td>\n",
       "      <td>0.0</td>\n",
       "      <td>0.0</td>\n",
       "      <td>0.0</td>\n",
       "      <td>0.0</td>\n",
       "      <td>0.0</td>\n",
       "      <td>0.0</td>\n",
       "      <td>...</td>\n",
       "      <td>0.0</td>\n",
       "      <td>0.0</td>\n",
       "      <td>0.0</td>\n",
       "      <td>0.0</td>\n",
       "      <td>0.0</td>\n",
       "      <td>0.0</td>\n",
       "      <td>0.0</td>\n",
       "      <td>0.0</td>\n",
       "      <td>0.0</td>\n",
       "      <td>0.0</td>\n",
       "    </tr>\n",
       "    <tr>\n",
       "      <th>3</th>\n",
       "      <td>0.000000</td>\n",
       "      <td>0.0</td>\n",
       "      <td>0.0</td>\n",
       "      <td>0.0</td>\n",
       "      <td>0.0</td>\n",
       "      <td>0.0</td>\n",
       "      <td>0.0</td>\n",
       "      <td>0.0</td>\n",
       "      <td>0.0</td>\n",
       "      <td>0.0</td>\n",
       "      <td>...</td>\n",
       "      <td>0.0</td>\n",
       "      <td>0.0</td>\n",
       "      <td>0.0</td>\n",
       "      <td>0.0</td>\n",
       "      <td>0.0</td>\n",
       "      <td>0.0</td>\n",
       "      <td>0.0</td>\n",
       "      <td>0.0</td>\n",
       "      <td>0.0</td>\n",
       "      <td>0.0</td>\n",
       "    </tr>\n",
       "    <tr>\n",
       "      <th>4</th>\n",
       "      <td>0.000000</td>\n",
       "      <td>0.0</td>\n",
       "      <td>0.0</td>\n",
       "      <td>0.0</td>\n",
       "      <td>0.0</td>\n",
       "      <td>0.0</td>\n",
       "      <td>0.0</td>\n",
       "      <td>0.0</td>\n",
       "      <td>0.0</td>\n",
       "      <td>0.0</td>\n",
       "      <td>...</td>\n",
       "      <td>0.0</td>\n",
       "      <td>0.0</td>\n",
       "      <td>0.0</td>\n",
       "      <td>0.0</td>\n",
       "      <td>0.0</td>\n",
       "      <td>0.0</td>\n",
       "      <td>0.0</td>\n",
       "      <td>0.0</td>\n",
       "      <td>0.0</td>\n",
       "      <td>0.0</td>\n",
       "    </tr>\n",
       "  </tbody>\n",
       "</table>\n",
       "<p>5 rows × 741 columns</p>\n",
       "</div>"
      ],
      "text/plain": [
       "         __  آئی  آباد  آتی   آج  آخری  آرمی  آرڈیننس  آرگنائزیشن  آزاد  ...  \\\n",
       "0  0.000000  0.0   0.0  0.0  0.0   0.0   0.0      0.0         0.0   0.0  ...   \n",
       "1  0.406127  0.0   0.0  0.0  0.0   0.0   0.0      0.0         0.0   0.0  ...   \n",
       "2  0.000000  0.0   0.0  0.0  0.0   0.0   0.0      0.0         0.0   0.0  ...   \n",
       "3  0.000000  0.0   0.0  0.0  0.0   0.0   0.0      0.0         0.0   0.0  ...   \n",
       "4  0.000000  0.0   0.0  0.0  0.0   0.0   0.0      0.0         0.0   0.0  ...   \n",
       "\n",
       "   ہےیہ   یا  یار  یاست  یرغمال  یعنی  یقینا  یورپ   یہ  یہیں  \n",
       "0   0.0  0.0  0.0   0.0     0.0   0.0    0.0   0.0  0.0   0.0  \n",
       "1   0.0  0.0  0.0   0.0     0.0   0.0    0.0   0.0  0.0   0.0  \n",
       "2   0.0  0.0  0.0   0.0     0.0   0.0    0.0   0.0  0.0   0.0  \n",
       "3   0.0  0.0  0.0   0.0     0.0   0.0    0.0   0.0  0.0   0.0  \n",
       "4   0.0  0.0  0.0   0.0     0.0   0.0    0.0   0.0  0.0   0.0  \n",
       "\n",
       "[5 rows x 741 columns]"
      ]
     },
     "execution_count": 22,
     "metadata": {},
     "output_type": "execute_result"
    }
   ],
   "source": [
    "from sklearn.cluster import KMeans  \n",
    "data = df1\n",
    "tf_idf_vectorizor = TfidfVectorizer(max_features = 5000)\n",
    "tf_idf = tf_idf_vectorizor.fit_transform(df1['Tweets'][:])\n",
    "tf_idf_norm = normalize(tf_idf)\n",
    "\n",
    "tf_idf_array = tf_idf_norm.toarray()\n",
    "pd.DataFrame(tf_idf_array, columns=tf_idf_vectorizor.get_feature_names()).head()\n"
   ]
  },
  {
   "cell_type": "code",
   "execution_count": 15,
   "metadata": {},
   "outputs": [
    {
     "data": {
      "text/plain": [
       "57"
      ]
     },
     "execution_count": 15,
     "metadata": {},
     "output_type": "execute_result"
    }
   ],
   "source": [
    "len(tf_idf_array)"
   ]
  },
  {
   "cell_type": "code",
   "execution_count": 205,
   "metadata": {},
   "outputs": [
    {
     "data": {
      "text/plain": [
       "array([[0.        , 0.        , 0.        , ..., 0.        , 0.        ,\n",
       "        0.        ],\n",
       "       [0.40612704, 0.        , 0.        , ..., 0.        , 0.        ,\n",
       "        0.        ],\n",
       "       [0.        , 0.        , 0.        , ..., 0.        , 0.        ,\n",
       "        0.        ],\n",
       "       ...,\n",
       "       [0.        , 0.        , 0.        , ..., 0.        , 0.06524447,\n",
       "        0.        ],\n",
       "       [0.        , 0.        , 0.        , ..., 0.        , 0.        ,\n",
       "        0.        ],\n",
       "       [0.        , 0.10327576, 0.        , ..., 0.        , 0.08379225,\n",
       "        0.        ]])"
      ]
     },
     "execution_count": 205,
     "metadata": {},
     "output_type": "execute_result"
    }
   ],
   "source": [
    "tf_idf_array"
   ]
  },
  {
   "cell_type": "code",
   "execution_count": 206,
   "metadata": {},
   "outputs": [],
   "source": [
    "#Kmeans\n",
    "class Kmeans:\n",
    "    \n",
    "    \n",
    "    def __init__(self, k, seed = None, max_iter = 200):\n",
    "        self.k = k\n",
    "        self.seed = seed\n",
    "        if self.seed is not None:\n",
    "            np.random.seed(self.seed)\n",
    "        self.max_iter = max_iter\n",
    "        \n",
    "            \n",
    "    \n",
    "    def initialise_centroids(self, data):\n",
    "        \n",
    "        \n",
    "        initial_centroids = np.random.permutation(data.shape[0])[:self.k]\n",
    "        self.centroids = data[initial_centroids]\n",
    "\n",
    "        return self.centroids\n",
    "    \n",
    "    \n",
    "    def assign_clusters(self, data):\n",
    "        \n",
    "        \n",
    "        if data.ndim == 1:\n",
    "            data = data.reshape(-1, 1)\n",
    "        \n",
    "        dist_to_centroid =  pairwise_distances(data, self.centroids, metric = 'euclidean')\n",
    "        self.cluster_labels = np.argmin(dist_to_centroid, axis = 1)\n",
    "        \n",
    "        return  self.cluster_labels\n",
    "    \n",
    "    \n",
    "    def update_centroids(self, data):\n",
    "        \n",
    "        \n",
    "        self.centroids = np.array([data[self.cluster_labels == i].mean(axis = 0) for i in range(self.k)])\n",
    "        \n",
    "        return self.centroids\n",
    "    \n",
    "    \n",
    "    def convergence_calculation(self):\n",
    "        \n",
    "        pass\n",
    "    \n",
    "    def predict(self, data):\n",
    "        \n",
    "        \n",
    "        return self.assign_clusters(data)\n",
    "    \n",
    "    def fit_kmeans(self, data):\n",
    "        \n",
    "        self.centroids = self.initialise_centroids(data)\n",
    "        \n",
    "        # Main kmeans loop\n",
    "        for iter in range(self.max_iter):\n",
    "\n",
    "            self.cluster_labels = self.assign_clusters(data)\n",
    "            self.centroids = self.update_centroids(data)          \n",
    "            if iter % 100 == 0:\n",
    "                print(\"Running Model Iteration %d \" %iter)\n",
    "        print(\"Model finished running\")\n",
    "        return self    "
   ]
  },
  {
   "cell_type": "code",
   "execution_count": 208,
   "metadata": {},
   "outputs": [
    {
     "name": "stdout",
     "output_type": "stream",
     "text": [
      "Running Model Iteration 0 \n",
      "Running Model Iteration 100 \n",
      "Running Model Iteration 200 \n",
      "Running Model Iteration 300 \n",
      "Running Model Iteration 400 \n",
      "Running Model Iteration 500 \n",
      "Model finished running\n",
      "Wall time: 225 ms\n"
     ]
    },
    {
     "data": {
      "image/png": "[encoded data removed]",
      "text/plain": [
       "<Figure size 432x288 with 1 Axes>"
      ]
     },
     "metadata": {
      "needs_background": "light"
     },
     "output_type": "display_data"
    }
   ],
   "source": [
    "sklearn_pca = PCA(n_components = 2)\n",
    "Y_sklearn = sklearn_pca.fit_transform(tf_idf_array)\n",
    "test_e = Kmeans(4, 1, 600)\n",
    "%time fitted = test_e.fit_kmeans(Y_sklearn)\n",
    "predicted_values = test_e.predict(Y_sklearn)\n",
    "\n",
    "plt.scatter(Y_sklearn[:, 0], Y_sklearn[:, 1], c=predicted_values, s=50, cmap='viridis')\n",
    "\n",
    "centers = fitted.centroids\n",
    "plt.scatter(centers[:, 0], centers[:, 1],c='black', s=300, alpha=0.6);"
   ]
  },
  {
   "cell_type": "code",
   "execution_count": null,
   "metadata": {},
   "outputs": [],
   "source": []
  },
  {
   "cell_type": "code",
   "execution_count": null,
   "metadata": {},
   "outputs": [],
   "source": []
  },
  {
   "cell_type": "code",
   "execution_count": null,
   "metadata": {},
   "outputs": [],
   "source": []
  },
  {
   "cell_type": "code",
   "execution_count": null,
   "metadata": {},
   "outputs": [],
   "source": []
  }
 ],
 "metadata": {
  "kernelspec": {
   "display_name": "Python 3 (ipykernel)",
   "language": "python",
   "name": "python3"
  },
  "language_info": {
   "codemirror_mode": {
    "name": "ipython",
    "version": 3
   },
   "file_extension": ".py",
   "mimetype": "text/x-python",
   "name": "python",
   "nbconvert_exporter": "python",
   "pygments_lexer": "ipython3",
   "version": "3.10.3"
  }
 },
 "nbformat": 4,
 "nbformat_minor": 4
}
