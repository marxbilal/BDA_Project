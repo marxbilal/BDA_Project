{
 "cells": [
  {
   "cell_type": "code",
   "execution_count": 1,
   "id": "40c86dd6",
   "metadata": {},
   "outputs": [
    {
     "name": "stderr",
     "output_type": "stream",
     "text": [
      "c:\\users\\bilawal ali\\appdata\\local\\programs\\python\\python37\\lib\\site-packages\\tensorflow_addons\\utils\\ensure_tf_install.py:67: UserWarning: Tensorflow Addons supports using Python ops for all Tensorflow versions above or equal to 2.5.0 and strictly below 2.8.0 (nightly versions are not supported). \n",
      " The versions of TensorFlow you are currently using is 2.8.0 and is not supported. \n",
      "Some things might work, some things might not.\n",
      "If you were to encounter a bug, do not file an issue.\n",
      "If you want to make sure you're using a tested and supported configuration, either change the TensorFlow version or the TensorFlow Addons's version. \n",
      "You can find the compatibility matrix in TensorFlow Addon's readme:\n",
      "https://github.com/tensorflow/addons\n",
      "  UserWarning,\n"
     ]
    }
   ],
   "source": [
    "import stanza\n",
    "import urduhack\n",
    "\n",
    "import pandas as pd\n",
    "import re\n",
    "import numpy as np\n",
    "from urduhack import normalize\n",
    "from urduhack.preprocessing import normalize_whitespace\n",
    "from urduhack.preprocessing import remove_punctuation\n",
    "from urduhack.preprocessing import replace_urls\n",
    "from urduhack.preprocessing import replace_emails\n",
    "from urduhack.preprocessing import replace_numbers\n",
    "from urduhack.preprocessing import remove_english_alphabets\n",
    "\n",
    "from sklearn.cluster import KMeans\n",
    "from sklearn.preprocessing import normalize\n",
    "from sklearn.feature_extraction.text import TfidfVectorizer\n",
    "from sklearn.decomposition import PCA\n",
    "from sklearn.metrics import pairwise_distances\n",
    "\n",
    "\n",
    "from bs4 import BeautifulSoup\n",
    "from scipy.stats import multivariate_normal as mvn\n",
    "\n",
    "import matplotlib.pyplot as plt\n",
    "import seaborn as sns\n",
    "import os\n",
    "import random\n",
    "import string"
   ]
  },
  {
   "cell_type": "code",
   "execution_count": 32,
   "id": "33fd722e",
   "metadata": {},
   "outputs": [
    {
     "name": "stderr",
     "output_type": "stream",
     "text": [
      "c:\\users\\bilawal ali\\appdata\\local\\programs\\python\\python37\\lib\\site-packages\\IPython\\core\\interactiveshell.py:3441: FutureWarning: The error_bad_lines argument has been deprecated and will be removed in a future version.\n",
      "\n",
      "\n",
      "  exec(code_obj, self.user_global_ns, self.user_ns)\n"
     ]
    }
   ],
   "source": [
    "df = pd.read_csv('tweets.csv',encoding='utf-8',error_bad_lines=False)"
   ]
  },
  {
   "cell_type": "code",
   "execution_count": 33,
   "id": "c18d8d20",
   "metadata": {},
   "outputs": [
    {
     "data": {
      "text/html": [
       "<div>\n",
       "<style scoped>\n",
       "    .dataframe tbody tr th:only-of-type {\n",
       "        vertical-align: middle;\n",
       "    }\n",
       "\n",
       "    .dataframe tbody tr th {\n",
       "        vertical-align: top;\n",
       "    }\n",
       "\n",
       "    .dataframe thead th {\n",
       "        text-align: right;\n",
       "    }\n",
       "</style>\n",
       "<table border=\"1\" class=\"dataframe\">\n",
       "  <thead>\n",
       "    <tr style=\"text-align: right;\">\n",
       "      <th></th>\n",
       "      <th>Unnamed: 0</th>\n",
       "      <th>text</th>\n",
       "      <th>timestamp</th>\n",
       "    </tr>\n",
       "  </thead>\n",
       "  <tbody>\n",
       "    <tr>\n",
       "      <th>0</th>\n",
       "      <td>0</td>\n",
       "      <td>@SaeedGhani1 چاچا\\nستو پی لیا ہو تو دیکھو\\nپاک...</td>\n",
       "      <td>Sun Apr 10 20:09:56 +0000 2022</td>\n",
       "    </tr>\n",
       "    <tr>\n",
       "      <th>1</th>\n",
       "      <td>1</td>\n",
       "      <td>RT @SSEHBAI1: لوگ باہر: جیسے لوگ نکل رہے ہیں, ...</td>\n",
       "      <td>Sun Apr 10 20:09:56 +0000 2022</td>\n",
       "    </tr>\n",
       "    <tr>\n",
       "      <th>2</th>\n",
       "      <td>2</td>\n",
       "      <td>RT @FaisalJavedKhan: آپکی رائے میں کیا تحریک ا...</td>\n",
       "      <td>Sun Apr 10 20:09:57 +0000 2022</td>\n",
       "    </tr>\n",
       "    <tr>\n",
       "      <th>3</th>\n",
       "      <td>3</td>\n",
       "      <td>RT @Abdulla78487680: جس سے جگر لالہ میں ٹھنڈک ...</td>\n",
       "      <td>Sun Apr 10 20:09:57 +0000 2022</td>\n",
       "    </tr>\n",
       "    <tr>\n",
       "      <th>4</th>\n",
       "      <td>4</td>\n",
       "      <td>RT @fawadchaudhry: شہباز شریف کے کاغذات نامزدگ...</td>\n",
       "      <td>Sun Apr 10 20:09:57 +0000 2022</td>\n",
       "    </tr>\n",
       "  </tbody>\n",
       "</table>\n",
       "</div>"
      ],
      "text/plain": [
       "   Unnamed: 0                                               text  \\\n",
       "0           0  @SaeedGhani1 چاچا\\nستو پی لیا ہو تو دیکھو\\nپاک...   \n",
       "1           1  RT @SSEHBAI1: لوگ باہر: جیسے لوگ نکل رہے ہیں, ...   \n",
       "2           2  RT @FaisalJavedKhan: آپکی رائے میں کیا تحریک ا...   \n",
       "3           3  RT @Abdulla78487680: جس سے جگر لالہ میں ٹھنڈک ...   \n",
       "4           4  RT @fawadchaudhry: شہباز شریف کے کاغذات نامزدگ...   \n",
       "\n",
       "                        timestamp  \n",
       "0  Sun Apr 10 20:09:56 +0000 2022  \n",
       "1  Sun Apr 10 20:09:56 +0000 2022  \n",
       "2  Sun Apr 10 20:09:57 +0000 2022  \n",
       "3  Sun Apr 10 20:09:57 +0000 2022  \n",
       "4  Sun Apr 10 20:09:57 +0000 2022  "
      ]
     },
     "execution_count": 33,
     "metadata": {},
     "output_type": "execute_result"
    }
   ],
   "source": [
    "df.head()"
   ]
  },
  {
   "cell_type": "code",
   "execution_count": 34,
   "id": "fe5c71f7",
   "metadata": {},
   "outputs": [
    {
     "name": "stderr",
     "output_type": "stream",
     "text": [
      "2022-04-11 01:11:39 INFO: Loading these models for language: ur (Urdu):\n",
      "=======================\n",
      "| Processor | Package |\n",
      "-----------------------\n",
      "| tokenize  | udtb    |\n",
      "| lemma     | udtb    |\n",
      "=======================\n",
      "\n",
      "2022-04-11 01:11:39 INFO: Use device: cpu\n",
      "2022-04-11 01:11:39 INFO: Loading: tokenize\n",
      "2022-04-11 01:11:39 INFO: Loading: lemma\n",
      "2022-04-11 01:11:39 INFO: Done loading processors!\n"
     ]
    }
   ],
   "source": [
    "nlp = stanza.Pipeline(lang='ur', processors='tokenize,lemma')"
   ]
  },
  {
   "cell_type": "code",
   "execution_count": 52,
   "id": "be9d07cc",
   "metadata": {},
   "outputs": [],
   "source": [
    "words1 = \"ایت نہیں نے ہاں ہر ہم ہمارا ہمارے ہماری ہو ہوا ہوتا ہوتے ہوتی ہوتیں ہوں ہونا ہونگے ہونے ہونی ہوئے ہوئی ہوئیں ہے ہی ہیں و والا والوں والے والی وہ وہاں وہی وہیں یا یعنی یہ یہاں یہی یہیںاب ابھی اپنا اپنے اپنی اٹھا اس اسے اسی اگر ان انہوں انہی انہیں انھیں او اور اے ایسا ایسے ایسی ایک آ آپ آتا آتے آتی آگے آنا آنے آنی آئے آئی آئیں آیا با بڑا بڑے بڑی بعد بعض بلکہ بہت بھی بے پاس پر پہلے پھر تا تاکہ تب تجھ تجھے تک تم تمام تمہارا تمہارے تمھارے تمہاری تمہیں تمھیں تھا تھے تھی تھیں تو تیری تیرے جا جاتا جاتی جاتے جاتی جانے جانی جاؤ جائے جائیں جب جس جن جنہوں جنہیں جو جیسا جیسے جیسی جیسوں چاہیئے چلا چاہے چونکہ حالاں حالانکہ دو دونوں دوں دے دی دیا دیں دیے دیتا دیتے دیتی دینا دینے دینی دیئے ڈالا ڈالنا ڈالنے ڈالنی ڈالے ڈالی ذرا رکھا رکھتا رکھتے رکھتی رکھنا رکھنے رکھنی رکھے رکھی رہ رہا رہتا رہتے رہتی رہنا رہنے رہنی رہو رہے رہی رہیں زیادہ سا سامنے سب سکتا سو سے سی شاید صرف طرح طرف عین کا کبھی کچھ کہہ کر کرتا کرتے کرتی کرنا کرنے کرو کروں کرے کریں کس کسے کسی کہ کہا کہے کو کون کوئی کے کی کیا کیسے کیوں کیونکہ کیے کئے گا گویا گے گی گیا گئے گئی لا لاتا لاتے لاتی لانا لانے لانی لایا لائے لائی لگا لگے لگی لگیں لو لے لی لیا لیتا لیتے لیتی لیکن لیں لیے لئے مجھ مجھے مگر میرا میرے میری میں نا نہ نہایت نہیں نے ہاں ہر ہم ہمارا ہمارے ہماری ہو ہوا ہوتا ہوتے ہوتی ہوتیں ہوں ہونا ہونگے ہونے ہونی ہوئے ہوئی ہوئیں ہے ہی ہیں و والا والوں والے والی وہ وہاں وہی وہیں یا یعنی یہ یہاں یہی یہیں\"\n",
    "words2=\" اور اوًچب اوًچبئی اوًچی اوًچے اى اً اًذر اًہیں اٹھبًب اپٌب اپٌے اچھب اچھی اچھے اکثر اکٹھب اکٹھی اکٹھے اکیلا اکیلی اکیلے اگرچہ اہن ایطے ایک ب ت تبزٍ تت تر ترتیت تریي تعذاد تن تو توبم توہی توہیں تٌہب تک تھب تھوڑا تھوڑی تھوڑے تھی تھے تیي ثب ثبئیں ثبترتیت ثبری ثبرے ثبعث ثبلا ثبلترتیت ثبہر ثدبئے ثرآں ثراں ثرش ثعذ ثغیر ثلٌذ ثلٌذوثبلا ثلکہ ثي ثٌب ثٌبرہب ثٌبرہی ثٌبرہے ثٌبًب ثٌذ ثٌذکرو ثٌذکرًب ثٌذی ثڑا ثڑوں ثڑی ثڑے ثھر ثھرا ثھراہوا ثھرپور ثھی ثہت ثہتر ثہتری ثہتریي ثیچ ج خب خبرہب خبرہی خبرہے خبهوظ خبًب خبًتب خبًتی خبًتے خبًٌب خت ختن خجکہ خص خططرذ خلذی خو خواى خوًہی خوکہ خٌبة خگہ خگہوں خگہیں خیطب خیطبکہ در درخبت درخہ درخے درزقیقت درضت دش دفعہ دلچطپ دلچطپی دلچطپیبں دو دور دوراى دوضرا دوضروں دوضری دوضرے دوًوں دکھبئیں دکھبتب دکھبتی دکھبتے دکھبو دکھبًب دکھبیب دی دیب دیتب دیتی دیتے دیر دیٌب دیکھو دیکھٌب دیکھی دیکھیں دے ر راضتوں راضتہ راضتے رریعہ رریعے رکي رکھ رکھب رکھتب رکھتبہوں رکھتی رکھتے رکھی رکھے رہب رہی رہے ز زبصل زبضر زبل زبلات زبلیہ زصوں زصہ زصے زقبئق زقیتیں زقیقت زکن زکویہ زیبدٍ صبف صسیر صفر صورت صورتسبل صورتوں صورتیں ض ضبت ضبتھ ضبدٍ ضبرا ضبرے ضبل ضبلوں ضت ضرور ضرورت ضروری ضلطلہ ضوچ ضوچب ضوچتب ضوچتی ضوچتے ضوچو ضوچٌب ضوچی ضوچیں ضکب ضکتب ضکتی ضکتے ضکٌب ضکی ضکے ضیذھب ضیذھی ضیذھے ضیکٌڈ ضے طرف طریق طریقوں طریقہ طریقے طور طورپر ظبہر ع عذد عظین علاقوں علاقہ علاقے علاوٍ عووهی غبیذ غخص غذ غروع غروعبت غے فرد فی ق قجل قجیلہ قطن لئے لا لازهی لو لوجب لوجی لوجے لوسبت لوسہ لوگ لوگوں لڑکپي لگتب لگتی لگتے لگٌب لگی لگیں لگے لی لیب لیٌب لیں لے ه هتعلق هختلف هسترم هسترهہ هسطوش هسیذ هطئلہ هطئلے هطبئل هطتعول هطلق هعلوم هػتول هلا هوکي هوکٌبت هوکٌہ هٌبضت هڑا هڑًب هڑے هکول هگر هہرثبى هیرا هیری هیرے هیں و وار والے وٍ ًئی ًئے ًب ًبپطٌذ ًبگسیر ًطجت ًقطہ ًو ًوخواى ًکبلٌب ًکتہ ًہ ًہیں ًیب ًے ٓ آش ٹھیک پبئے پبش پبًب پبًچ پر پراًب پطٌذ پل پورا پوچھب پوچھتب پوچھتی پوچھتے پوچھو پوچھوں پوچھٌب پوچھیں پچھلا پھر پہلا پہلی پہلےضی پہلےضے پہلےضےہی پیع چبر چبہب چبہٌب چبہے چلا چلو چلیں چلے چکب چکی چکیں چکے چھوٹب چھوٹوں چھوٹی چھوٹے چھہ چیسیں ڈھوًڈا ڈھوًڈلیب ڈھوًڈو ڈھوًڈًب ڈھوًڈی ڈھوًڈیں ک کئی کئے کب کبفی کبم کت کجھی کرا کرتب کرتبہوں کرتی کرتے کرتےہو کررہب کررہی کررہے کرو کرًب کریں کرے کطی کل کن کوئی کوتر کورا کوروں کورٍ کورے کوطي کوى کوًطب کوًطی کوًطے کھولا کھولو کھولٌب کھولی کھولیں کھولے کہ کہب کہتب کہتی کہتے کہو کہوں کہٌب کہی کہیں کہے کی کیب کیطب کیطرف کیطے کیلئے کیوًکہ کیوں کیے کے کےثعذ کےرریعے گئی گئے گب گرد گروٍ گروپ گروہوں گٌتی گی گیب گے ہر ہن ہو ہوئی ہوئے ہوا ہوبرا ہوبری ہوبرے ہوتب ہوتی ہوتے ہورہب ہورہی ہورہے ہوضکتب ہوضکتی ہوضکتے ہوًب ہوًی ہوًے ہوچکب ہوچکی ہوچکے ہوگئی ہوگئے ہوگیب ہوں ہی ہیں ہے ی یقیٌی یہ یہبں\"\n",
    "urdu_swords = words1+\" \"+ words2\n",
    "\n",
    "def split_on_space(text):\n",
    "    import re\n",
    "    text = re.sub(\"\\s\", \"\\''\",text)\n",
    "    return text\n",
    "stop_words = split_on_space(urdu_swords)"
   ]
  },
  {
   "cell_type": "code",
   "execution_count": 58,
   "id": "67a15908",
   "metadata": {},
   "outputs": [
    {
     "data": {
      "text/plain": [
       "str"
      ]
     },
     "execution_count": 58,
     "metadata": {},
     "output_type": "execute_result"
    }
   ],
   "source": [
    "type(stop_words)"
   ]
  },
  {
   "cell_type": "code",
   "execution_count": 59,
   "id": "84a5a068",
   "metadata": {},
   "outputs": [],
   "source": [
    "def preprocess(word):\n",
    "    word = re.sub(\"\\W\", \" \",word)\n",
    "    word = re.sub(\"[a-zA-Z0-9]\",\"\",word)\n",
    "    word = normalize_whitespace(word)\n",
    "    word = remove_punctuation(word)\n",
    "    word = replace_urls(word)\n",
    "    word = replace_emails(word)\n",
    "    #word = normalize(word)\n",
    "    word = replace_numbers(word)\n",
    "    #STanza lemmentization normalize\n",
    "    \n",
    "    doc = nlp(word)\n",
    "    a = doc.to_dict()\n",
    "    if(len(a) is not 0):\n",
    "        a = a[0]\n",
    "        word = ''\n",
    "        for i in a:\n",
    "            if not i['lemma'] in stop_words:\n",
    "                if(i['id']==(a[-1]['id'])):\n",
    "                    word=word+i['lemma']\n",
    "                else:\n",
    "                    word = word+i['lemma']+' '\n",
    "    \n",
    "    return word"
   ]
  },
  {
   "cell_type": "code",
   "execution_count": 60,
   "id": "13e9b80b",
   "metadata": {},
   "outputs": [],
   "source": [
    "def remove_duplicate_words(string):\n",
    "        x = string.split()\n",
    "        x = sorted(set(x), key = x.index)\n",
    "        return ' '.join(x)"
   ]
  },
  {
   "cell_type": "code",
   "execution_count": 61,
   "id": "da2ddc63",
   "metadata": {},
   "outputs": [
    {
     "data": {
      "text/html": [
       "<div>\n",
       "<style scoped>\n",
       "    .dataframe tbody tr th:only-of-type {\n",
       "        vertical-align: middle;\n",
       "    }\n",
       "\n",
       "    .dataframe tbody tr th {\n",
       "        vertical-align: top;\n",
       "    }\n",
       "\n",
       "    .dataframe thead th {\n",
       "        text-align: right;\n",
       "    }\n",
       "</style>\n",
       "<table border=\"1\" class=\"dataframe\">\n",
       "  <thead>\n",
       "    <tr style=\"text-align: right;\">\n",
       "      <th></th>\n",
       "      <th>Unnamed: 0</th>\n",
       "      <th>text</th>\n",
       "      <th>timestamp</th>\n",
       "    </tr>\n",
       "  </thead>\n",
       "  <tbody>\n",
       "    <tr>\n",
       "      <th>0</th>\n",
       "      <td>0</td>\n",
       "      <td>@SaeedGhani1 چاچا\\nستو پی لیا ہو تو دیکھو\\nپاک...</td>\n",
       "      <td>Sun Apr 10 20:09:56 +0000 2022</td>\n",
       "    </tr>\n",
       "    <tr>\n",
       "      <th>1</th>\n",
       "      <td>1</td>\n",
       "      <td>RT @SSEHBAI1: لوگ باہر: جیسے لوگ نکل رہے ہیں, ...</td>\n",
       "      <td>Sun Apr 10 20:09:56 +0000 2022</td>\n",
       "    </tr>\n",
       "    <tr>\n",
       "      <th>2</th>\n",
       "      <td>2</td>\n",
       "      <td>RT @FaisalJavedKhan: آپکی رائے میں کیا تحریک ا...</td>\n",
       "      <td>Sun Apr 10 20:09:57 +0000 2022</td>\n",
       "    </tr>\n",
       "    <tr>\n",
       "      <th>3</th>\n",
       "      <td>3</td>\n",
       "      <td>RT @Abdulla78487680: جس سے جگر لالہ میں ٹھنڈک ...</td>\n",
       "      <td>Sun Apr 10 20:09:57 +0000 2022</td>\n",
       "    </tr>\n",
       "    <tr>\n",
       "      <th>4</th>\n",
       "      <td>4</td>\n",
       "      <td>RT @fawadchaudhry: شہباز شریف کے کاغذات نامزدگ...</td>\n",
       "      <td>Sun Apr 10 20:09:57 +0000 2022</td>\n",
       "    </tr>\n",
       "  </tbody>\n",
       "</table>\n",
       "</div>"
      ],
      "text/plain": [
       "   Unnamed: 0                                               text  \\\n",
       "0           0  @SaeedGhani1 چاچا\\nستو پی لیا ہو تو دیکھو\\nپاک...   \n",
       "1           1  RT @SSEHBAI1: لوگ باہر: جیسے لوگ نکل رہے ہیں, ...   \n",
       "2           2  RT @FaisalJavedKhan: آپکی رائے میں کیا تحریک ا...   \n",
       "3           3  RT @Abdulla78487680: جس سے جگر لالہ میں ٹھنڈک ...   \n",
       "4           4  RT @fawadchaudhry: شہباز شریف کے کاغذات نامزدگ...   \n",
       "\n",
       "                        timestamp  \n",
       "0  Sun Apr 10 20:09:56 +0000 2022  \n",
       "1  Sun Apr 10 20:09:56 +0000 2022  \n",
       "2  Sun Apr 10 20:09:57 +0000 2022  \n",
       "3  Sun Apr 10 20:09:57 +0000 2022  \n",
       "4  Sun Apr 10 20:09:57 +0000 2022  "
      ]
     },
     "execution_count": 61,
     "metadata": {},
     "output_type": "execute_result"
    }
   ],
   "source": [
    "df.head()"
   ]
  },
  {
   "cell_type": "code",
   "execution_count": 62,
   "id": "9f1291b2",
   "metadata": {},
   "outputs": [],
   "source": [
    "list1 = []\n",
    "for i in range(len(df.index)):\n",
    "    sent = df[df.columns[1]][i]\n",
    "    list1.append(sent)\n",
    "    "
   ]
  },
  {
   "cell_type": "code",
   "execution_count": 63,
   "id": "69e7fb84",
   "metadata": {},
   "outputs": [],
   "source": [
    "#list1[:20]"
   ]
  },
  {
   "cell_type": "code",
   "execution_count": 64,
   "id": "898f41db",
   "metadata": {},
   "outputs": [
    {
     "ename": "UnboundLocalError",
     "evalue": "local variable 'sent' referenced before assignment",
     "output_type": "error",
     "traceback": [
      "\u001b[1;31m---------------------------------------------------------------------------\u001b[0m",
      "\u001b[1;31mUnboundLocalError\u001b[0m                         Traceback (most recent call last)",
      "\u001b[1;32mC:\\Users\\BILAWA~1\\AppData\\Local\\Temp/ipykernel_12880/2251548081.py\u001b[0m in \u001b[0;36m<module>\u001b[1;34m\u001b[0m\n\u001b[0;32m      1\u001b[0m \u001b[0msent_p\u001b[0m \u001b[1;33m=\u001b[0m\u001b[1;33m[\u001b[0m\u001b[1;33m]\u001b[0m\u001b[1;33m\u001b[0m\u001b[1;33m\u001b[0m\u001b[0m\n\u001b[0;32m      2\u001b[0m \u001b[1;32mfor\u001b[0m \u001b[0mtweet\u001b[0m \u001b[1;32min\u001b[0m \u001b[0mlist1\u001b[0m\u001b[1;33m:\u001b[0m\u001b[1;33m\u001b[0m\u001b[1;33m\u001b[0m\u001b[0m\n\u001b[1;32m----> 3\u001b[1;33m     \u001b[0msent_p\u001b[0m\u001b[1;33m.\u001b[0m\u001b[0mappend\u001b[0m\u001b[1;33m(\u001b[0m\u001b[0mpreprocess\u001b[0m\u001b[1;33m(\u001b[0m\u001b[0mtweet\u001b[0m\u001b[1;33m)\u001b[0m\u001b[1;33m)\u001b[0m\u001b[1;33m\u001b[0m\u001b[1;33m\u001b[0m\u001b[0m\n\u001b[0m",
      "\u001b[1;32mC:\\Users\\BILAWA~1\\AppData\\Local\\Temp/ipykernel_12880/3644056939.py\u001b[0m in \u001b[0;36mpreprocess\u001b[1;34m(word)\u001b[0m\n\u001b[0;32m     22\u001b[0m                     \u001b[0msent\u001b[0m \u001b[1;33m=\u001b[0m \u001b[0msent\u001b[0m\u001b[1;33m+\u001b[0m\u001b[0mi\u001b[0m\u001b[1;33m[\u001b[0m\u001b[1;34m'lemma'\u001b[0m\u001b[1;33m]\u001b[0m\u001b[1;33m+\u001b[0m\u001b[1;34m' '\u001b[0m\u001b[1;33m\u001b[0m\u001b[1;33m\u001b[0m\u001b[0m\n\u001b[0;32m     23\u001b[0m \u001b[1;33m\u001b[0m\u001b[0m\n\u001b[1;32m---> 24\u001b[1;33m     \u001b[1;32mreturn\u001b[0m \u001b[0msent\u001b[0m\u001b[1;33m\u001b[0m\u001b[1;33m\u001b[0m\u001b[0m\n\u001b[0m",
      "\u001b[1;31mUnboundLocalError\u001b[0m: local variable 'sent' referenced before assignment"
     ]
    }
   ],
   "source": [
    "sent_p =[]\n",
    "for tweet in list1:\n",
    "    sent_p.append(preprocess(tweet))"
   ]
  },
  {
   "cell_type": "code",
   "execution_count": null,
   "id": "35045e35",
   "metadata": {},
   "outputs": [],
   "source": [
    "sent_p[:50]"
   ]
  }
 ],
 "metadata": {
  "kernelspec": {
   "display_name": "Python 3 (ipykernel)",
   "language": "python",
   "name": "python3"
  },
  "language_info": {
   "codemirror_mode": {
    "name": "ipython",
    "version": 3
   },
   "file_extension": ".py",
   "mimetype": "text/x-python",
   "name": "python",
   "nbconvert_exporter": "python",
   "pygments_lexer": "ipython3",
   "version": "3.7.9"
  }
 },
 "nbformat": 4,
 "nbformat_minor": 5
}
