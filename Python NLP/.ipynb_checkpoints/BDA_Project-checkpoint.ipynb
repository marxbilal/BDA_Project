{
 "cells": [
  {
   "cell_type": "code",
   "execution_count": 2,
   "id": "e07c1ac9",
   "metadata": {},
   "outputs": [
    {
     "name": "stderr",
     "output_type": "stream",
     "text": [
      "/Users/bilawalali/.pyenv/versions/3.10.3/envs/ahoy/lib/python3.10/site-packages/tqdm/auto.py:21: TqdmWarning: IProgress not found. Please update jupyter and ipywidgets. See https://ipywidgets.readthedocs.io/en/stable/user_install.html\n",
      "  from .autonotebook import tqdm as notebook_tqdm\n"
     ]
    }
   ],
   "source": [
    "import stanza"
   ]
  },
  {
   "cell_type": "code",
   "execution_count": 3,
   "id": "9d584b6a",
   "metadata": {},
   "outputs": [
    {
     "name": "stderr",
     "output_type": "stream",
     "text": [
      "Downloading https://raw.githubusercontent.com/stanfordnlp/stanza-resources/main/resources_1.5.0.json: 216kB [00:00, 35.2MB/s]         \n",
      "2023-06-07 23:05:28 INFO: Downloading default packages for language: ur (Urdu) ...\n",
      "Downloading https://huggingface.co/stanfordnlp/stanza-ur/resolve/v1.5.0/models/default.zip: 100%|██| 144M/144M [00:16<00:00, 8.85MB/s]\n",
      "2023-06-07 23:07:03 INFO: Finished downloading models and saved to /Users/bilawalali/stanza_resources.\n"
     ]
    }
   ],
   "source": [
    "stanza.download('ur')"
   ]
  },
  {
   "cell_type": "code",
   "execution_count": 4,
   "id": "3bc5ecf4",
   "metadata": {},
   "outputs": [],
   "source": [
    "words1 = \"ایت نہیں نے ہاں ہر ہم ہمارا ہمارے ہماری ہو ہوا ہوتا ہوتے ہوتی ہوتیں ہوں ہونا ہونگے ہونے ہونی ہوئے ہوئی ہوئیں ہے ہی ہیں و والا والوں والے والی وہ وہاں وہی وہیں یا یعنی یہ یہاں یہی یہیںاب ابھی اپنا اپنے اپنی اٹھا اس اسے اسی اگر ان انہوں انہی انہیں انھیں او اور اے ایسا ایسے ایسی ایک آ آپ آتا آتے آتی آگے آنا آنے آنی آئے آئی آئیں آیا با بڑا بڑے بڑی بعد بعض بلکہ بہت بھی بے پاس پر پہلے پھر تا تاکہ تب تجھ تجھے تک تم تمام تمہارا تمہارے تمھارے تمہاری تمہیں تمھیں تھا تھے تھی تھیں تو تیری تیرے جا جاتا جاتی جاتے جاتی جانے جانی جاؤ جائے جائیں جب جس جن جنہوں جنہیں جو جیسا جیسے جیسی جیسوں چاہیئے چلا چاہے چونکہ حالاں حالانکہ دو دونوں دوں دے دی دیا دیں دیے دیتا دیتے دیتی دینا دینے دینی دیئے ڈالا ڈالنا ڈالنے ڈالنی ڈالے ڈالی ذرا رکھا رکھتا رکھتے رکھتی رکھنا رکھنے رکھنی رکھے رکھی رہ رہا رہتا رہتے رہتی رہنا رہنے رہنی رہو رہے رہی رہیں زیادہ سا سامنے سب سکتا سو سے سی شاید صرف طرح طرف عین کا کبھی کچھ کہہ کر کرتا کرتے کرتی کرنا کرنے کرو کروں کرے کریں کس کسے کسی کہ کہا کہے کو کون کوئی کے کی کیا کیسے کیوں کیونکہ کیے کئے گا گویا گے گی گیا گئے گئی لا لاتا لاتے لاتی لانا لانے لانی لایا لائے لائی لگا لگے لگی لگیں لو لے لی لیا لیتا لیتے لیتی لیکن لیں لیے لئے مجھ مجھے مگر میرا میرے میری میں نا نہ نہایت نہیں نے ہاں ہر ہم ہمارا ہمارے ہماری ہو ہوا ہوتا ہوتے ہوتی ہوتیں ہوں ہونا ہونگے ہونے ہونی ہوئے ہوئی ہوئیں ہے ہی ہیں و والا والوں والے والی وہ وہاں وہی وہیں یا یعنی یہ یہاں یہی یہیں\"\n",
    "words2=\" اور اوًچب اوًچبئی اوًچی اوًچے اى اً اًذر اًہیں اٹھبًب اپٌب اپٌے اچھب اچھی اچھے اکثر اکٹھب اکٹھی اکٹھے اکیلا اکیلی اکیلے اگرچہ اہن ایطے ایک ب ت تبزٍ تت تر ترتیت تریي تعذاد تن تو توبم توہی توہیں تٌہب تک تھب تھوڑا تھوڑی تھوڑے تھی تھے تیي ثب ثبئیں ثبترتیت ثبری ثبرے ثبعث ثبلا ثبلترتیت ثبہر ثدبئے ثرآں ثراں ثرش ثعذ ثغیر ثلٌذ ثلٌذوثبلا ثلکہ ثي ثٌب ثٌبرہب ثٌبرہی ثٌبرہے ثٌبًب ثٌذ ثٌذکرو ثٌذکرًب ثٌذی ثڑا ثڑوں ثڑی ثڑے ثھر ثھرا ثھراہوا ثھرپور ثھی ثہت ثہتر ثہتری ثہتریي ثیچ ج خب خبرہب خبرہی خبرہے خبهوظ خبًب خبًتب خبًتی خبًتے خبًٌب خت ختن خجکہ خص خططرذ خلذی خو خواى خوًہی خوکہ خٌبة خگہ خگہوں خگہیں خیطب خیطبکہ در درخبت درخہ درخے درزقیقت درضت دش دفعہ دلچطپ دلچطپی دلچطپیبں دو دور دوراى دوضرا دوضروں دوضری دوضرے دوًوں دکھبئیں دکھبتب دکھبتی دکھبتے دکھبو دکھبًب دکھبیب دی دیب دیتب دیتی دیتے دیر دیٌب دیکھو دیکھٌب دیکھی دیکھیں دے ر راضتوں راضتہ راضتے رریعہ رریعے رکي رکھ رکھب رکھتب رکھتبہوں رکھتی رکھتے رکھی رکھے رہب رہی رہے ز زبصل زبضر زبل زبلات زبلیہ زصوں زصہ زصے زقبئق زقیتیں زقیقت زکن زکویہ زیبدٍ صبف صسیر صفر صورت صورتسبل صورتوں صورتیں ض ضبت ضبتھ ضبدٍ ضبرا ضبرے ضبل ضبلوں ضت ضرور ضرورت ضروری ضلطلہ ضوچ ضوچب ضوچتب ضوچتی ضوچتے ضوچو ضوچٌب ضوچی ضوچیں ضکب ضکتب ضکتی ضکتے ضکٌب ضکی ضکے ضیذھب ضیذھی ضیذھے ضیکٌڈ ضے طرف طریق طریقوں طریقہ طریقے طور طورپر ظبہر ع عذد عظین علاقوں علاقہ علاقے علاوٍ عووهی غبیذ غخص غذ غروع غروعبت غے فرد فی ق قجل قجیلہ قطن لئے لا لازهی لو لوجب لوجی لوجے لوسبت لوسہ لوگ لوگوں لڑکپي لگتب لگتی لگتے لگٌب لگی لگیں لگے لی لیب لیٌب لیں لے ه هتعلق هختلف هسترم هسترهہ هسطوش هسیذ هطئلہ هطئلے هطبئل هطتعول هطلق هعلوم هػتول هلا هوکي هوکٌبت هوکٌہ هٌبضت هڑا هڑًب هڑے هکول هگر هہرثبى هیرا هیری هیرے هیں و وار والے وٍ ًئی ًئے ًب ًبپطٌذ ًبگسیر ًطجت ًقطہ ًو ًوخواى ًکبلٌب ًکتہ ًہ ًہیں ًیب ًے ٓ آش ٹھیک پبئے پبش پبًب پبًچ پر پراًب پطٌذ پل پورا پوچھب پوچھتب پوچھتی پوچھتے پوچھو پوچھوں پوچھٌب پوچھیں پچھلا پھر پہلا پہلی پہلےضی پہلےضے پہلےضےہی پیع چبر چبہب چبہٌب چبہے چلا چلو چلیں چلے چکب چکی چکیں چکے چھوٹب چھوٹوں چھوٹی چھوٹے چھہ چیسیں ڈھوًڈا ڈھوًڈلیب ڈھوًڈو ڈھوًڈًب ڈھوًڈی ڈھوًڈیں ک کئی کئے کب کبفی کبم کت کجھی کرا کرتب کرتبہوں کرتی کرتے کرتےہو کررہب کررہی کررہے کرو کرًب کریں کرے کطی کل کن کوئی کوتر کورا کوروں کورٍ کورے کوطي کوى کوًطب کوًطی کوًطے کھولا کھولو کھولٌب کھولی کھولیں کھولے کہ کہب کہتب کہتی کہتے کہو کہوں کہٌب کہی کہیں کہے کی کیب کیطب کیطرف کیطے کیلئے کیوًکہ کیوں کیے کے کےثعذ کےرریعے گئی گئے گب گرد گروٍ گروپ گروہوں گٌتی گی گیب گے ہر ہن ہو ہوئی ہوئے ہوا ہوبرا ہوبری ہوبرے ہوتب ہوتی ہوتے ہورہب ہورہی ہورہے ہوضکتب ہوضکتی ہوضکتے ہوًب ہوًی ہوًے ہوچکب ہوچکی ہوچکے ہوگئی ہوگئے ہوگیب ہوں ہی ہیں ہے ی یقیٌی یہ یہبں\"\n",
    "urdu_swords = words1+\" \"+ words2\n",
    "\n",
    "def split_on_space(text):\n",
    "    import re\n",
    "    text = re.sub(\"\\s\", \"\\''\",text)\n",
    "    return text\n",
    "stop_words = split_on_space(urdu_swords)"
   ]
  },
  {
   "cell_type": "code",
   "execution_count": 3,
   "id": "fcb3b4ca",
   "metadata": {},
   "outputs": [
    {
     "data": {
      "text/plain": [
       "4674"
      ]
     },
     "execution_count": 3,
     "metadata": {},
     "output_type": "execute_result"
    }
   ],
   "source": [
    "len(stop_words)"
   ]
  },
  {
   "cell_type": "code",
   "execution_count": null,
   "id": "776ea614",
   "metadata": {},
   "outputs": [
    {
     "name": "stdout",
     "output_type": "stream",
     "text": [
      "Collecting urduhack\n",
      "  Downloading urduhack-1.1.1-py3-none-any.whl (105 kB)\n",
      "\u001b[2K     \u001b[90m━━━━━━━━━━━━━━━━━━━━━━━━━━━━━━━━━━━━━\u001b[0m \u001b[32m105.5/105.5 kB\u001b[0m \u001b[31m426.0 kB/s\u001b[0m eta \u001b[36m0:00:00\u001b[0ma \u001b[36m0:00:01\u001b[0m\n",
      "\u001b[?25hCollecting Click~=7.1\n",
      "  Downloading click-7.1.2-py2.py3-none-any.whl (82 kB)\n",
      "\u001b[2K     \u001b[90m━━━━━━━━━━━━━━━━━━━━━━━━━━━━━━━━━━━━━━━\u001b[0m \u001b[32m82.8/82.8 kB\u001b[0m \u001b[31m645.4 kB/s\u001b[0m eta \u001b[36m0:00:00\u001b[0m0:01\u001b[0m\n",
      "\u001b[?25hCollecting tensorflow-datasets~=3.1\n",
      "  Downloading tensorflow_datasets-3.2.1-py3-none-any.whl (3.4 MB)\n",
      "\u001b[2K     \u001b[90m━━━━━━━━━━━━━━━━━━━━━━━━━━━━━━━━━━━━━━━━\u001b[0m \u001b[32m3.4/3.4 MB\u001b[0m \u001b[31m4.1 MB/s\u001b[0m eta \u001b[36m0:00:00\u001b[0m00:01\u001b[0m00:01\u001b[0m\n",
      "\u001b[?25hCollecting regex\n",
      "  Downloading regex-2023.6.3-cp310-cp310-macosx_10_9_x86_64.whl (294 kB)\n",
      "\u001b[2K     \u001b[90m━━━━━━━━━━━━━━━━━━━━━━━━━━━━━━━━━━━━━━━\u001b[0m \u001b[32m294.6/294.6 kB\u001b[0m \u001b[31m5.2 MB/s\u001b[0m eta \u001b[36m0:00:00\u001b[0ma \u001b[36m0:00:01\u001b[0m\n",
      "\u001b[?25hCollecting tf2crf\n",
      "  Downloading tf2crf-0.1.33-py2.py3-none-any.whl (7.3 kB)\n",
      "Collecting promise\n",
      "  Downloading promise-2.3.tar.gz (19 kB)\n",
      "  Preparing metadata (setup.py) ... \u001b[?25ldone\n",
      "\u001b[?25hCollecting future\n",
      "  Downloading future-0.18.3.tar.gz (840 kB)\n",
      "\u001b[2K     \u001b[90m━━━━━━━━━━━━━━━━━━━━━━━━━━━━━━━━━━━━━━\u001b[0m \u001b[32m840.9/840.9 kB\u001b[0m \u001b[31m11.7 MB/s\u001b[0m eta \u001b[36m0:00:00\u001b[0ma \u001b[36m0:00:01\u001b[0m\n",
      "\u001b[?25h  Preparing metadata (setup.py) ... \u001b[?25ldone\n",
      "\u001b[?25hRequirement already satisfied: attrs>=18.1.0 in /Users/bilawalali/.pyenv/versions/3.10.3/envs/ahoy/lib/python3.10/site-packages (from tensorflow-datasets~=3.1->urduhack) (23.1.0)\n",
      "Requirement already satisfied: tqdm in /Users/bilawalali/.pyenv/versions/3.10.3/envs/ahoy/lib/python3.10/site-packages (from tensorflow-datasets~=3.1->urduhack) (4.65.0)\n",
      "Requirement already satisfied: protobuf>=3.6.1 in /Users/bilawalali/.pyenv/versions/3.10.3/envs/ahoy/lib/python3.10/site-packages (from tensorflow-datasets~=3.1->urduhack) (4.23.2)\n",
      "Collecting dill\n",
      "  Downloading dill-0.3.6-py3-none-any.whl (110 kB)\n",
      "\u001b[2K     \u001b[90m━━━━━━━━━━━━━━━━━━━━━━━━━━━━━━━━━━━━━━━\u001b[0m \u001b[32m110.5/110.5 kB\u001b[0m \u001b[31m3.4 MB/s\u001b[0m eta \u001b[36m0:00:00\u001b[0m\n",
      "\u001b[?25hRequirement already satisfied: six in /Users/bilawalali/.pyenv/versions/3.10.3/envs/ahoy/lib/python3.10/site-packages (from tensorflow-datasets~=3.1->urduhack) (1.16.0)\n",
      "Requirement already satisfied: termcolor in /Users/bilawalali/.pyenv/versions/3.10.3/envs/ahoy/lib/python3.10/site-packages (from tensorflow-datasets~=3.1->urduhack) (1.1.0)\n",
      "Collecting tensorflow-metadata\n",
      "  Downloading tensorflow_metadata-1.13.1-py3-none-any.whl (28 kB)\n",
      "Collecting wrapt\n",
      "  Downloading wrapt-1.15.0-cp310-cp310-macosx_10_9_x86_64.whl (35 kB)\n",
      "Requirement already satisfied: requests>=2.19.0 in /Users/bilawalali/.pyenv/versions/3.10.3/envs/ahoy/lib/python3.10/site-packages (from tensorflow-datasets~=3.1->urduhack) (2.19.1)\n",
      "Requirement already satisfied: numpy in /Users/bilawalali/.pyenv/versions/3.10.3/envs/ahoy/lib/python3.10/site-packages (from tensorflow-datasets~=3.1->urduhack) (1.24.3)\n",
      "Collecting absl-py\n",
      "  Downloading absl_py-1.4.0-py3-none-any.whl (126 kB)\n",
      "\u001b[2K     \u001b[90m━━━━━━━━━━━━━━━━━━━━━━━━━━━━━━━━━━━━━━━\u001b[0m \u001b[32m126.5/126.5 kB\u001b[0m \u001b[31m3.8 MB/s\u001b[0m eta \u001b[36m0:00:00\u001b[0m\n",
      "\u001b[?25hCollecting tensorflow-addons>=0.8.2\n",
      "  Downloading tensorflow_addons-0.20.0-cp310-cp310-macosx_10_14_x86_64.whl (13.2 MB)\n",
      "\u001b[2K     \u001b[90m━━━━━━━━━━━━━━━━━━━━━━━━━━━━━━━━━━━━━━━━\u001b[0m \u001b[32m13.2/13.2 MB\u001b[0m \u001b[31m3.9 MB/s\u001b[0m eta \u001b[36m0:00:00\u001b[0m00:01\u001b[0m00:01\u001b[0m\n",
      "\u001b[?25hCollecting tensorflow>=2.1.0\n",
      "  Downloading tensorflow-2.12.0-cp310-cp310-macosx_10_15_x86_64.whl (230.1 MB)\n",
      "\u001b[2K     \u001b[90m━━━━━━━━━━━━━━━━━━━━━━━━━━━━━━━━━━━━━━━\u001b[0m \u001b[32m230.1/230.1 MB\u001b[0m \u001b[31m2.8 MB/s\u001b[0m eta \u001b[36m0:00:00\u001b[0m00:01\u001b[0m00:01\u001b[0m\n",
      "\u001b[?25hRequirement already satisfied: chardet<3.1.0,>=3.0.2 in /Users/bilawalali/.pyenv/versions/3.10.3/envs/ahoy/lib/python3.10/site-packages (from requests>=2.19.0->tensorflow-datasets~=3.1->urduhack) (3.0.4)\n",
      "Requirement already satisfied: idna<2.8,>=2.5 in /Users/bilawalali/.pyenv/versions/3.10.3/envs/ahoy/lib/python3.10/site-packages (from requests>=2.19.0->tensorflow-datasets~=3.1->urduhack) (2.7)\n",
      "Requirement already satisfied: certifi>=2017.4.17 in /Users/bilawalali/.pyenv/versions/3.10.3/envs/ahoy/lib/python3.10/site-packages (from requests>=2.19.0->tensorflow-datasets~=3.1->urduhack) (2022.9.24)\n",
      "Requirement already satisfied: urllib3<1.24,>=1.21.1 in /Users/bilawalali/.pyenv/versions/3.10.3/envs/ahoy/lib/python3.10/site-packages (from requests>=2.19.0->tensorflow-datasets~=3.1->urduhack) (1.23)\n",
      "Collecting tensorflow-estimator<2.13,>=2.12.0\n",
      "  Downloading tensorflow_estimator-2.12.0-py2.py3-none-any.whl (440 kB)\n",
      "\u001b[2K     \u001b[90m━━━━━━━━━━━━━━━━━━━━━━━━━━━━━━━━━━━━━━━\u001b[0m \u001b[32m440.7/440.7 kB\u001b[0m \u001b[31m7.3 MB/s\u001b[0m eta \u001b[36m0:00:00\u001b[0m00:01\u001b[0m\n",
      "\u001b[?25hCollecting keras<2.13,>=2.12.0\n",
      "  Downloading keras-2.12.0-py2.py3-none-any.whl (1.7 MB)\n",
      "\u001b[2K     \u001b[90m━━━━━━━━━━━━━━━━━━━━━━━━━━━━━━━━━━━━━━━━\u001b[0m \u001b[32m1.7/1.7 MB\u001b[0m \u001b[31m11.9 MB/s\u001b[0m eta \u001b[36m0:00:00\u001b[0m00:01\u001b[0m00:01\u001b[0m\n",
      "\u001b[?25hCollecting h5py>=2.9.0\n",
      "  Downloading h5py-3.8.0-cp310-cp310-macosx_10_9_x86_64.whl (3.2 MB)\n",
      "\u001b[2K     \u001b[90m━━━━━━━━━━━━━━━━━━━━━━━━━━━━━━━━━━━━━━━━\u001b[0m \u001b[32m3.2/3.2 MB\u001b[0m \u001b[31m14.4 MB/s\u001b[0m eta \u001b[36m0:00:00\u001b[0ma \u001b[36m0:00:01\u001b[0m\n",
      "\u001b[?25hCollecting tensorflow-io-gcs-filesystem>=0.23.1\n",
      "  Downloading tensorflow_io_gcs_filesystem-0.32.0-cp310-cp310-macosx_10_14_x86_64.whl (1.7 MB)\n",
      "\u001b[2K     \u001b[90m━━━━━━━━━━━━━━━━━━━━━━━━━━━━━━━━━━━━━━━━\u001b[0m \u001b[32m1.7/1.7 MB\u001b[0m \u001b[31m11.5 MB/s\u001b[0m eta \u001b[36m0:00:00\u001b[0m00:01\u001b[0m00:01\u001b[0m\n",
      "\u001b[?25hCollecting opt-einsum>=2.3.2\n",
      "  Downloading opt_einsum-3.3.0-py3-none-any.whl (65 kB)\n",
      "\u001b[2K     \u001b[90m━━━━━━━━━━━━━━━━━━━━━━━━━━━━━━━━━━━━━━━━\u001b[0m \u001b[32m65.5/65.5 kB\u001b[0m \u001b[31m1.9 MB/s\u001b[0m eta \u001b[36m0:00:00\u001b[0m\n",
      "\u001b[?25hCollecting jax>=0.3.15\n",
      "  Downloading jax-0.4.11.tar.gz (1.3 MB)\n",
      "\u001b[2K     \u001b[90m━━━━━━━━━━━━━━━━━━━━━━━━━━━━━━━━━━━━━━━━\u001b[0m \u001b[32m1.3/1.3 MB\u001b[0m \u001b[31m10.4 MB/s\u001b[0m eta \u001b[36m0:00:00\u001b[0m00:01\u001b[0m00:01\u001b[0m\n",
      "\u001b[?25h  Installing build dependencies ... \u001b[?25ldone\n",
      "\u001b[?25h  Getting requirements to build wheel ... \u001b[?25ldone\n",
      "\u001b[?25h  Preparing metadata (pyproject.toml) ... \u001b[?25ldone\n",
      "\u001b[?25hRequirement already satisfied: typing-extensions>=3.6.6 in /Users/bilawalali/.pyenv/versions/3.10.3/envs/ahoy/lib/python3.10/site-packages (from tensorflow>=2.1.0->tf2crf->urduhack) (4.6.3)\n",
      "Collecting astunparse>=1.6.0\n",
      "  Downloading astunparse-1.6.3-py2.py3-none-any.whl (12 kB)\n",
      "Collecting tensorboard<2.13,>=2.12\n",
      "  Downloading tensorboard-2.12.3-py3-none-any.whl (5.6 MB)\n",
      "\u001b[2K     \u001b[90m━━━━━━━━━━━━━━━━━━━━━━━━━━━━━━━━━━━━━━━━\u001b[0m \u001b[32m5.6/5.6 MB\u001b[0m \u001b[31m13.2 MB/s\u001b[0m eta \u001b[36m0:00:00\u001b[0m00:01\u001b[0m00:01\u001b[0m\n",
      "\u001b[?25hCollecting google-pasta>=0.1.1\n",
      "  Downloading google_pasta-0.2.0-py3-none-any.whl (57 kB)\n",
      "\u001b[2K     \u001b[90m━━━━━━━━━━━━━━━━━━━━━━━━━━━━━━━━━━━━━━━━\u001b[0m \u001b[32m57.5/57.5 kB\u001b[0m \u001b[31m1.4 MB/s\u001b[0m eta \u001b[36m0:00:00\u001b[0m\n",
      "\u001b[?25hCollecting numpy\n",
      "  Downloading numpy-1.23.5-cp310-cp310-macosx_10_9_x86_64.whl (18.1 MB)\n",
      "\u001b[2K     \u001b[90m━━━━━━━━━━━━━━━━━━━━━━━━━━━━━━━━━━━━━━━━\u001b[0m \u001b[32m18.1/18.1 MB\u001b[0m \u001b[31m11.5 MB/s\u001b[0m eta \u001b[36m0:00:00\u001b[0m00:01\u001b[0m00:01\u001b[0m\n",
      "\u001b[?25hCollecting flatbuffers>=2.0\n",
      "  Downloading flatbuffers-23.5.26-py2.py3-none-any.whl (26 kB)\n",
      "Collecting libclang>=13.0.0\n",
      "  Downloading libclang-16.0.0-py2.py3-none-macosx_10_9_x86_64.whl (26.7 MB)\n",
      "\u001b[2K     \u001b[90m━━━━━━━━━━━━━━━━━━━━━━━━━━━━━━━━━━━━━━━━\u001b[0m \u001b[32m26.7/26.7 MB\u001b[0m \u001b[31m11.6 MB/s\u001b[0m eta \u001b[36m0:00:00\u001b[0m00:01\u001b[0m00:01\u001b[0m\n",
      "\u001b[?25hCollecting wrapt\n",
      "  Downloading wrapt-1.14.1-cp310-cp310-macosx_10_9_x86_64.whl (35 kB)\n",
      "Collecting grpcio<2.0,>=1.24.3\n",
      "  Downloading grpcio-1.54.2-cp310-cp310-macosx_12_0_universal2.whl (8.6 MB)\n",
      "\u001b[2K     \u001b[90m━━━━━━━━━━━━━━━━━━━━━━━━━━━━━━━━━━━━━━━━\u001b[0m \u001b[32m8.6/8.6 MB\u001b[0m \u001b[31m10.5 MB/s\u001b[0m eta \u001b[36m0:00:00\u001b[0m00:01\u001b[0m00:01\u001b[0m\n",
      "\u001b[?25hRequirement already satisfied: setuptools in /Users/bilawalali/.pyenv/versions/3.10.3/envs/ahoy/lib/python3.10/site-packages (from tensorflow>=2.1.0->tf2crf->urduhack) (58.1.0)\n",
      "Requirement already satisfied: packaging in /Users/bilawalali/.pyenv/versions/3.10.3/envs/ahoy/lib/python3.10/site-packages (from tensorflow>=2.1.0->tf2crf->urduhack) (21.3)\n",
      "Collecting gast<=0.4.0,>=0.2.1\n",
      "  Downloading gast-0.4.0-py3-none-any.whl (9.8 kB)\n",
      "Collecting typeguard<3.0.0,>=2.7\n",
      "  Downloading typeguard-2.13.3-py3-none-any.whl (17 kB)\n"
     ]
    },
    {
     "name": "stdout",
     "output_type": "stream",
     "text": [
      "Collecting googleapis-common-protos<2,>=1.52.0\n",
      "  Downloading googleapis_common_protos-1.59.0-py2.py3-none-any.whl (223 kB)\n",
      "\u001b[2K     \u001b[90m━━━━━━━━━━━━━━━━━━━━━━━━━━━━━━━━━━━━━━━\u001b[0m \u001b[32m223.6/223.6 kB\u001b[0m \u001b[31m5.1 MB/s\u001b[0m eta \u001b[36m0:00:00\u001b[0ma \u001b[36m0:00:01\u001b[0m\n",
      "\u001b[?25hCollecting wheel<1.0,>=0.23.0\n",
      "  Using cached wheel-0.40.0-py3-none-any.whl (64 kB)\n",
      "Collecting ml-dtypes>=0.1.0\n",
      "  Downloading ml_dtypes-0.2.0-cp310-cp310-macosx_10_9_universal2.whl (1.2 MB)\n",
      "\u001b[2K     \u001b[90m━━━━━━━━━━━━━━━━━━━━━━━━━━━━━━━━━━━━━━━━\u001b[0m \u001b[32m1.2/1.2 MB\u001b[0m \u001b[31m8.5 MB/s\u001b[0m eta \u001b[36m0:00:00\u001b[0m:00:01\u001b[0m00:01\u001b[0m\n",
      "\u001b[?25hCollecting scipy>=1.7\n",
      "  Downloading scipy-1.10.1-cp310-cp310-macosx_10_9_x86_64.whl (35.1 MB)\n",
      "\u001b[2K     \u001b[91m━━━━━━━━━━━━━━━━━━━━━━━━━━━━━━━━━━━━━━━\u001b[0m\u001b[90m╺\u001b[0m \u001b[32m34.4/35.1 MB\u001b[0m \u001b[31m9.6 MB/s\u001b[0m eta \u001b[36m0:00:01\u001b[0m00:01\u001b[0m"
     ]
    }
   ],
   "source": [
    "pip install urduhack"
   ]
  },
  {
   "cell_type": "code",
   "execution_count": 5,
   "id": "f507733c",
   "metadata": {},
   "outputs": [
    {
     "ename": "ModuleNotFoundError",
     "evalue": "No module named 'urduhack'",
     "output_type": "error",
     "traceback": [
      "\u001b[0;31m---------------------------------------------------------------------------\u001b[0m",
      "\u001b[0;31mModuleNotFoundError\u001b[0m                       Traceback (most recent call last)",
      "Cell \u001b[0;32mIn[5], line 1\u001b[0m\n\u001b[0;32m----> 1\u001b[0m \u001b[38;5;28;01mimport\u001b[39;00m \u001b[38;5;21;01murduhack\u001b[39;00m\n\u001b[1;32m      2\u001b[0m \u001b[38;5;28;01mfrom\u001b[39;00m \u001b[38;5;21;01murduhack\u001b[39;00m \u001b[38;5;28;01mimport\u001b[39;00m normalize\n\u001b[1;32m      3\u001b[0m \u001b[38;5;28;01mfrom\u001b[39;00m \u001b[38;5;21;01murduhack\u001b[39;00m\u001b[38;5;21;01m.\u001b[39;00m\u001b[38;5;21;01mpreprocessing\u001b[39;00m \u001b[38;5;28;01mimport\u001b[39;00m normalize_whitespace\n",
      "\u001b[0;31mModuleNotFoundError\u001b[0m: No module named 'urduhack'"
     ]
    }
   ],
   "source": [
    "import urduhack\n",
    "from urduhack import normalize\n",
    "from urduhack.preprocessing import normalize_whitespace\n",
    "from urduhack.preprocessing import remove_punctuation\n",
    "from urduhack.preprocessing import replace_urls\n",
    "from urduhack.preprocessing import replace_emails\n",
    "from urduhack.preprocessing import replace_numbers\n",
    "from urduhack.preprocessing import remove_english_alphabets"
   ]
  },
  {
   "cell_type": "code",
   "execution_count": 6,
   "id": "77a036df",
   "metadata": {},
   "outputs": [],
   "source": [
    "import pandas as pd\n",
    "import re\n",
    "import numpy as np\n",
    "import matplotlib.pyplot as plt\n",
    "import seaborn as sns\n",
    "from sklearn.cluster import KMeans\n",
    "from sklearn.preprocessing import normalize\n",
    "from sklearn.feature_extraction.text import TfidfVectorizer\n",
    "from sklearn.decomposition import PCA\n",
    "import os\n",
    "import random\n",
    "import string\n",
    "import matplotlib.pyplot as plt\n",
    "from sklearn.metrics import pairwise_distances\n",
    "from bs4 import BeautifulSoup\n",
    "from scipy.stats import multivariate_normal as mvn"
   ]
  },
  {
   "cell_type": "code",
   "execution_count": 7,
   "id": "c280f31d",
   "metadata": {},
   "outputs": [],
   "source": [
    "import spacy\n",
    "nlp = spacy.blank('ur')"
   ]
  },
  {
   "cell_type": "code",
   "execution_count": 8,
   "id": "9da3f9f2",
   "metadata": {
    "scrolled": true
   },
   "outputs": [],
   "source": [
    "#df = pd.read_csv('BigCorpus.txt','utf-8',error_bad_lines=False)"
   ]
  },
  {
   "cell_type": "code",
   "execution_count": 27,
   "id": "c1ccb1a0",
   "metadata": {},
   "outputs": [
    {
     "name": "stderr",
     "output_type": "stream",
     "text": [
      "c:\\users\\bilawal ali\\appdata\\local\\programs\\python\\python37\\lib\\site-packages\\IPython\\core\\interactiveshell.py:3441: FutureWarning: The error_bad_lines argument has been deprecated and will be removed in a future version.\n",
      "\n",
      "\n",
      "  exec(code_obj, self.user_global_ns, self.user_ns)\n"
     ]
    }
   ],
   "source": [
    "df = pd.read_csv('tweets.csv', encoding='utf-8', error_bad_lines=False)"
   ]
  },
  {
   "cell_type": "code",
   "execution_count": 28,
   "id": "4f6bae9d",
   "metadata": {},
   "outputs": [
    {
     "name": "stderr",
     "output_type": "stream",
     "text": [
      "2022-04-11 00:50:30 INFO: Loading these models for language: ur (Urdu):\n",
      "=======================\n",
      "| Processor | Package |\n",
      "-----------------------\n",
      "| tokenize  | udtb    |\n",
      "| lemma     | udtb    |\n",
      "=======================\n",
      "\n",
      "2022-04-11 00:50:30 INFO: Use device: cpu\n",
      "2022-04-11 00:50:30 INFO: Loading: tokenize\n",
      "2022-04-11 00:50:30 INFO: Loading: lemma\n",
      "2022-04-11 00:50:30 INFO: Done loading processors!\n"
     ]
    }
   ],
   "source": [
    "nlp = stanza.Pipeline(lang='ur', processors='tokenize,lemma')"
   ]
  },
  {
   "cell_type": "code",
   "execution_count": 29,
   "id": "b7fb62e0",
   "metadata": {},
   "outputs": [],
   "source": [
    "def preprocess(word):\n",
    "    word = re.sub(\"\\W\", \" \",word)\n",
    "    word = re.sub(\"[a-zA-Z0-9]\",\"\",word)\n",
    "    word = normalize_whitespace(word)\n",
    "    word = remove_punctuation(word)\n",
    "    word = replace_urls(word)\n",
    "    word = replace_emails(word)\n",
    "    #word = normalize(word)\n",
    "    word = replace_numbers(word)\n",
    "    #STanza lemmentization normalize\n",
    "    \n",
    "    doc = nlp(word)\n",
    "    a = doc.to_dict()\n",
    "    if(len(a) is not 0):\n",
    "        a = a[0]\n",
    "        word = ''\n",
    "        for i in a:\n",
    "            if(i['id']==(a[-1]['id'])):\n",
    "                word=word+i['lemma']\n",
    "            else:\n",
    "                word = word+i['lemma']+' '\n",
    "    \n",
    "    return word"
   ]
  },
  {
   "cell_type": "code",
   "execution_count": null,
   "id": "99bfe83a",
   "metadata": {},
   "outputs": [],
   "source": []
  },
  {
   "cell_type": "code",
   "execution_count": 30,
   "id": "69bf1e6f",
   "metadata": {},
   "outputs": [],
   "source": [
    "def remove_duplicate_words(string):\n",
    "        x = string.split()\n",
    "        x = sorted(set(x), key = x.index)\n",
    "        return ' '.join(x)"
   ]
  },
  {
   "cell_type": "code",
   "execution_count": 31,
   "id": "5c8ff2f7",
   "metadata": {},
   "outputs": [
    {
     "data": {
      "text/html": [
       "<div>\n",
       "<style scoped>\n",
       "    .dataframe tbody tr th:only-of-type {\n",
       "        vertical-align: middle;\n",
       "    }\n",
       "\n",
       "    .dataframe tbody tr th {\n",
       "        vertical-align: top;\n",
       "    }\n",
       "\n",
       "    .dataframe thead th {\n",
       "        text-align: right;\n",
       "    }\n",
       "</style>\n",
       "<table border=\"1\" class=\"dataframe\">\n",
       "  <thead>\n",
       "    <tr style=\"text-align: right;\">\n",
       "      <th></th>\n",
       "      <th>tweets</th>\n",
       "      <th>text</th>\n",
       "      <th>timestamp</th>\n",
       "    </tr>\n",
       "  </thead>\n",
       "  <tbody>\n",
       "    <tr>\n",
       "      <th>0</th>\n",
       "      <td>0</td>\n",
       "      <td>RT @FaisalJavedKhan: آپکی رائے میں کیا تحریک ا...</td>\n",
       "      <td>Sun Apr 10 19:11:30 +0000 2022</td>\n",
       "    </tr>\n",
       "    <tr>\n",
       "      <th>1</th>\n",
       "      <td>1</td>\n",
       "      <td>خان نہ ہو تو یہ عوام کھا جائے ان کو</td>\n",
       "      <td>Sun Apr 10 19:11:30 +0000 2022</td>\n",
       "    </tr>\n",
       "    <tr>\n",
       "      <th>2</th>\n",
       "      <td>2</td>\n",
       "      <td>RT @ZahraCh234: کس کی آنکھوں میں سمایا ہے شعار...</td>\n",
       "      <td>Sun Apr 10 19:11:30 +0000 2022</td>\n",
       "    </tr>\n",
       "    <tr>\n",
       "      <th>3</th>\n",
       "      <td>3</td>\n",
       "      <td>RT @InsafPK: ہر خودار پاکستانی کی ایک آواز \\nب...</td>\n",
       "      <td>Sun Apr 10 19:11:30 +0000 2022</td>\n",
       "    </tr>\n",
       "    <tr>\n",
       "      <th>4</th>\n",
       "      <td>4</td>\n",
       "      <td>RT @Haqeeqat_TV: دیکھ رہے ہو نا عوام کا سمندر....</td>\n",
       "      <td>Sun Apr 10 19:11:30 +0000 2022</td>\n",
       "    </tr>\n",
       "  </tbody>\n",
       "</table>\n",
       "</div>"
      ],
      "text/plain": [
       "   tweets                                               text  \\\n",
       "0       0  RT @FaisalJavedKhan: آپکی رائے میں کیا تحریک ا...   \n",
       "1       1                خان نہ ہو تو یہ عوام کھا جائے ان کو   \n",
       "2       2  RT @ZahraCh234: کس کی آنکھوں میں سمایا ہے شعار...   \n",
       "3       3  RT @InsafPK: ہر خودار پاکستانی کی ایک آواز \\nب...   \n",
       "4       4  RT @Haqeeqat_TV: دیکھ رہے ہو نا عوام کا سمندر....   \n",
       "\n",
       "                        timestamp  \n",
       "0  Sun Apr 10 19:11:30 +0000 2022  \n",
       "1  Sun Apr 10 19:11:30 +0000 2022  \n",
       "2  Sun Apr 10 19:11:30 +0000 2022  \n",
       "3  Sun Apr 10 19:11:30 +0000 2022  \n",
       "4  Sun Apr 10 19:11:30 +0000 2022  "
      ]
     },
     "execution_count": 31,
     "metadata": {},
     "output_type": "execute_result"
    }
   ],
   "source": [
    "df.rename({df.columns[0]: 'tweets'}, axis=1, inplace=True)\n",
    "\n",
    "df.head()"
   ]
  },
  {
   "cell_type": "code",
   "execution_count": 32,
   "id": "6a8c4838",
   "metadata": {},
   "outputs": [
    {
     "data": {
      "text/html": [
       "<div>\n",
       "<style scoped>\n",
       "    .dataframe tbody tr th:only-of-type {\n",
       "        vertical-align: middle;\n",
       "    }\n",
       "\n",
       "    .dataframe tbody tr th {\n",
       "        vertical-align: top;\n",
       "    }\n",
       "\n",
       "    .dataframe thead th {\n",
       "        text-align: right;\n",
       "    }\n",
       "</style>\n",
       "<table border=\"1\" class=\"dataframe\">\n",
       "  <thead>\n",
       "    <tr style=\"text-align: right;\">\n",
       "      <th></th>\n",
       "      <th>tweets</th>\n",
       "      <th>text</th>\n",
       "      <th>timestamp</th>\n",
       "    </tr>\n",
       "  </thead>\n",
       "  <tbody>\n",
       "    <tr>\n",
       "      <th>0</th>\n",
       "      <td>0</td>\n",
       "      <td>RT @FaisalJavedKhan: آپکی رائے میں کیا تحریک ا...</td>\n",
       "      <td>Sun Apr 10 19:11:30 +0000 2022</td>\n",
       "    </tr>\n",
       "    <tr>\n",
       "      <th>1</th>\n",
       "      <td>1</td>\n",
       "      <td>خان نہ ہو تو یہ عوام کھا جائے ان کو</td>\n",
       "      <td>Sun Apr 10 19:11:30 +0000 2022</td>\n",
       "    </tr>\n",
       "    <tr>\n",
       "      <th>2</th>\n",
       "      <td>2</td>\n",
       "      <td>RT @ZahraCh234: کس کی آنکھوں میں سمایا ہے شعار...</td>\n",
       "      <td>Sun Apr 10 19:11:30 +0000 2022</td>\n",
       "    </tr>\n",
       "    <tr>\n",
       "      <th>3</th>\n",
       "      <td>3</td>\n",
       "      <td>RT @InsafPK: ہر خودار پاکستانی کی ایک آواز \\nب...</td>\n",
       "      <td>Sun Apr 10 19:11:30 +0000 2022</td>\n",
       "    </tr>\n",
       "    <tr>\n",
       "      <th>4</th>\n",
       "      <td>4</td>\n",
       "      <td>RT @Haqeeqat_TV: دیکھ رہے ہو نا عوام کا سمندر....</td>\n",
       "      <td>Sun Apr 10 19:11:30 +0000 2022</td>\n",
       "    </tr>\n",
       "    <tr>\n",
       "      <th>...</th>\n",
       "      <td>...</td>\n",
       "      <td>...</td>\n",
       "      <td>...</td>\n",
       "    </tr>\n",
       "    <tr>\n",
       "      <th>95</th>\n",
       "      <td>95</td>\n",
       "      <td>RT @maniiminhas: عمران خان کی محبت میں لاہور، ...</td>\n",
       "      <td>Sun Apr 10 19:11:36 +0000 2022</td>\n",
       "    </tr>\n",
       "    <tr>\n",
       "      <th>96</th>\n",
       "      <td>96</td>\n",
       "      <td>RT @haroon_natamam: لاہور میں میں ہوں۔ لبرٹی م...</td>\n",
       "      <td>Sun Apr 10 19:11:36 +0000 2022</td>\n",
       "    </tr>\n",
       "    <tr>\n",
       "      <th>97</th>\n",
       "      <td>97</td>\n",
       "      <td>RT @Mahichudary1: ائیر کنڈیشن کمروں میں بیٹھ ک...</td>\n",
       "      <td>Sun Apr 10 19:11:36 +0000 2022</td>\n",
       "    </tr>\n",
       "    <tr>\n",
       "      <th>98</th>\n",
       "      <td>98</td>\n",
       "      <td>RT @NaikRooh: یہ تو شروعات ہے جب حریت کا پاسپا...</td>\n",
       "      <td>Sun Apr 10 19:11:36 +0000 2022</td>\n",
       "    </tr>\n",
       "    <tr>\n",
       "      <th>99</th>\n",
       "      <td>99</td>\n",
       "      <td>عمران نے کہا تھا کہ اگر میرے خلاف سازش ہو گی ت...</td>\n",
       "      <td>Sun Apr 10 19:11:36 +0000 2022</td>\n",
       "    </tr>\n",
       "  </tbody>\n",
       "</table>\n",
       "<p>100 rows × 3 columns</p>\n",
       "</div>"
      ],
      "text/plain": [
       "    tweets                                               text  \\\n",
       "0        0  RT @FaisalJavedKhan: آپکی رائے میں کیا تحریک ا...   \n",
       "1        1                خان نہ ہو تو یہ عوام کھا جائے ان کو   \n",
       "2        2  RT @ZahraCh234: کس کی آنکھوں میں سمایا ہے شعار...   \n",
       "3        3  RT @InsafPK: ہر خودار پاکستانی کی ایک آواز \\nب...   \n",
       "4        4  RT @Haqeeqat_TV: دیکھ رہے ہو نا عوام کا سمندر....   \n",
       "..     ...                                                ...   \n",
       "95      95  RT @maniiminhas: عمران خان کی محبت میں لاہور، ...   \n",
       "96      96  RT @haroon_natamam: لاہور میں میں ہوں۔ لبرٹی م...   \n",
       "97      97  RT @Mahichudary1: ائیر کنڈیشن کمروں میں بیٹھ ک...   \n",
       "98      98  RT @NaikRooh: یہ تو شروعات ہے جب حریت کا پاسپا...   \n",
       "99      99  عمران نے کہا تھا کہ اگر میرے خلاف سازش ہو گی ت...   \n",
       "\n",
       "                         timestamp  \n",
       "0   Sun Apr 10 19:11:30 +0000 2022  \n",
       "1   Sun Apr 10 19:11:30 +0000 2022  \n",
       "2   Sun Apr 10 19:11:30 +0000 2022  \n",
       "3   Sun Apr 10 19:11:30 +0000 2022  \n",
       "4   Sun Apr 10 19:11:30 +0000 2022  \n",
       "..                             ...  \n",
       "95  Sun Apr 10 19:11:36 +0000 2022  \n",
       "96  Sun Apr 10 19:11:36 +0000 2022  \n",
       "97  Sun Apr 10 19:11:36 +0000 2022  \n",
       "98  Sun Apr 10 19:11:36 +0000 2022  \n",
       "99  Sun Apr 10 19:11:36 +0000 2022  \n",
       "\n",
       "[100 rows x 3 columns]"
      ]
     },
     "execution_count": 32,
     "metadata": {},
     "output_type": "execute_result"
    }
   ],
   "source": [
    "df.head(100)"
   ]
  },
  {
   "cell_type": "code",
   "execution_count": 33,
   "id": "c798b64b",
   "metadata": {},
   "outputs": [
    {
     "data": {
      "text/plain": [
       "10001"
      ]
     },
     "execution_count": 33,
     "metadata": {},
     "output_type": "execute_result"
    }
   ],
   "source": [
    "test = df\n",
    "len(test)"
   ]
  },
  {
   "cell_type": "code",
   "execution_count": 34,
   "id": "27688e43",
   "metadata": {},
   "outputs": [],
   "source": [
    "list1 = []\n",
    "for i in range(len(df.index)):\n",
    "    sent = df[df.columns[1]][i]\n",
    "    list1.append(sent)"
   ]
  },
  {
   "cell_type": "code",
   "execution_count": 35,
   "id": "8cef7859",
   "metadata": {},
   "outputs": [
    {
     "data": {
      "text/plain": [
       "['RT @FaisalJavedKhan: آپکی رائے میں کیا تحریک انصاف کو اسمبلی سے مستعفیٰ ہو جانا چاہیے یا نہیں ؟',\n",
       " 'خان نہ ہو تو یہ عوام کھا جائے ان کو',\n",
       " 'RT @ZahraCh234: کس کی آنکھوں میں سمایا ہے شعار اغیار \\n\\nہو گئی کس کی نگہ طرز سلف سے بے زار \\n\\n#حساب_باقی_ہے',\n",
       " 'RT @InsafPK: ہر خودار پاکستانی کی ایک آواز \\nبھکاری ہو گا تیرا باپ شو باز\\n#امپورٹڈ_حکومت_نامنظور https://t.co/OaAkdiuImr',\n",
       " 'RT @Haqeeqat_TV: دیکھ رہے ہو نا عوام کا سمندر... کہا تھا تمکو چلتی مشین میں ہاتھ نا دینا عمران خان کو نکال کر...\\n\\nاللہ اسکا محافظ تھا اور ر…',\n",
       " 'RT @FaisalJavedKhan: آپکی رائے میں کیا تحریک انصاف کو اسمبلی سے مستعفیٰ ہو جانا چاہیے یا نہیں ؟',\n",
       " 'RT @HajiQasimRizvi5: چمچا @SdqJaan جی ایک دن پہلے تمہارے انکل اقتدار میں تھے یاد ہے تم لوگ میڈیا والے تحریک لبیک پاکستان کی کوریج نہیں کرتے…',\n",
       " 'RT @MRawanKhan1: بِھکاری ہو گا تیرا باپ۔ ہم پاکستانی ہیں۔',\n",
       " 'RT @ShahzadGill202: لیاقت باغ پہ لوگ آنا شروع ہو گئے https://t.co/enj3WgOvKg',\n",
       " 'RT @fawadchaudhry: میں نے عرض کیا تھا سیاست کے فیصلے عدالتوں میں کرنے کی کوشش تباہ کن ہو گی، جن کو سمجھ نہیں آ رہی تھی آج باہر نکلیں اور عو…',\n",
       " 'RT @RaheeqAbbasi: ہائے قربان جاوں ۔۔ آذادی میڈیا کی بات کرنے والوں  پر ۔۔۔ \\nآج تم تحریک انصاف کے ملک گیر مظاہروں کا کسی کالعدم تنظیم کی طرح…',\n",
       " 'RT @challyanmilow: #حساب_باقی_ہے\\nفَصْلِ گل لاکھ نہ ہو وَصْل کی رکھ آس ہزا ر\\nپھولتے پھلتے ہیں بے فَصْل گلستانِ عرب\\n?!??!?!?!?!',\n",
       " '@ImranKhanPTI *ابھی تو اسمبلی پر یہ ہو رہا ہے تم نے یہ کیا وہ کیا کل اور بھی راز کھل جائیں میرا ربﷻ ربﷻ ہے اس کی خفیہ تدبیروں سے بچو.....*\\nhttps://t.co/r99LUNJL8l',\n",
       " 'RT @MirMAKOfficial: عمران نے کہا تھا کہ اگر میرے خلاف سازش ہو گی تو میری عوام میرے ساتھ ہوگی۔ \\n\\nدیکھ لو بھکاری شہباز۔  دیکھ لو فضلو۔ دیکھ ل…',\n",
       " 'RT @Haqeeqat_TV: سارے پلان الٹ گئے عوام روزوں میں بھی سڑکوں پر نکل آئی۔۔۔\\n\\nڈرو اس وقت سے جب عمران خان خود نکلے گا اور پورا پاکستان پیک ہوگا…',\n",
       " 'RT @MirMAKOfficial: بِھکاری ہو گا تیرا باپ۔ ہم پاکستانی ہیں۔',\n",
       " 'RT @MirMAKOfficial: عمران نے کہا تھا کہ اگر میرے خلاف سازش ہو گی تو میری عوام میرے ساتھ ہوگی۔ \\n\\nدیکھ لو بھکاری شہباز۔  دیکھ لو فضلو۔ دیکھ ل…',\n",
       " 'دیکھ رہے ہو نا عوام کا سمندر... کہا تھا تمکو چلتی مشین میں ہاتھ نا دینا عمران خان کو نکال کر...\\n\\nاللہ اسکا محافظ تھا اور رہے گا... عوام سڑکوں پر آچکی امریکی غلامی ریجیکٹ کر دی گئی... وہ فتح یاب ہو کر رہے گا\\n#امپورٹڈ_گورنمنٹ_نامنظور',\n",
       " 'آج پورا پاکستان مقبوضہ کشمیر کا روپ پیش کررہاہے ہرطرف آذادی کے نعرے لگ رہے ہیں جج صاحب کچھ سناٸی دے رہاہے یہ یا سوے ہوے ہو یہ ساری مہربانی تو اپ کی ہے ملک و قوم کو بیچ ڈالا غلام بنادیا چند ٹکوں کیلیۓ  باجوا صاحب اپ ہی جواب دے اپ کی قوم آذادی مانگ رہی ہے \\nایک خوشی ہے کہ قوم جاگ گٸ',\n",
       " 'RT @AnsarAAbbasi: عمران خان تو رخصت ہو گئے۔ اب میڈیا اور خصوصا دو چینلز اپنی خوداحتسابی ضرور کر لیں کہ کہاں کہاں حب عمران اور کہاں کہاں بغض…',\n",
       " 'RT @OryaMaqboolJan: عمران خان پاکستان کا پہلا وزیر اعظم ہے جس کے خلاف عدم اعتماد کامیاب ہو ئی مگر اسکی یہ انفرادیت بھی ہے کہ باقی سب کرپشن…',\n",
       " '#مرشدفرماتےہیں \\nخان کے الفاظ سچ ثابت ہوئے \\nمیں گورنمنٹ سے باہر ہوا تو زیادہ خطرناک ہو جاونگا 🔥\\n\\n #امپورٹڈ_حکومت_نامنظور https://t.co/MvXuF6UmJL',\n",
       " 'RT @SdqJaan: اپوزیشن میں شامل 12 جماعتیں حکومت بنانے جا رہی ہیں، کسی ایک نے کہا ہو کہ\\n\"ہم بھی امریکہ کی غلامی نہیں کریں گے\"\\nنہیں کہیں گے،\\nی…',\n",
       " 'RT @IrshadBhatti336: اپنےمعززچیف جسٹس سےپوچھناتھاکہ سانحہ بلدیہ ٹاؤن،سانحہ ماڈل ٹاؤن،کوئٹہ میں دن دیہاڑےمجیداچکزئی کی گاڑی تلےآکر کُچلےجانے…',\n",
       " 'RT @MirMAKOfficial: بِھکاری ہو گا تیرا باپ۔ ہم پاکستانی ہیں۔',\n",
       " 'RT @MirMAKOfficial: عمران نے کہا تھا کہ اگر میرے خلاف سازش ہو گی تو میری عوام میرے ساتھ ہوگی۔ \\n\\nدیکھ لو بھکاری شہباز۔  دیکھ لو فضلو۔ دیکھ ل…',\n",
       " 'RT @AnwarLodhi: عمران خان کے بغیر اگر اتنی بڑی تعداد میں عوام نکل آئی ہے، عمران خان صاحب جب خود نکلے تو پھر کیا منظر ہو گا؟\\n\\n#امپورٹڈ_حکومت…',\n",
       " 'RT @Master_PTI: میں @ImranRiazKhan بھائی سے گزارش کرتا ہوں کہ وہ اپنا TV چینل کھول لیں، یا پھر یوٹیوب پر ہی Live Streaming شروع کر لیں.\\n\\nکی…',\n",
       " 'RT @jam_rizvi: جیسی کرنی ویسی بھرنی۔ اس ٹائم PTI والے نیوز چینلوں کو کوریج دینے کا کہہ رہے،لیکن سوائے ایک مالشی چینل کے کوئی کوریج دینے کو…',\n",
       " '@ImranKhanPTI اگر گاہک امیر ہو تو\\nطوائف چھٹی والے دن بھی ناچتی ہے https://t.co/WA6DjqMH2D',\n",
       " 'RT @fawadchaudhry: میں نے عرض کیا تھا سیاست کے فیصلے عدالتوں میں کرنے کی کوشش تباہ کن ہو گی، جن کو سمجھ نہیں آ رہی تھی آج باہر نکلیں اور عو…',\n",
       " 'RT @Irfan____Ahmed: کراچی میں خاتون کے فرط جذبات میں آبدیدہ ہو گئیں!\\nہمیں یہ لوگ قبول نہیں ہیں،ہمارے مینڈیٹ ہر ڈاکہ ڈالا گیا ہے، ہم نے انہی…',\n",
       " '@ImranKhanPTI آپ عمران خان تھے فر بھی زنداباد تھے آج پاکستان خان ہو فر بھی زنداباد ہو اللہ پاک آپ کو لمبی دے آمین',\n",
       " 'RT @07to11: 💯 فیصد فالو بیک کے لیے اِن  ممبرز\\nکو فالو کریں اور فالو بیک حاصل کریں۔ اس ٹویٹ کو ریٹویٹ کر کہ اپنی 🆔 بھی مینشن کر دے تاکہ آپ س…',\n",
       " 'RT @InsafPK: ہر خودار پاکستانی کی ایک آواز \\nبھکاری ہو گا تیرا باپ شو باز\\n#امپورٹڈ_حکومت_نامنظور https://t.co/OaAkdiuImr',\n",
       " '@ImranKhanPTI انشاء اللہ میرے قائد دوبارہ ایسا ہی ہو گا پاکستان انشاءاللہ',\n",
       " 'اس ڈبو @fawadchaudhry نے کبھی نہیں ہونا مستعفی\\nآج @ImranKhanPTI کو اس نہج پر لانے والوں میں سے ایک یہ بھی ہے',\n",
       " 'RT @GFarooqi: جو دو روز پہلے تک حکومت گرنے کا جشن منا رہے تھے وہ دو دن بعد احتجاج کیسے کر رہے ہیں۔۔۔؟ 😅😅😅 \\n\\nکمال کرتے ہو پانڈے جی ۔۔۔',\n",
       " 'RT @fawadchaudhry: میں نے عرض کیا تھا سیاست کے فیصلے عدالتوں میں کرنے کی کوشش تباہ کن ہو گی، جن کو سمجھ نہیں آ رہی تھی آج باہر نکلیں اور عو…',\n",
       " '@MoulanaOfficial \\nاس وقت متحرک مولانا کے ساتھ 198 سے زیادہ ممبران ہیں. لاؤ شریعت محمدی بل اگر حق پر ہو.مولانا کے شاگردوں مطالبہ کرو. اگر نہیں تو سب منافق ہو\\n#امپورٹڈ_گورمنٹ_نامنظور #امپورٹڈ_حکومت_نامنظور #خاتم_النبیین_محمدﷺ #ختم_نبوت_کا_محافظ_عمران_خان #خاتون_چول_خریدہ_فروختی']"
      ]
     },
     "execution_count": 35,
     "metadata": {},
     "output_type": "execute_result"
    }
   ],
   "source": [
    "list1[:40]"
   ]
  },
  {
   "cell_type": "code",
   "execution_count": null,
   "id": "7f502358",
   "metadata": {},
   "outputs": [],
   "source": [
    "sent_p =[]\n",
    "for tweet in list1:\n",
    "    sent_p.append(preprocess(tweet))"
   ]
  },
  {
   "cell_type": "code",
   "execution_count": null,
   "id": "52cf91b6",
   "metadata": {},
   "outputs": [],
   "source": [
    "ndf = pd.DataFrame(sent_p,columns = [\"tweets\"])"
   ]
  },
  {
   "cell_type": "code",
   "execution_count": 158,
   "id": "a7ae9a51",
   "metadata": {},
   "outputs": [
    {
     "data": {
      "text/plain": [
       "['تیری یادداشت تو بہت تیز ہے',\n",
       " 'پھر تو تم گ ب رانا اسلم پینو بھمبیری',\n",
       " 'پھٹا ہو چولہا بھی یاد اچھا جی عشق ؤں کا موت ہو رہ ہے ایک وقت تھا جب نیب مریم نواز کا پیچھا کر رہ تھا اور اب یہ مقام ہے انصاف کا خاطر مریم نواز نیب کا تعاقب کر رہ ہے ا ایک وقت تھا جب نیب مریم نواز کا پیچھا کر رہ تھا اور اب یہ مقام ہے انصاف کا خاطر مریم نواز نیب کا تعاقب کر رہ ہے ا ایک وقت تھا جب نیب مریم نواز کا پیچھا کر رہ تھا اور اب یہ مقام ہے انصاف کا خاطر مریم نواز نیب کا تعاقب کر رہ ہے ا ایک وقت تھا جب نیب مریم نواز کا پیچھا کر رہ تھا اور اب یہ مقام ہے انصاف کا خاطر مریم نواز نیب کا تعاقب کر رہ ہے ا میں تو گولی ماروں گا پورا پاکستان ہی رشوت پر چل رہ ہے میں کوئی وکھری رشوت لے ہے',\n",
       " 'کراچی کا رشوت خور اور منشی ایک وقت تھا جب نیب مریم نواز کا پیچھا کر رہ تھا اور اب یہ مقام ہے انصاف کا خاطر مریم نواز نیب کا تعاقب کر رہ ہے ا مریخ پر تو نہیں جا بٹ صحت کارڈ ایک ایسا سہولت ہے جو وزیراعظم عمران خان ہر پاکستانی کو مہیا کر کا لئے کوشاں ہے',\n",
       " 'پنجاب میں راجن پور ڈیرہ غ او چاچوتم سارا نظام ٹرائی کر چک ہو ایک مرتبہ آئین پاکستان کا نظام نافذ کر کا دیکھ لو ہوسکتا ہ ایک وقت تھا جب نیب مریم نواز کا پیچھا کر رہ تھا اور اب یہ مقام ہے انصاف کا خاطر مریم نواز نیب کا تعاقب کر رہ ہے ا میرے لفظ',\n",
       " 'اللہ نہ کر کہ آپ کا نبض کوئی کا مٹھی میں ہو اور یہ یہ بات سے فرق ہی نہ پڑ ہو کہ یہ کا رفتار کر ہے مدہم ہے چ ایک وقت تھا جب نیب مریم نواز کا پیچھا کر رہ تھا اور اب یہ مقام ہے انصاف کا خاطر مریم نواز نیب کا تعاقب کر رہ ہے ا',\n",
       " 'سیرت صحابہرضیاللہعنہم',\n",
       " 'یہ المومنین سیدہ خدیجہ رضی اللہ عنہا',\n",
       " 'نہ ہی کوئ آپ کےفخر اور شرف کو چیلنج ک ایسا بے بسی میں رب کوئی کو نہ ڈال',\n",
       " 'جہاں ہم خود اپنا سمجھ سے باہر ہو جا',\n",
       " 'اردوزبان خان صاحب نے غریب کو غریب تر کردیا',\n",
       " 'اور امیر کو امیر تر کردیا',\n",
       " 'خان صاحب تو یہ گل تے روشنی پا دیو کا تھواڈا مافیا کون قسم دا ت مےں اپوزیشن دلال لگ ہے سب کچھ یہ کا مرضی سے ہو رہ ہے ایک وقت تھا جب نیب مریم نواز کا پیچھا کر رہ تھا اور اب یہ مقام ہے انصاف کا خاطر مریم نواز نیب کا تعاقب کر رہ ہے ا اکیلی افشاں لطیف نے ساری عوام اور اپوزیشن کو سمجھ دے کا احتجاج کر ہو تو کوئی لیڈر اور عوام کا کوئی ضرورت نہیں ہو',\n",
       " 'ایک وقت تھا جب نیب مریم نواز کا پیچھا کر رہ تھا اور اب یہ مقام ہے انصاف کا خاطر مریم نواز نیب کا تعاقب کر رہ ہے ا ایک وقت تھا جب نیب مریم نواز کا پیچھا کر رہ تھا اور اب یہ مقام ہے انصاف کا خاطر مریم نواز نیب کا تعاقب کر رہ ہے ا گوادر میں کچھ نہیں ہو سک بلکہ پورا بلوچستان میں کچھ نہیں ہو سک',\n",
       " 'بلوچ کا اندر احساس برتری اور احساس محروم کا خطرناک م ایک وقت تھا جب نیب مریم نواز کا پیچھا کر رہ تھا اور اب یہ مقام ہے انصاف کا خاطر مریم نواز نیب کا تعاقب کر رہ ہے ا پہلے زرتاج گل پھر علی عوان اور اب شہباز گل کا اگریسیو اپروچ',\n",
       " 'میڈیا نےحکومت کا خلاف خوامخواہ کا جو دشمنی پال رکھ ہے یہ شای دیکھ بن عشق ہو دیکھ بنا دور ہو',\n",
       " 'اتنا کچھ ہو بھی جا اور ہو کچھ بھی نہیں ایک وقت تھا جب نیب مریم نواز کا پیچھا کر رہ تھا اور اب یہ مقام ہے انصاف کا خاطر مریم نواز نیب کا تعاقب کر رہ ہے ا ایک وقت تھا جب نیب مریم نواز کا پیچھا کر رہ تھا اور اب یہ مقام ہے انصاف کا خاطر مریم نواز نیب کا تعاقب کر رہ ہے ا ایک وقت تھا جب نیب مریم نواز کا پیچھا کر رہ تھا اور اب یہ مقام ہے انصاف کا خاطر مریم نواز نیب کا تعاقب کر رہ ہے ا ایک وقت تھا جب نیب مریم نواز کا پیچھا کر رہ تھا اور اب یہ مقام ہے انصاف کا خاطر مریم نواز نیب کا تعاقب کر رہ ہے ا جب تک ملک کا سیسٹم درست نہیں ہو گا اچھا معاشرہ کا تشکیل ممکن نہیں بندہ غیرت مند ہو تو اپنا تعلیمی ادارہ کا بھی ڈیفنڈ کر فرض سمجھ ہے',\n",
       " 'بغیرت ہو تو بھونکنے والا کتا کہہ پر بھی کوئ فرق ایک وقت تھا جب نیب مریم نواز کا پیچھا کر رہ تھا اور اب یہ مقام ہے انصاف کا خاطر مریم نواز نیب کا تعاقب کر رہ ہے ا اردوزبان',\n",
       " 'بہتا آنسو ایک جھلک میں کتنا روپ دکھا گا',\n",
       " 'آنکھ سے ہو کر گال بھگو کر مٹی میں مل جا گا',\n",
       " 'احمد مشتاق ایک وقت تھا جب نیب مریم نواز کا پیچھا کر رہ تھا اور اب یہ مقام ہے انصاف کا خاطر مریم نواز نیب کا تعاقب کر رہ ہے ا یہ کراچی ہے یہاں کچھ بھی ہو سک ہے',\n",
       " 'ایک وقت تھا جب نیب مریم نواز کا پیچھا کر رہ تھا اور اب یہ مقام ہے انصاف کا خاطر مریم نواز نیب کا تعاقب کر رہ ہے ا ضروری اعلان',\n",
       " 'ڈیٹھ سرٹیفکیٹ میں بن رہ ہے جوکہ یکم فروری سے کا ہو رہ ہے یکم فروری سے ہہلہ پہلے اپنا ڈیتھ سرٹیفکیٹ بنوا پاکپتن سے آ والا کسان سے پنجاب پولیس کا غنڈہ گردی کاشت کار کا ٹریکٹر روک لئے ٹائر کا ہو بھی نکال دے پی پی پی ڈ اسلام آباد ہائیکورٹ کا ججز کا دیانت پر حملہ کرنےوالےمیرشکیل الرحمان پر فرد جرم عائد نہ ہو مگر خواجہ آصف کا وکیل وزیراعظم پ ایک وقت تھا جب نیب مریم نواز کا پیچھا کر رہ تھا اور اب یہ مقام ہے انصاف کا خاطر مریم نواز نیب کا تعاقب کر رہ ہے ا ایک وقت تھا جب نیب مریم نواز کا پیچھا کر رہ تھا اور اب یہ مقام ہے انصاف کا خاطر مریم نواز نیب کا تعاقب کر رہ ہے ا ایک وقت تھا جب نیب مریم نواز کا پیچھا کر رہ تھا اور اب یہ مقام ہے انصاف کا خاطر مریم نواز نیب کا تعاقب کر رہ ہے ا یہ ملک میں چار بار صدارتی نظام نافذ ہو چک اور ہر بار عوام کو ناقابل تلافی نقصان اٹھا پڑ ہے',\n",
       " 'اب بھی عوام کو ہوش افغانستان کا سیاسی و اقتصادی حالات بتدریج بہتر ہورہ ہے تنخواہ کا ادائیگی اور لڑکی کا تعلیمی ادارہ کو کھول سمیت تمام ایک وقت تھا جب نیب مریم نواز کا پیچھا کر رہ تھا اور اب یہ مقام ہے انصاف کا خاطر مریم نواز نیب کا تعاقب کر رہ ہے ا ایک وقت تھا جب نیب مریم نواز کا پیچھا کر رہ تھا اور اب یہ مقام ہے انصاف کا خاطر مریم نواز نیب کا تعاقب کر رہ ہے ا پی ٹی آئی والا سے کوئی پوچھ کہ وہ عمر بھی تو محمد زبیر کا بھائی ہے کر یہ انصاف پسندوں نے کبھی محمد زبیر کا وجہ سے وہ ایک وقت تھا جب نیب مریم نواز کا پیچھا کر رہ تھا اور اب یہ مقام ہے انصاف کا خاطر مریم نواز نیب کا تعاقب کر رہ ہے ا ایک وقت تھا جب نیب مریم نواز کا پیچھا کر رہ تھا اور اب یہ مقام ہے انصاف کا خاطر مریم نواز نیب کا تعاقب کر رہ ہے ا تو مہکت گلاب ہو',\n",
       " 'میرے آنگن کا جو دیکھ ہی رہ جاٶں ایک وقت تھا جب نیب مریم نواز کا پیچھا کر رہ تھا اور اب یہ مقام ہے انصاف کا خاطر مریم نواز نیب کا تعاقب کر رہ ہے ا ایک وقت تھا جب نیب مریم نواز کا پیچھا کر رہ تھا اور اب یہ مقام ہے انصاف کا خاطر مریم نواز نیب کا تعاقب کر رہ ہے ا ایک وقت تھا جب نیب مریم نواز کا پیچھا کر رہ تھا اور اب یہ مقام ہے انصاف کا خاطر مریم نواز نیب کا تعاقب کر رہ ہے ا بابا جی رضوی گھرانا کا چشم و چراغ ہمیشہ سلامت رہ',\n",
       " 'حاسدین کا حسد سے محفوظ رہ',\n",
       " 'دن دوگنی رات چوگنی ترقی نصیب ہو',\n",
       " 'آمی ایک وقت تھا جب نیب مریم نواز کا پیچھا کر رہ تھا اور اب یہ مقام ہے انصاف کا خاطر مریم نواز نیب کا تعاقب کر رہ ہے ا',\n",
       " '',\n",
       " '']"
      ]
     },
     "execution_count": 158,
     "metadata": {},
     "output_type": "execute_result"
    }
   ],
   "source": [
    "sent_p[0:30]"
   ]
  },
  {
   "cell_type": "code",
   "execution_count": null,
   "id": "0e6e0aac",
   "metadata": {},
   "outputs": [],
   "source": [
    "from nltk.tokenize import word_tokenize\n",
    "import nltk\n",
    "        "
   ]
  },
  {
   "cell_type": "code",
   "execution_count": 160,
   "id": "c5475759",
   "metadata": {},
   "outputs": [],
   "source": [
    "word_token = \"\"\n",
    "word_token = word_token.join(sent_p)\n"
   ]
  },
  {
   "cell_type": "code",
   "execution_count": 161,
   "id": "85688e1f",
   "metadata": {},
   "outputs": [
    {
     "data": {
      "text/plain": [
       "'ت'"
      ]
     },
     "execution_count": 161,
     "metadata": {},
     "output_type": "execute_result"
    }
   ],
   "source": [
    "word_token[0:1]"
   ]
  },
  {
   "cell_type": "code",
   "execution_count": 162,
   "id": "75e5878d",
   "metadata": {},
   "outputs": [],
   "source": [
    "list_t=[]"
   ]
  },
  {
   "cell_type": "code",
   "execution_count": 163,
   "id": "606b9aab",
   "metadata": {},
   "outputs": [],
   "source": [
    "for i in sent_p:\n",
    "    word_token_n = word_tokenize(i)\n",
    "    a = \"\"\n",
    "    filtered_sen = [i for i in word_token_n if not i.lower() in stop_words]\n",
    "    for i in filtered_sen:\n",
    "        a = a+i+\" \"\n",
    "    list_t.append(a)"
   ]
  },
  {
   "cell_type": "code",
   "execution_count": 164,
   "id": "6fc42889",
   "metadata": {},
   "outputs": [
    {
     "data": {
      "text/plain": [
       "['یادداشت تیز ',\n",
       " 'رانا اسلم پینو بھمبیری ',\n",
       " 'پھٹا چولہا اچھا عشق ؤں موت وقت نیب مریم نواز پیچھا مقام انصاف خاطر مریم نواز نیب تعاقب وقت نیب مریم نواز پیچھا مقام انصاف خاطر مریم نواز نیب تعاقب وقت نیب مریم نواز پیچھا مقام انصاف خاطر مریم نواز نیب تعاقب وقت نیب مریم نواز پیچھا مقام انصاف خاطر مریم نواز نیب تعاقب گولی ماروں پاکستان رشوت وکھری رشوت ',\n",
       " 'کراچی رشوت خور منشی وقت نیب مریم نواز پیچھا مقام انصاف خاطر مریم نواز نیب تعاقب مریخ بٹ صحت کارڈ سہولت وزیراعظم عمران خان پاکستانی مہیا کوشاں ',\n",
       " 'پنجاب راجن ڈیرہ چاچوتم سارا نظام ٹرائی مرتبہ آئین پاکستان نظام نافذ ہوسکتا وقت نیب مریم نواز پیچھا مقام انصاف خاطر مریم نواز نیب تعاقب لفظ ',\n",
       " 'اللہ نبض مٹھی بات فرق پڑ رفتار مدہم وقت نیب مریم نواز پیچھا مقام انصاف خاطر مریم نواز نیب تعاقب ',\n",
       " 'سیرت صحابہرضیاللہعنہم ',\n",
       " 'المومنین سیدہ خدیجہ رضی اللہ عنہا ',\n",
       " 'کےفخر شرف چیلنج بسی رب ',\n",
       " 'جہاں خود سمجھ باہر ',\n",
       " 'اردوزبان خان صاحب غریب غریب کردیا ',\n",
       " 'امیر امیر کردیا ',\n",
       " 'خان صاحب گل روشنی دیو تھواڈا مافیا قسم دا مےں اپوزیشن دلال مرضی وقت نیب مریم نواز پیچھا مقام انصاف خاطر مریم نواز نیب تعاقب افشاں لطیف ساری عوام اپوزیشن سمجھ احتجاج لیڈر عوام ',\n",
       " 'وقت نیب مریم نواز پیچھا مقام انصاف خاطر مریم نواز نیب تعاقب وقت نیب مریم نواز پیچھا مقام انصاف خاطر مریم نواز نیب تعاقب گوادر بلوچستان ',\n",
       " 'بلوچ اندر احساس برتری احساس محروم خطرناک وقت نیب مریم نواز پیچھا مقام انصاف خاطر مریم نواز نیب تعاقب زرتاج گل علی عوان شہباز گل اگریسیو اپروچ ',\n",
       " 'میڈیا نےحکومت خلاف خوامخواہ دشمنی پال بن عشق بنا ',\n",
       " 'اتنا وقت نیب مریم نواز پیچھا مقام انصاف خاطر مریم نواز نیب تعاقب وقت نیب مریم نواز پیچھا مقام انصاف خاطر مریم نواز نیب تعاقب وقت نیب مریم نواز پیچھا مقام انصاف خاطر مریم نواز نیب تعاقب وقت نیب مریم نواز پیچھا مقام انصاف خاطر مریم نواز نیب تعاقب ملک سیسٹم درست اچھا معاشرہ تشکیل ممکن بندہ غیرت مند تعلیمی ادارہ ڈیفنڈ فرض سمجھ ',\n",
       " 'بغیرت بھونکنے فرق وقت نیب مریم نواز پیچھا مقام انصاف خاطر مریم نواز نیب تعاقب اردوزبان ',\n",
       " 'بہتا آنسو جھلک کتنا دکھا ',\n",
       " 'آنکھ گال بھگو مٹی مل ',\n",
       " 'احمد مشتاق وقت نیب مریم نواز پیچھا مقام انصاف خاطر مریم نواز نیب تعاقب کراچی ',\n",
       " 'وقت نیب مریم نواز پیچھا مقام انصاف خاطر مریم نواز نیب تعاقب اعلان ',\n",
       " 'ڈیٹھ سرٹیفکیٹ بن جوکہ یکم فروری یکم فروری ہہلہ ڈیتھ سرٹیفکیٹ بنوا پاکپتن کسان پنجاب پولیس غنڈہ گردی کاشت کار ٹریکٹر روک ٹائر نکال اسلام آباد ہائیکورٹ ججز دیانت حملہ کرنےوالےمیرشکیل الرحمان جرم عائد خواجہ آصف وکیل وزیراعظم وقت نیب مریم نواز پیچھا مقام انصاف خاطر مریم نواز نیب تعاقب وقت نیب مریم نواز پیچھا مقام انصاف خاطر مریم نواز نیب تعاقب وقت نیب مریم نواز پیچھا مقام انصاف خاطر مریم نواز نیب تعاقب ملک چار بار صدارتی نظام نافذ بار عوام ناقابل تلافی نقصان پڑ ',\n",
       " 'عوام ہوش افغانستان سیاسی اقتصادی حالات بتدریج بہتر تنخواہ ادائیگی لڑکی تعلیمی ادارہ سمیت وقت نیب مریم نواز پیچھا مقام انصاف خاطر مریم نواز نیب تعاقب وقت نیب مریم نواز پیچھا مقام انصاف خاطر مریم نواز نیب تعاقب عمر محمد زبیر بھائی انصاف پسندوں محمد زبیر وجہ وقت نیب مریم نواز پیچھا مقام انصاف خاطر مریم نواز نیب تعاقب وقت نیب مریم نواز پیچھا مقام انصاف خاطر مریم نواز نیب تعاقب مہکت گلاب ',\n",
       " 'آنگن جاٶں وقت نیب مریم نواز پیچھا مقام انصاف خاطر مریم نواز نیب تعاقب وقت نیب مریم نواز پیچھا مقام انصاف خاطر مریم نواز نیب تعاقب وقت نیب مریم نواز پیچھا مقام انصاف خاطر مریم نواز نیب تعاقب بابا رضوی گھرانا چشم چراغ ہمیشہ سلامت ',\n",
       " 'حاسدین حسد محفوظ ',\n",
       " 'دن دوگنی رات چوگنی ترقی نصیب ',\n",
       " 'آمی وقت نیب مریم نواز پیچھا مقام انصاف خاطر مریم نواز نیب تعاقب ',\n",
       " '',\n",
       " '']"
      ]
     },
     "execution_count": 164,
     "metadata": {},
     "output_type": "execute_result"
    }
   ],
   "source": [
    "list_t[0:30]"
   ]
  },
  {
   "cell_type": "code",
   "execution_count": 28,
   "id": "1bb7f919",
   "metadata": {},
   "outputs": [
    {
     "ename": "TypeError",
     "evalue": "expected string or bytes-like object",
     "output_type": "error",
     "traceback": [
      "\u001b[1;31m---------------------------------------------------------------------------\u001b[0m",
      "\u001b[1;31mTypeError\u001b[0m                                 Traceback (most recent call last)",
      "\u001b[1;32mC:\\Users\\BILAWA~1\\AppData\\Local\\Temp/ipykernel_4020/715116474.py\u001b[0m in \u001b[0;36m<module>\u001b[1;34m\u001b[0m\n\u001b[0;32m      5\u001b[0m     \u001b[1;32mreturn\u001b[0m \u001b[0mtext\u001b[0m\u001b[1;33m\u001b[0m\u001b[1;33m\u001b[0m\u001b[0m\n\u001b[0;32m      6\u001b[0m \u001b[1;33m\u001b[0m\u001b[0m\n\u001b[1;32m----> 7\u001b[1;33m \u001b[0mcloud_words\u001b[0m \u001b[1;33m=\u001b[0m \u001b[0msplit_on_space\u001b[0m\u001b[1;33m(\u001b[0m\u001b[0mlist_t\u001b[0m\u001b[1;33m)\u001b[0m\u001b[1;33m\u001b[0m\u001b[1;33m\u001b[0m\u001b[0m\n\u001b[0m",
      "\u001b[1;32mC:\\Users\\BILAWA~1\\AppData\\Local\\Temp/ipykernel_4020/715116474.py\u001b[0m in \u001b[0;36msplit_on_space\u001b[1;34m(text)\u001b[0m\n\u001b[0;32m      2\u001b[0m \u001b[1;32mdef\u001b[0m \u001b[0msplit_on_space\u001b[0m\u001b[1;33m(\u001b[0m\u001b[0mtext\u001b[0m\u001b[1;33m)\u001b[0m\u001b[1;33m:\u001b[0m\u001b[1;33m\u001b[0m\u001b[1;33m\u001b[0m\u001b[0m\n\u001b[0;32m      3\u001b[0m     \u001b[1;32mimport\u001b[0m \u001b[0mre\u001b[0m\u001b[1;33m\u001b[0m\u001b[1;33m\u001b[0m\u001b[0m\n\u001b[1;32m----> 4\u001b[1;33m     \u001b[0mtext\u001b[0m \u001b[1;33m=\u001b[0m \u001b[0mre\u001b[0m\u001b[1;33m.\u001b[0m\u001b[0msub\u001b[0m\u001b[1;33m(\u001b[0m\u001b[1;34m\"\\s\"\u001b[0m\u001b[1;33m,\u001b[0m \u001b[1;34m\"\\''\"\u001b[0m\u001b[1;33m,\u001b[0m\u001b[0mtext\u001b[0m\u001b[1;33m)\u001b[0m\u001b[1;33m\u001b[0m\u001b[1;33m\u001b[0m\u001b[0m\n\u001b[0m\u001b[0;32m      5\u001b[0m     \u001b[1;32mreturn\u001b[0m \u001b[0mtext\u001b[0m\u001b[1;33m\u001b[0m\u001b[1;33m\u001b[0m\u001b[0m\n\u001b[0;32m      6\u001b[0m \u001b[1;33m\u001b[0m\u001b[0m\n",
      "\u001b[1;32mc:\\users\\bilawal ali\\appdata\\local\\programs\\python\\python37\\lib\\re.py\u001b[0m in \u001b[0;36msub\u001b[1;34m(pattern, repl, string, count, flags)\u001b[0m\n\u001b[0;32m    192\u001b[0m     \u001b[0ma\u001b[0m \u001b[0mcallable\u001b[0m\u001b[1;33m,\u001b[0m \u001b[0mit\u001b[0m\u001b[0;31m'\u001b[0m\u001b[0ms\u001b[0m \u001b[0mpassed\u001b[0m \u001b[0mthe\u001b[0m \u001b[0mMatch\u001b[0m \u001b[0mobject\u001b[0m \u001b[1;32mand\u001b[0m \u001b[0mmust\u001b[0m \u001b[1;32mreturn\u001b[0m\u001b[1;33m\u001b[0m\u001b[1;33m\u001b[0m\u001b[0m\n\u001b[0;32m    193\u001b[0m     a replacement string to be used.\"\"\"\n\u001b[1;32m--> 194\u001b[1;33m     \u001b[1;32mreturn\u001b[0m \u001b[0m_compile\u001b[0m\u001b[1;33m(\u001b[0m\u001b[0mpattern\u001b[0m\u001b[1;33m,\u001b[0m \u001b[0mflags\u001b[0m\u001b[1;33m)\u001b[0m\u001b[1;33m.\u001b[0m\u001b[0msub\u001b[0m\u001b[1;33m(\u001b[0m\u001b[0mrepl\u001b[0m\u001b[1;33m,\u001b[0m \u001b[0mstring\u001b[0m\u001b[1;33m,\u001b[0m \u001b[0mcount\u001b[0m\u001b[1;33m)\u001b[0m\u001b[1;33m\u001b[0m\u001b[1;33m\u001b[0m\u001b[0m\n\u001b[0m\u001b[0;32m    195\u001b[0m \u001b[1;33m\u001b[0m\u001b[0m\n\u001b[0;32m    196\u001b[0m \u001b[1;32mdef\u001b[0m \u001b[0msubn\u001b[0m\u001b[1;33m(\u001b[0m\u001b[0mpattern\u001b[0m\u001b[1;33m,\u001b[0m \u001b[0mrepl\u001b[0m\u001b[1;33m,\u001b[0m \u001b[0mstring\u001b[0m\u001b[1;33m,\u001b[0m \u001b[0mcount\u001b[0m\u001b[1;33m=\u001b[0m\u001b[1;36m0\u001b[0m\u001b[1;33m,\u001b[0m \u001b[0mflags\u001b[0m\u001b[1;33m=\u001b[0m\u001b[1;36m0\u001b[0m\u001b[1;33m)\u001b[0m\u001b[1;33m:\u001b[0m\u001b[1;33m\u001b[0m\u001b[1;33m\u001b[0m\u001b[0m\n",
      "\u001b[1;31mTypeError\u001b[0m: expected string or bytes-like object"
     ]
    }
   ],
   "source": [
    "#Cloud \n",
    "def split_on_space(text):\n",
    "    import re\n",
    "    text = re.sub(\"\\s\", \"\\''\",text)\n",
    "    return text\n",
    "\n",
    "cloud_words = split_on_space(list_t)"
   ]
  },
  {
   "cell_type": "code",
   "execution_count": null,
   "id": "b0f178f5",
   "metadata": {},
   "outputs": [],
   "source": [
    "#CLOUD\n",
    "from wordcloud import WordCloud\n",
    "from bidi.algorithm import get_display\n",
    "from arabic_reshaper import ArabicReshaper\n",
    "\n",
    "configuration = {\n",
    "    \"language\": \"Urdu\"\n",
    "}\n",
    "reshaper = ArabicReshaper(configuration=configuration)\n",
    "\n",
    "tweets_text = reshaper.reshape(df2[df2.columns[0]].all())\n",
    "tweets_text = get_display(tweets_text)\n",
    "\n",
    "\n",
    "wc = WordCloud(background_color=\"white\",width=1600, stopwords=list_t, height=800,font_path='NotoNaskhArabic-Regular.ttf', repeat=False)\n",
    "wc.generate(tweets_text)\n",
    "\n",
    "plt.axis(\"off\")\n",
    "plt.imshow(wc, interpolation=\"bilinear\")\n"
   ]
  },
  {
   "cell_type": "code",
   "execution_count": 26,
   "id": "4c848dca",
   "metadata": {},
   "outputs": [],
   "source": [
    "#filtered_sen = [i for i in word_token_n if not i.lower() in stop_words]"
   ]
  },
  {
   "cell_type": "code",
   "execution_count": 165,
   "id": "3c3dab0f",
   "metadata": {},
   "outputs": [],
   "source": [
    "df2 = pd.DataFrame(list_t,columns = [\"tweets\"])"
   ]
  },
  {
   "cell_type": "code",
   "execution_count": 166,
   "id": "a6182e63",
   "metadata": {},
   "outputs": [],
   "source": [
    "#df.to_string()"
   ]
  },
  {
   "cell_type": "code",
   "execution_count": 167,
   "id": "83ac0da4",
   "metadata": {},
   "outputs": [
    {
     "name": "stderr",
     "output_type": "stream",
     "text": [
      "c:\\users\\bilawal ali\\appdata\\local\\programs\\python\\python37\\lib\\site-packages\\sklearn\\utils\\deprecation.py:87: FutureWarning: Function get_feature_names is deprecated; get_feature_names is deprecated in 1.0 and will be removed in 1.2. Please use get_feature_names_out instead.\n",
      "  warnings.warn(msg, category=FutureWarning)\n"
     ]
    }
   ],
   "source": [
    "from sklearn.cluster import KMeans  \n",
    "data = df2\n",
    "tf_idf_vectorizor = TfidfVectorizer(max_features = 5000)\n",
    "tf_idf = tf_idf_vectorizor.fit_transform(df2['tweets'][:])\n",
    "tf_idf_norm = normalize(tf_idf)\n",
    "\n",
    "tf_idf_array = tf_idf_norm.toarray()\n",
    "a = pd.DataFrame(tf_idf_array, columns=tf_idf_vectorizor.get_feature_names())"
   ]
  },
  {
   "cell_type": "code",
   "execution_count": 168,
   "id": "3132bb00",
   "metadata": {},
   "outputs": [
    {
     "data": {
      "text/html": [
       "<div>\n",
       "<style scoped>\n",
       "    .dataframe tbody tr th:only-of-type {\n",
       "        vertical-align: middle;\n",
       "    }\n",
       "\n",
       "    .dataframe tbody tr th {\n",
       "        vertical-align: top;\n",
       "    }\n",
       "\n",
       "    .dataframe thead th {\n",
       "        text-align: right;\n",
       "    }\n",
       "</style>\n",
       "<table border=\"1\" class=\"dataframe\">\n",
       "  <thead>\n",
       "    <tr style=\"text-align: right;\">\n",
       "      <th></th>\n",
       "      <th>pcys</th>\n",
       "      <th>آئین</th>\n",
       "      <th>آئیے</th>\n",
       "      <th>آب</th>\n",
       "      <th>آباد</th>\n",
       "      <th>آبادی</th>\n",
       "      <th>آج</th>\n",
       "      <th>آجا</th>\n",
       "      <th>آجائے</th>\n",
       "      <th>آخر</th>\n",
       "      <th>...</th>\n",
       "      <th>یونین</th>\n",
       "      <th>یونیورسٹی</th>\n",
       "      <th>یوٹیلٹی</th>\n",
       "      <th>یوٹیوب</th>\n",
       "      <th>یوٹیوبر</th>\n",
       "      <th>یوٹیوبرز</th>\n",
       "      <th>یوٹیوبی</th>\n",
       "      <th>یکا</th>\n",
       "      <th>یکجہتی</th>\n",
       "      <th>یکم</th>\n",
       "    </tr>\n",
       "  </thead>\n",
       "  <tbody>\n",
       "    <tr>\n",
       "      <th>0</th>\n",
       "      <td>0.0</td>\n",
       "      <td>0.000000</td>\n",
       "      <td>0.0</td>\n",
       "      <td>0.0</td>\n",
       "      <td>0.0</td>\n",
       "      <td>0.0</td>\n",
       "      <td>0.0</td>\n",
       "      <td>0.0</td>\n",
       "      <td>0.0</td>\n",
       "      <td>0.0</td>\n",
       "      <td>...</td>\n",
       "      <td>0.0</td>\n",
       "      <td>0.0</td>\n",
       "      <td>0.0</td>\n",
       "      <td>0.0</td>\n",
       "      <td>0.0</td>\n",
       "      <td>0.0</td>\n",
       "      <td>0.0</td>\n",
       "      <td>0.0</td>\n",
       "      <td>0.0</td>\n",
       "      <td>0.0</td>\n",
       "    </tr>\n",
       "    <tr>\n",
       "      <th>1</th>\n",
       "      <td>0.0</td>\n",
       "      <td>0.000000</td>\n",
       "      <td>0.0</td>\n",
       "      <td>0.0</td>\n",
       "      <td>0.0</td>\n",
       "      <td>0.0</td>\n",
       "      <td>0.0</td>\n",
       "      <td>0.0</td>\n",
       "      <td>0.0</td>\n",
       "      <td>0.0</td>\n",
       "      <td>...</td>\n",
       "      <td>0.0</td>\n",
       "      <td>0.0</td>\n",
       "      <td>0.0</td>\n",
       "      <td>0.0</td>\n",
       "      <td>0.0</td>\n",
       "      <td>0.0</td>\n",
       "      <td>0.0</td>\n",
       "      <td>0.0</td>\n",
       "      <td>0.0</td>\n",
       "      <td>0.0</td>\n",
       "    </tr>\n",
       "    <tr>\n",
       "      <th>2</th>\n",
       "      <td>0.0</td>\n",
       "      <td>0.000000</td>\n",
       "      <td>0.0</td>\n",
       "      <td>0.0</td>\n",
       "      <td>0.0</td>\n",
       "      <td>0.0</td>\n",
       "      <td>0.0</td>\n",
       "      <td>0.0</td>\n",
       "      <td>0.0</td>\n",
       "      <td>0.0</td>\n",
       "      <td>...</td>\n",
       "      <td>0.0</td>\n",
       "      <td>0.0</td>\n",
       "      <td>0.0</td>\n",
       "      <td>0.0</td>\n",
       "      <td>0.0</td>\n",
       "      <td>0.0</td>\n",
       "      <td>0.0</td>\n",
       "      <td>0.0</td>\n",
       "      <td>0.0</td>\n",
       "      <td>0.0</td>\n",
       "    </tr>\n",
       "    <tr>\n",
       "      <th>3</th>\n",
       "      <td>0.0</td>\n",
       "      <td>0.000000</td>\n",
       "      <td>0.0</td>\n",
       "      <td>0.0</td>\n",
       "      <td>0.0</td>\n",
       "      <td>0.0</td>\n",
       "      <td>0.0</td>\n",
       "      <td>0.0</td>\n",
       "      <td>0.0</td>\n",
       "      <td>0.0</td>\n",
       "      <td>...</td>\n",
       "      <td>0.0</td>\n",
       "      <td>0.0</td>\n",
       "      <td>0.0</td>\n",
       "      <td>0.0</td>\n",
       "      <td>0.0</td>\n",
       "      <td>0.0</td>\n",
       "      <td>0.0</td>\n",
       "      <td>0.0</td>\n",
       "      <td>0.0</td>\n",
       "      <td>0.0</td>\n",
       "    </tr>\n",
       "    <tr>\n",
       "      <th>4</th>\n",
       "      <td>0.0</td>\n",
       "      <td>0.217904</td>\n",
       "      <td>0.0</td>\n",
       "      <td>0.0</td>\n",
       "      <td>0.0</td>\n",
       "      <td>0.0</td>\n",
       "      <td>0.0</td>\n",
       "      <td>0.0</td>\n",
       "      <td>0.0</td>\n",
       "      <td>0.0</td>\n",
       "      <td>...</td>\n",
       "      <td>0.0</td>\n",
       "      <td>0.0</td>\n",
       "      <td>0.0</td>\n",
       "      <td>0.0</td>\n",
       "      <td>0.0</td>\n",
       "      <td>0.0</td>\n",
       "      <td>0.0</td>\n",
       "      <td>0.0</td>\n",
       "      <td>0.0</td>\n",
       "      <td>0.0</td>\n",
       "    </tr>\n",
       "  </tbody>\n",
       "</table>\n",
       "<p>5 rows × 2499 columns</p>\n",
       "</div>"
      ],
      "text/plain": [
       "   pcys      آئین  آئیے   آب  آباد  آبادی   آج  آجا  آجائے  آخر  ...  یونین  \\\n",
       "0   0.0  0.000000   0.0  0.0   0.0    0.0  0.0  0.0    0.0  0.0  ...    0.0   \n",
       "1   0.0  0.000000   0.0  0.0   0.0    0.0  0.0  0.0    0.0  0.0  ...    0.0   \n",
       "2   0.0  0.000000   0.0  0.0   0.0    0.0  0.0  0.0    0.0  0.0  ...    0.0   \n",
       "3   0.0  0.000000   0.0  0.0   0.0    0.0  0.0  0.0    0.0  0.0  ...    0.0   \n",
       "4   0.0  0.217904   0.0  0.0   0.0    0.0  0.0  0.0    0.0  0.0  ...    0.0   \n",
       "\n",
       "   یونیورسٹی  یوٹیلٹی  یوٹیوب  یوٹیوبر  یوٹیوبرز  یوٹیوبی  یکا  یکجہتی  یکم  \n",
       "0        0.0      0.0     0.0      0.0       0.0      0.0  0.0     0.0  0.0  \n",
       "1        0.0      0.0     0.0      0.0       0.0      0.0  0.0     0.0  0.0  \n",
       "2        0.0      0.0     0.0      0.0       0.0      0.0  0.0     0.0  0.0  \n",
       "3        0.0      0.0     0.0      0.0       0.0      0.0  0.0     0.0  0.0  \n",
       "4        0.0      0.0     0.0      0.0       0.0      0.0  0.0     0.0  0.0  \n",
       "\n",
       "[5 rows x 2499 columns]"
      ]
     },
     "execution_count": 168,
     "metadata": {},
     "output_type": "execute_result"
    }
   ],
   "source": [
    "a.head()"
   ]
  },
  {
   "cell_type": "code",
   "execution_count": 169,
   "id": "b13422b0",
   "metadata": {},
   "outputs": [
    {
     "data": {
      "text/plain": [
       "(927, 2499)"
      ]
     },
     "execution_count": 169,
     "metadata": {},
     "output_type": "execute_result"
    }
   ],
   "source": [
    "a.shape"
   ]
  },
  {
   "cell_type": "code",
   "execution_count": 170,
   "id": "430fce8a",
   "metadata": {},
   "outputs": [],
   "source": [
    "from sklearn.cluster import KMeans\n",
    "wcss = [] \n",
    "for i in range(1, 20): \n",
    "    kmeans = KMeans(n_clusters = i, init = 'k-means++')\n",
    "    kmeans.fit(a) \n",
    "    wcss.append(kmeans.inertia_)\n"
   ]
  },
  {
   "cell_type": "code",
   "execution_count": 171,
   "id": "ac96f884",
   "metadata": {},
   "outputs": [
    {
     "data": {
      "image/png": "[encoded data removed]",
      "text/plain": [
       "<Figure size 432x288 with 1 Axes>"
      ]
     },
     "metadata": {
      "needs_background": "light"
     },
     "output_type": "display_data"
    }
   ],
   "source": [
    "plt.plot(range(1, 20), wcss)\n",
    "plt.xlabel('Number of clusters')\n",
    "plt.ylabel('WCSS') \n",
    "plt.show()"
   ]
  },
  {
   "cell_type": "code",
   "execution_count": 31,
   "id": "00767fb1",
   "metadata": {},
   "outputs": [],
   "source": [
    "k = 3\n",
    "model = KMeans(n_clusters=k)\n",
    "\n",
    "labels = model.fit(tf_idf_array)"
   ]
  },
  {
   "cell_type": "code",
   "execution_count": 32,
   "id": "dde5a88d",
   "metadata": {},
   "outputs": [
    {
     "name": "stdout",
     "output_type": "stream",
     "text": [
      "Top terms per cluster:\n",
      "Cluster 0:\n",
      " استعمال\n",
      " کینسر\n",
      " وجہ\n",
      " پانی\n",
      " ساتھ\n",
      " علاج\n",
      " کم\n",
      " سال\n",
      " دنیا\n",
      " افراد\n",
      "Cluster 1:\n",
      " فلم\n",
      " خان\n",
      " پاکستان\n",
      " ٹیم\n",
      " ساتھ\n",
      " علی\n",
      " کرکٹ\n",
      " کیلیے\n",
      " لاہور\n",
      " ووڈ\n",
      "Cluster 2:\n",
      " روپے\n",
      " ارب\n",
      " فوٹو\n",
      " فائل\n",
      " بجٹ\n",
      " ٹیکس\n",
      " ڈالر\n",
      " فیصد\n",
      " حکومت\n",
      " کروڑ\n"
     ]
    },
    {
     "name": "stderr",
     "output_type": "stream",
     "text": [
      "c:\\users\\bilawal ali\\appdata\\local\\programs\\python\\python37\\lib\\site-packages\\sklearn\\utils\\deprecation.py:87: FutureWarning: Function get_feature_names is deprecated; get_feature_names is deprecated in 1.0 and will be removed in 1.2. Please use get_feature_names_out instead.\n",
      "  warnings.warn(msg, category=FutureWarning)\n"
     ]
    }
   ],
   "source": [
    "print(\"Top terms per cluster:\")\n",
    "order_centroids = model.cluster_centers_.argsort()[:, ::-1]\n",
    "terms = tf_idf_vectorizor.get_feature_names()\n",
    "for i in range(k):\n",
    "    print(\"Cluster %d:\" % i),\n",
    "    for ind in order_centroids[i, :10]:\n",
    "        print(' %s' % terms[ind]),\n",
    "    print"
   ]
  },
  {
   "cell_type": "code",
   "execution_count": 30,
   "id": "0d61a154",
   "metadata": {},
   "outputs": [
    {
     "data": {
      "text/plain": [
       "(6839, 1)"
      ]
     },
     "execution_count": 30,
     "metadata": {},
     "output_type": "execute_result"
    }
   ],
   "source": [
    "df.shape"
   ]
  },
  {
   "cell_type": "code",
   "execution_count": 31,
   "id": "06aa7a60",
   "metadata": {},
   "outputs": [],
   "source": [
    "sklearn_pca = PCA(n_components = 2)\n",
    "Y_sklearn = sklearn_pca.fit_transform(tf_idf_array)"
   ]
  },
  {
   "cell_type": "code",
   "execution_count": 32,
   "id": "40db776e",
   "metadata": {},
   "outputs": [],
   "source": [
    "predicted_values = model.predict(tf_idf_array)"
   ]
  },
  {
   "cell_type": "code",
   "execution_count": 33,
   "id": "7f726395",
   "metadata": {},
   "outputs": [
    {
     "data": {
      "text/plain": [
       "<matplotlib.collections.PathCollection at 0x20e4a514708>"
      ]
     },
     "execution_count": 33,
     "metadata": {},
     "output_type": "execute_result"
    },
    {
     "data": {
      "image/png": "[encoded data removed]",
      "text/plain": [
       "<Figure size 432x288 with 1 Axes>"
      ]
     },
     "metadata": {
      "needs_background": "light"
     },
     "output_type": "display_data"
    }
   ],
   "source": [
    "plt.scatter(Y_sklearn[:, 0], Y_sklearn[:, 1], c=predicted_values, s=50, cmap='viridis')\n"
   ]
  },
  {
   "cell_type": "code",
   "execution_count": 34,
   "id": "14d27ff0",
   "metadata": {},
   "outputs": [
    {
     "name": "stdout",
     "output_type": "stream",
     "text": [
      "[2 2 2 ... 0 0 0]\n"
     ]
    }
   ],
   "source": [
    "print(predicted_values)"
   ]
  },
  {
   "cell_type": "code",
   "execution_count": 35,
   "id": "8d990a37",
   "metadata": {},
   "outputs": [],
   "source": [
    "clusters = []\n",
    "for i in range(k):\n",
    "    clusters.append([])\n",
    "\n",
    "for i,row in df.iterrows():\n",
    "    clusters[predicted_values[i]].append(row['tweets'])"
   ]
  },
  {
   "cell_type": "code",
   "execution_count": 36,
   "id": "3b40f276",
   "metadata": {},
   "outputs": [],
   "source": [
    "dfcluster = []\n",
    "for i,row in df.iterrows():\n",
    "    dfcluster.append([row['tweets'] , str(predicted_values[i])])"
   ]
  },
  {
   "cell_type": "code",
   "execution_count": 37,
   "id": "a92a67d7",
   "metadata": {},
   "outputs": [],
   "source": [
    "dfc = pd.DataFrame(dfcluster, columns = ['tweets','cluster'])"
   ]
  },
  {
   "cell_type": "code",
   "execution_count": 38,
   "id": "2a8533d0",
   "metadata": {},
   "outputs": [
    {
     "name": "stdout",
     "output_type": "stream",
     "text": [
      "Cluster: 0\n",
      "’’ایکسپریس‘‘ کو دستیاب دستاویزکے مطابق یہ اہم فیصلے ایف بی آرکے ممبر کسٹمز زاہدکھوکھرکی زیرصدارت اجلاس میں کیے گئے جس میں یہ بھی فیصلہ کیا گیا کہ کسٹمزکراچی کے وی بوک اوراس کے نیٹ ورک ڈیٹا سینٹر کی فعالیت کو برقرار رکھنے کے لیے پاکستان ریونیو آٹومیشن لمیٹڈ کی جانب سے ضرورت کے مطابق بروقت پروکیورمنٹس کو بھی یقینی بنایا جائے گا تاکہ آئندہ کسٹمز کراچی کے وی بوک نیٹ ورک ڈیٹا سینٹر میں بریک ڈاون کی صورتحال سے بچا جا سکے۔\n",
      "\n",
      "اجلاس میں یہ بھی فیصلہ کیا گیا کہ 1ارب30کروڑ روپے سے زائد مالیت کے گڈز ڈکلیئریشن فنڈ کے استعمال کے لیے خصوصی سیکریٹریٹ قائم کیا جائے گا اور یہ سیکریٹریٹ 14دسمبر 2017کو جاری کردہ کسٹمز جنرل آرڈر نمبر8 کے مطابق جی ڈی فنڈ کو استعمال میں لائے گا۔\n",
      "\n",
      "ذرائع کے مطابق 2 ہفتے قبل کسٹمز ہاؤس کراچی کے وی بوک نیٹ ورک ڈیٹا سینٹر میں بریک ڈاؤن سے کنسائنمنٹس کی کلیئرنس میں بڑے پیمانے پر خلل پیدا ہوا اور اس صورتحال سے نمٹنے کے لیے 14 اپریل کو ہنگامی ویڈیوکانفرنس کال کی گئی جس میں صورتحال کا تفصیلی جائزہ لیا گیا، اس کانفرنس میںاس بریک ڈاؤن پر قابو پانے اور فوری انتظامات کے لیے ایف بی آر سے فوری طور پر 32 ہزار ڈالرفراہم کرنے کی درخواست کی گئی تاکہ وی باکس آپریشنز جاری رکھے جا سکیں اورکنسائنمنٹس کی بروقت کلیئرنس کو یقینی بنایا جاسکے۔\n",
      "\n",
      "دستاویز کے مطابق ایف بی آرکے ممبر آئی ٹی اور چیف ایگزیکٹو آفیسر پرال کو بورڈ ان کونسل کے فیصلے کے مطابق ڈیٹا سینٹرز کی فوری گریڈیشن اور وی بوک اوراسکے نیٹ ورک ڈیٹا سینٹر کی فعالیت کو برقرار رکھنے کے لیے بروقت پروکیورمنٹس |یقینی بنانے کی ذمے داری سونپی گئی۔\n",
      "\n",
      "کراچی: بزنس مین گروپ کے چیئرمین اور کراچی چیمبر آف کامرس اینڈ انڈسٹری کے صدر سراج قاسم تیلی نے کہا ہے کہ ایکسپو سینٹر کراچی میں 3روز تک جاری رہنے والی 15ویں ’’ مائی کراچی ‘‘ نمائش کے دوران ایکسپو سینٹر کے تمام 6ہالز مکمل طور پر بھرے رہے جو کراچی چیمبر او بزنس مین گروپ کے لیے بڑا اعزاز ہے، یہ نمائش بزنس مین گروپ اور کراچی چیمبر کی شناخت بن گئی ہے۔\n",
      "\n",
      "Cluster: 1\n",
      "ہارون اختر خان\n",
      "\n",
      "ممبئی: بالی ووڈ اداکار رنبیر کپور نے سنجے دت کی زندگی پر فلمائی گئی فلم کے بعد اپنی زندگی پر مبنی فلم سے متعلق اہم انکشاف کردیا۔\n",
      "\n",
      "بالی ووڈ میں چاکلیٹی ہیرو کے نام سے پہچانے جانے والے رنبیر کپور اداکاری کی میدان میں خدا داد صلاحتیوں کے مالک ہیں جو ہرکردار کو بخوبی سرانجام دیتے ہیں جس کی مثال ’روک اسٹار اور ’تماشہ‘ جیسی فلمیں ہیں اور یہی وجہ ہے کہ سنجے دت کی زندگی پر بنائی گئی فلم کے لئے رنبیر کو چنا گیا جس کے بعد رنبیر نے اپنی زندگی پر مبنی فلم سے متعلق اہم انکشاف کردیا۔\n",
      "\n",
      "بھارتی میڈیا رپورٹس کے مطابق بالی ووڈ کے نامور اداکار رنبیر کپور کا اپنی زندگی پر مبنی فلم سے متعلق کہنا تھا کہ ’میں اپنی فلم کے لئے تیار ہوں لیکن میری زندگی کوئی متاثر کن نہیں کیوں کہ میں ایک انتہائی بورنگ شخص ہوں اگر بگ باس کے گھر کی طرح ہر جگہ میرے ارد گرد کیمرے نصب کردیئے جائیں تو اندازہ ہو جائے گا کہ میں صرف کام کرتا ہوں اور پھر سیدھے گھر آجاتا ہوں اور میری زندگی میں کچھ نہیں۔\n",
      "\n",
      "رنبیر نے مزید کہا کہ  اگر کوئی میری زندگی پر فلم بنانا چاہتا ہے تو خوشی سے بنائے مجھے کوئی اعتراض نہیں لیکن میرا نہیں خیال کہ یہ فلم کامیاب ہوگی یہ اس سے کوئی پیغام جائے گا۔\n",
      "\n",
      "Cluster: 2\n",
      "اے سی سی اے کی جانب سے جمع کرائی گئی ٹیکس تجاویز میں ٹیکس کی شرح کو کم کر کے یک ہندسی کرنے، ڈائریکٹ ٹیکسیشن کی رفتار میں اضافے، نادرا ڈیٹا بیس اور ودہولڈنگ ٹیکس ڈیٹا کے استعمال اور اثاثہ جات کی تشخیص شامل ہیں۔ اے سی سی اے کی اسٹرکچرل ریفارمز میں ٹیکس دہندہ کے تمام ٹیکس امور کیلیے ایک ٹیکس ریٹرن تجویز کیاگیا ہے\n",
      "\n",
      "تجاویز میں کہاگیا کہ پاکستان کی ٹیکس ٹو جی ڈی پی شرح خطے میں سب سے کم مگر کارپوریٹ ٹیکس کی شرح 30 فیصد کی بلند سطح پر ہے، ٹیکس حکام کو اسے کم کرنے کی ضرورت ہے، سیلز ٹیکس بھی خطے میں انتہائی بلند یعنی 17 فیصد ہے جو\n",
      "\n",
      "|ایشیا میں اوسطاً 12 فیصد کے قریب ہے، سیلز ٹیکس بھی کم  اور براہ راست ٹیکس کے متبادل کے بجائے ٹیکس بیس کی توسیع کیلیے استعمال کیا جانا چاہیے۔\n",
      "\n",
      "اسلام آباد: ایف بی آرنے 1 ارب30کروڑ روپے سے زائد مالیت کے گڈز ڈکلیئریشن فنڈ کے استعمال کیلیے خصوصی سیکریٹریٹ قائم کرنے اور ایف بی آر ہیڈ کوارٹرز اورکسٹمز ہاؤس کراچی میں قائم ڈیٹا سینٹرزکی اپ گریڈیشن کرنے کا فیصلہ کیا ہے۔\n",
      "\n",
      "اس بارے میں ایف بی آر حکام کا کہنا ہے کہ ایف بی آر نے 2011 میں درآمدی کنسائنمنٹس کی پروسیسنگ پر 250 روپے فی کنسائنمنٹ کے حساب سے گڈز ڈکلیئریشن پروسیسنگ فیس عائد کی تھی جس کی مد میں اب تک ایف بی آر کو 1ارب30کروڑ روپے سے زائد کا ریونیو حاصل ہوچکا ہے جو گڈز ڈکلیئریشن فنڈ میں موجود ہے جسے اب استعمال کرنے کا فیصلہ کیا ہے۔\n",
      "\n"
     ]
    }
   ],
   "source": [
    "for i in range(len(clusters)):\n",
    "    print(\"Cluster: \" + str(i))\n",
    "    for j in range(5):\n",
    "        print(clusters[i][j]+'\\n')"
   ]
  },
  {
   "cell_type": "code",
   "execution_count": null,
   "id": "e77f26ec",
   "metadata": {},
   "outputs": [],
   "source": []
  }
 ],
 "metadata": {
  "kernelspec": {
   "display_name": "Python 3 (ipykernel)",
   "language": "python",
   "name": "python3"
  },
  "language_info": {
   "codemirror_mode": {
    "name": "ipython",
    "version": 3
   },
   "file_extension": ".py",
   "mimetype": "text/x-python",
   "name": "python",
   "nbconvert_exporter": "python",
   "pygments_lexer": "ipython3",
   "version": "3.10.3"
  }
 },
 "nbformat": 4,
 "nbformat_minor": 5
}
